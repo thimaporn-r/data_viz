{
  "nbformat": 4,
  "nbformat_minor": 0,
  "metadata": {
    "colab": {
      "name": "Visualize Data Comparison.ipynb",
      "provenance": [],
      "authorship_tag": "ABX9TyP5Z8PEJo509PEpKoz8ZX4e",
      "include_colab_link": true
    },
    "kernelspec": {
      "name": "python3",
      "display_name": "Python 3"
    },
    "language_info": {
      "name": "python"
    }
  },
  "cells": [
    {
      "cell_type": "markdown",
      "metadata": {
        "id": "view-in-github",
        "colab_type": "text"
      },
      "source": [
        "<a href=\"https://colab.research.google.com/github/thimaporn-r/data_viz/blob/main/Visualize_Data_Comparison.ipynb\" target=\"_parent\"><img src=\"https://colab.research.google.com/assets/colab-badge.svg\" alt=\"Open In Colab\"/></a>"
      ]
    },
    {
      "cell_type": "code",
      "metadata": {
        "id": "_hGgoNUcJ1De"
      },
      "source": [
        "import pandas as pd"
      ],
      "execution_count": 1,
      "outputs": []
    },
    {
      "cell_type": "code",
      "metadata": {
        "colab": {
          "base_uri": "https://localhost:8080/",
          "height": 945
        },
        "id": "SwO2yBVSMINK",
        "outputId": "45dba88d-47ba-4e04-c25e-f6936c236f9e"
      },
      "source": [
        "data1 =pd.read_csv('/content/search_request.csv')\n",
        "data1"
      ],
      "execution_count": 6,
      "outputs": [
        {
          "output_type": "execute_result",
          "data": {
            "text/html": [
              "<div>\n",
              "<style scoped>\n",
              "    .dataframe tbody tr th:only-of-type {\n",
              "        vertical-align: middle;\n",
              "    }\n",
              "\n",
              "    .dataframe tbody tr th {\n",
              "        vertical-align: top;\n",
              "    }\n",
              "\n",
              "    .dataframe thead th {\n",
              "        text-align: right;\n",
              "    }\n",
              "</style>\n",
              "<table border=\"1\" class=\"dataframe\">\n",
              "  <thead>\n",
              "    <tr style=\"text-align: right;\">\n",
              "      <th></th>\n",
              "      <th>Unnamed: 0</th>\n",
              "      <th>search_id</th>\n",
              "      <th>search_timestamp</th>\n",
              "      <th>user_agent</th>\n",
              "      <th>q</th>\n",
              "      <th>user_id</th>\n",
              "      <th>session_id</th>\n",
              "      <th>number_of_result</th>\n",
              "      <th>lat</th>\n",
              "      <th>long</th>\n",
              "    </tr>\n",
              "  </thead>\n",
              "  <tbody>\n",
              "    <tr>\n",
              "      <th>0</th>\n",
              "      <td>0</td>\n",
              "      <td>683de889-f923-494e-9d46-44a3d67b7259</td>\n",
              "      <td>2018-06-14 12:34:35.449</td>\n",
              "      <td>Wongnai/8.17.3 rv:8.17.3.3921 (iPhone5,4; iOS;...</td>\n",
              "      <td>NaN</td>\n",
              "      <td>NaN</td>\n",
              "      <td>5lqjjikta19d296mo7g2h1k86p</td>\n",
              "      <td>18.0</td>\n",
              "      <td>12.634739</td>\n",
              "      <td>101.463177</td>\n",
              "    </tr>\n",
              "    <tr>\n",
              "      <th>1</th>\n",
              "      <td>1</td>\n",
              "      <td>4a811230-ffa4-4631-a4c8-5d0394137d02</td>\n",
              "      <td>2018-06-14 17:11:19.469</td>\n",
              "      <td>Mozilla/5.0 (iPhone; CPU iPhone OS 11_4 like M...</td>\n",
              "      <td>NaN</td>\n",
              "      <td>NaN</td>\n",
              "      <td>1r3iotmp0o9slom91stdt9vivc</td>\n",
              "      <td>10.0</td>\n",
              "      <td>14.800882</td>\n",
              "      <td>102.533777</td>\n",
              "    </tr>\n",
              "    <tr>\n",
              "      <th>2</th>\n",
              "      <td>2</td>\n",
              "      <td>7ad6ee8e-438e-4bea-9183-74dcef9e358e</td>\n",
              "      <td>2018-06-14 13:22:31.736</td>\n",
              "      <td>Mozilla/5.0 (Linux; Android 7.0; SAMSUNG SM-J7...</td>\n",
              "      <td>NaN</td>\n",
              "      <td>NaN</td>\n",
              "      <td>5ci1eo4v5u9dha4ppgu94ue7p6</td>\n",
              "      <td>8.0</td>\n",
              "      <td>13.738260</td>\n",
              "      <td>100.371405</td>\n",
              "    </tr>\n",
              "    <tr>\n",
              "      <th>3</th>\n",
              "      <td>3</td>\n",
              "      <td>0c17a5f5-fa89-40f4-ae94-a8659268f827</td>\n",
              "      <td>2018-06-02 12:37:27.331</td>\n",
              "      <td>Mozilla/5.0 (Linux; Android 7.1.1; SM-N950F Bu...</td>\n",
              "      <td>NaN</td>\n",
              "      <td>NaN</td>\n",
              "      <td>39n535qgje9kpojp0grhfj8umk</td>\n",
              "      <td>12.0</td>\n",
              "      <td>12.666877</td>\n",
              "      <td>101.860838</td>\n",
              "    </tr>\n",
              "    <tr>\n",
              "      <th>4</th>\n",
              "      <td>4</td>\n",
              "      <td>6870dc3a-5602-44fc-80ed-df0a7783df9d</td>\n",
              "      <td>2018-06-02 11:19:22.404</td>\n",
              "      <td>Mozilla/5.0 (iPhone; CPU iPhone OS 11_3_1 like...</td>\n",
              "      <td>NaN</td>\n",
              "      <td>NaN</td>\n",
              "      <td>5pa03h6lj691to60erver1l8o4</td>\n",
              "      <td>14.0</td>\n",
              "      <td>12.237242</td>\n",
              "      <td>99.879998</td>\n",
              "    </tr>\n",
              "    <tr>\n",
              "      <th>...</th>\n",
              "      <td>...</td>\n",
              "      <td>...</td>\n",
              "      <td>...</td>\n",
              "      <td>...</td>\n",
              "      <td>...</td>\n",
              "      <td>...</td>\n",
              "      <td>...</td>\n",
              "      <td>...</td>\n",
              "      <td>...</td>\n",
              "      <td>...</td>\n",
              "    </tr>\n",
              "    <tr>\n",
              "      <th>620333</th>\n",
              "      <td>620343</td>\n",
              "      <td>cfea83d0-6d32-4cb4-bf67-8eb9d6fab85c</td>\n",
              "      <td>2018-06-16 18:02:11.018</td>\n",
              "      <td>Wongnai/8.17.1 (iPhone7,2; iOS; 11.0.2; th_TH;)</td>\n",
              "      <td>NaN</td>\n",
              "      <td>42939.0</td>\n",
              "      <td>4ngop4a2v79a191or7ac094nim</td>\n",
              "      <td>22.0</td>\n",
              "      <td>18.742441</td>\n",
              "      <td>98.960514</td>\n",
              "    </tr>\n",
              "    <tr>\n",
              "      <th>620334</th>\n",
              "      <td>620344</td>\n",
              "      <td>455949ab-fe79-455e-852e-d7884d37edaa</td>\n",
              "      <td>2018-06-16 18:02:34.719</td>\n",
              "      <td>Wongnai/8.17.1 (iPhone7,2; iOS; 11.0.2; th_TH;)</td>\n",
              "      <td>NaN</td>\n",
              "      <td>42939.0</td>\n",
              "      <td>4ngop4a2v79a191or7ac094nim</td>\n",
              "      <td>22.0</td>\n",
              "      <td>18.742441</td>\n",
              "      <td>98.960514</td>\n",
              "    </tr>\n",
              "    <tr>\n",
              "      <th>620335</th>\n",
              "      <td>620345</td>\n",
              "      <td>7abfb1d3-2e47-4595-bd84-15298b16dddd</td>\n",
              "      <td>2018-06-16 17:28:59.862</td>\n",
              "      <td>Wongnai/8.17.1 (iPhone8,1; iOS; 10.3.2; en_TH;)</td>\n",
              "      <td>NaN</td>\n",
              "      <td>NaN</td>\n",
              "      <td>15ctigpe769bpravf8hqp1fj6i</td>\n",
              "      <td>22.0</td>\n",
              "      <td>13.761228</td>\n",
              "      <td>100.497273</td>\n",
              "    </tr>\n",
              "    <tr>\n",
              "      <th>620336</th>\n",
              "      <td>620346</td>\n",
              "      <td>25b84a51-a6b6-41c0-b494-ea8a19a32cb0</td>\n",
              "      <td>2018-06-16 16:49:57.206</td>\n",
              "      <td>Wongnai/8.17.1 (iPhone8,1; iOS; 11.3.1; th_TH;)</td>\n",
              "      <td>NaN</td>\n",
              "      <td>118960.0</td>\n",
              "      <td>2knsp9p36f864p4mk7hiu6c0lq</td>\n",
              "      <td>22.0</td>\n",
              "      <td>13.711966</td>\n",
              "      <td>100.502028</td>\n",
              "    </tr>\n",
              "    <tr>\n",
              "      <th>620337</th>\n",
              "      <td>620347</td>\n",
              "      <td>0c293a88-06ee-45b6-a552-b4531e</td>\n",
              "      <td>NaN</td>\n",
              "      <td>NaN</td>\n",
              "      <td>NaN</td>\n",
              "      <td>NaN</td>\n",
              "      <td>NaN</td>\n",
              "      <td>NaN</td>\n",
              "      <td>NaN</td>\n",
              "      <td>NaN</td>\n",
              "    </tr>\n",
              "  </tbody>\n",
              "</table>\n",
              "<p>620338 rows × 10 columns</p>\n",
              "</div>"
            ],
            "text/plain": [
              "        Unnamed: 0                             search_id  ...        lat        long\n",
              "0                0  683de889-f923-494e-9d46-44a3d67b7259  ...  12.634739  101.463177\n",
              "1                1  4a811230-ffa4-4631-a4c8-5d0394137d02  ...  14.800882  102.533777\n",
              "2                2  7ad6ee8e-438e-4bea-9183-74dcef9e358e  ...  13.738260  100.371405\n",
              "3                3  0c17a5f5-fa89-40f4-ae94-a8659268f827  ...  12.666877  101.860838\n",
              "4                4  6870dc3a-5602-44fc-80ed-df0a7783df9d  ...  12.237242   99.879998\n",
              "...            ...                                   ...  ...        ...         ...\n",
              "620333      620343  cfea83d0-6d32-4cb4-bf67-8eb9d6fab85c  ...  18.742441   98.960514\n",
              "620334      620344  455949ab-fe79-455e-852e-d7884d37edaa  ...  18.742441   98.960514\n",
              "620335      620345  7abfb1d3-2e47-4595-bd84-15298b16dddd  ...  13.761228  100.497273\n",
              "620336      620346  25b84a51-a6b6-41c0-b494-ea8a19a32cb0  ...  13.711966  100.502028\n",
              "620337      620347        0c293a88-06ee-45b6-a552-b4531e  ...        NaN         NaN\n",
              "\n",
              "[620338 rows x 10 columns]"
            ]
          },
          "metadata": {
            "tags": []
          },
          "execution_count": 6
        }
      ]
    },
    {
      "cell_type": "code",
      "metadata": {
        "id": "KoHijDyJMKgD"
      },
      "source": [
        "from datetime import datetime"
      ],
      "execution_count": 7,
      "outputs": []
    },
    {
      "cell_type": "code",
      "metadata": {
        "id": "G625ieMDMjsA"
      },
      "source": [
        "data1['search_timestamp'] = pd.to_datetime(data1['search_timestamp'],format='%Y-%m-%d %H%M%S',errors='coerce')"
      ],
      "execution_count": 8,
      "outputs": []
    },
    {
      "cell_type": "code",
      "metadata": {
        "id": "2CmvUKJFNrGh"
      },
      "source": [
        "plt.bar([1,2,3,4,5,6,7],[data1])"
      ],
      "execution_count": null,
      "outputs": []
    },
    {
      "cell_type": "code",
      "metadata": {
        "id": "dEQIckJbNlmW"
      },
      "source": [
        ""
      ],
      "execution_count": null,
      "outputs": []
    }
  ]
}