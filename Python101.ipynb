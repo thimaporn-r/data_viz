{
  "nbformat": 4,
  "nbformat_minor": 0,
  "metadata": {
    "colab": {
      "name": "Python101.ipynb",
      "provenance": [],
      "authorship_tag": "ABX9TyOHsK2zS+b1h30fzz3wZRdG",
      "include_colab_link": true
    },
    "kernelspec": {
      "name": "python3",
      "display_name": "Python 3"
    }
  },
  "cells": [
    {
      "cell_type": "markdown",
      "metadata": {
        "id": "view-in-github",
        "colab_type": "text"
      },
      "source": [
        "<a href=\"https://colab.research.google.com/github/thimaporn-r/data_viz/blob/main/Python101.ipynb\" target=\"_parent\"><img src=\"https://colab.research.google.com/assets/colab-badge.svg\" alt=\"Open In Colab\"/></a>"
      ]
    },
    {
      "cell_type": "markdown",
      "metadata": {
        "id": "eu5KOH6VNrfe"
      },
      "source": [
        "3.141592653589"
      ]
    },
    {
      "cell_type": "code",
      "metadata": {
        "colab": {
          "base_uri": "https://localhost:8080/"
        },
        "id": "YwOxZAOGOMrI",
        "outputId": "563696c4-4748-468f-914b-b789fe06570f"
      },
      "source": [
        "3.141592653589"
      ],
      "execution_count": null,
      "outputs": [
        {
          "output_type": "execute_result",
          "data": {
            "text/plain": [
              "3.141592653589"
            ]
          },
          "metadata": {
            "tags": []
          },
          "execution_count": 1
        }
      ]
    },
    {
      "cell_type": "code",
      "metadata": {
        "id": "-45Mzz8pOmw6"
      },
      "source": [
        "a = 10"
      ],
      "execution_count": null,
      "outputs": []
    },
    {
      "cell_type": "code",
      "metadata": {
        "colab": {
          "base_uri": "https://localhost:8080/"
        },
        "id": "nXU36i4AO7bl",
        "outputId": "108781ba-cc29-4c7f-fe77-3745f87995ee"
      },
      "source": [
        "print(a)"
      ],
      "execution_count": null,
      "outputs": [
        {
          "output_type": "stream",
          "text": [
            "10\n"
          ],
          "name": "stdout"
        }
      ]
    },
    {
      "cell_type": "code",
      "metadata": {
        "colab": {
          "base_uri": "https://localhost:8080/"
        },
        "id": "usFQB4wIP9W1",
        "outputId": "db6f72b7-239e-49f9-f594-5ec480212b7c"
      },
      "source": [
        "b = 11.\r\n",
        "print(b)\r\n"
      ],
      "execution_count": null,
      "outputs": [
        {
          "output_type": "stream",
          "text": [
            "11.0\n"
          ],
          "name": "stdout"
        }
      ]
    },
    {
      "cell_type": "code",
      "metadata": {
        "colab": {
          "base_uri": "https://localhost:8080/"
        },
        "id": "6D9o-zIBQKLU",
        "outputId": "f02d04d2-8952-4170-d57a-94894c577084"
      },
      "source": [
        "c = \"Thima\"   # เราจะบอกว่าตัวแปรเป็นอักษรหรือข้อความโดยการใช้ single ' หรือ double quote \"\" ล้อมรอบ\r\n",
        "\r\n",
        "print(c)"
      ],
      "execution_count": null,
      "outputs": [
        {
          "output_type": "stream",
          "text": [
            "Thima\n"
          ],
          "name": "stdout"
        }
      ]
    },
    {
      "cell_type": "markdown",
      "metadata": {
        "id": "Wi2mbV7ffxBG"
      },
      "source": [
        "ตัวเลขที่เป็น string ไม่สามารถเอามา + - x / กับตัวเลขได้"
      ]
    },
    {
      "cell_type": "code",
      "metadata": {
        "id": "Jt-K4AJMft6_",
        "colab": {
          "base_uri": "https://localhost:8080/"
        },
        "outputId": "60f3ab47-bfd0-4cfc-ecfd-911fcdaa50ae"
      },
      "source": [
        "d = '10'\r\n",
        "print(d)"
      ],
      "execution_count": null,
      "outputs": [
        {
          "output_type": "stream",
          "text": [
            "10\n"
          ],
          "name": "stdout"
        }
      ]
    },
    {
      "cell_type": "code",
      "metadata": {
        "id": "UxhR8FCYf3rH",
        "colab": {
          "base_uri": "https://localhost:8080/",
          "height": 164
        },
        "outputId": "96cfd99e-63b2-4d52-e21c-daaffa197e1f"
      },
      "source": [
        "d + 1"
      ],
      "execution_count": null,
      "outputs": [
        {
          "output_type": "error",
          "ename": "TypeError",
          "evalue": "ignored",
          "traceback": [
            "\u001b[0;31m---------------------------------------------------------------------------\u001b[0m",
            "\u001b[0;31mTypeError\u001b[0m                                 Traceback (most recent call last)",
            "\u001b[0;32m<ipython-input-18-2d39be9af043>\u001b[0m in \u001b[0;36m<module>\u001b[0;34m()\u001b[0m\n\u001b[0;32m----> 1\u001b[0;31m \u001b[0md\u001b[0m \u001b[0;34m+\u001b[0m \u001b[0;36m1\u001b[0m\u001b[0;34m\u001b[0m\u001b[0;34m\u001b[0m\u001b[0m\n\u001b[0m",
            "\u001b[0;31mTypeError\u001b[0m: must be str, not int"
          ]
        }
      ]
    },
    {
      "cell_type": "markdown",
      "metadata": {
        "id": "he5MJZIZgAIA"
      },
      "source": [
        "variable casting (การเปลี่ยนชนิดของข้อมูล)"
      ]
    },
    {
      "cell_type": "code",
      "metadata": {
        "id": "wBlXw_pff-iK",
        "colab": {
          "base_uri": "https://localhost:8080/"
        },
        "outputId": "7455efb2-9b6a-41d6-c2f6-62656fbdb009"
      },
      "source": [
        "int(d) + 1"
      ],
      "execution_count": null,
      "outputs": [
        {
          "output_type": "execute_result",
          "data": {
            "text/plain": [
              "11"
            ]
          },
          "metadata": {
            "tags": []
          },
          "execution_count": 19
        }
      ]
    },
    {
      "cell_type": "code",
      "metadata": {
        "id": "8y0xyiAQgFAz",
        "colab": {
          "base_uri": "https://localhost:8080/"
        },
        "outputId": "728cd20c-4f90-4abe-855f-974abedd1097"
      },
      "source": [
        "print(a)\r\n",
        "print(float(a))\r\n",
        "print(str(a))"
      ],
      "execution_count": null,
      "outputs": [
        {
          "output_type": "stream",
          "text": [
            "10\n",
            "10.0\n",
            "10\n"
          ],
          "name": "stdout"
        }
      ]
    },
    {
      "cell_type": "markdown",
      "metadata": {
        "id": "ura4LcTKgNSf"
      },
      "source": [
        "Operation (Operators +,-,*,/,%)"
      ]
    },
    {
      "cell_type": "code",
      "metadata": {
        "id": "7I8dW9r9gIvc",
        "colab": {
          "base_uri": "https://localhost:8080/"
        },
        "outputId": "32c8b073-6864-4f08-e54a-c16213ca884f"
      },
      "source": [
        "a+b"
      ],
      "execution_count": null,
      "outputs": [
        {
          "output_type": "execute_result",
          "data": {
            "text/plain": [
              "21.0"
            ]
          },
          "metadata": {
            "tags": []
          },
          "execution_count": 21
        }
      ]
    },
    {
      "cell_type": "code",
      "metadata": {
        "id": "gP0gsHOLgP3h",
        "colab": {
          "base_uri": "https://localhost:8080/"
        },
        "outputId": "640f1379-d023-4035-f7fc-4ceddb5bfa19"
      },
      "source": [
        "ab = a+b\r\n",
        "print(ab)"
      ],
      "execution_count": null,
      "outputs": [
        {
          "output_type": "stream",
          "text": [
            "21.0\n"
          ],
          "name": "stdout"
        }
      ]
    },
    {
      "cell_type": "markdown",
      "metadata": {
        "id": "k-O2cjV5gdI2"
      },
      "source": [
        "% คือหมาย modulo"
      ]
    },
    {
      "cell_type": "code",
      "metadata": {
        "id": "vney0g5EgSkC",
        "colab": {
          "base_uri": "https://localhost:8080/"
        },
        "outputId": "bc2ceb6e-db0c-46f3-ed36-1ea8e972657a"
      },
      "source": [
        "5%3"
      ],
      "execution_count": null,
      "outputs": [
        {
          "output_type": "execute_result",
          "data": {
            "text/plain": [
              "2"
            ]
          },
          "metadata": {
            "tags": []
          },
          "execution_count": 24
        }
      ]
    },
    {
      "cell_type": "code",
      "metadata": {
        "id": "Xris44_jgkD6",
        "colab": {
          "base_uri": "https://localhost:8080/"
        },
        "outputId": "b42556ff-da15-4779-f579-f86c6eb15b5d"
      },
      "source": [
        "7%3"
      ],
      "execution_count": null,
      "outputs": [
        {
          "output_type": "execute_result",
          "data": {
            "text/plain": [
              "1"
            ]
          },
          "metadata": {
            "tags": []
          },
          "execution_count": 25
        }
      ]
    },
    {
      "cell_type": "markdown",
      "metadata": {
        "id": "2zJrqiL4goWz"
      },
      "source": [
        "คำสั่ง print แบบพิเศษ (การ format string)"
      ]
    },
    {
      "cell_type": "code",
      "metadata": {
        "colab": {
          "base_uri": "https://localhost:8080/"
        },
        "id": "hJkVcSOySuFa",
        "outputId": "33eb043f-49de-4450-fee7-925f3a6de124"
      },
      "source": [
        "print(\"ตัวแปร\")"
      ],
      "execution_count": null,
      "outputs": [
        {
          "output_type": "stream",
          "text": [
            "ตัวแปร\n"
          ],
          "name": "stdout"
        }
      ]
    },
    {
      "cell_type": "code",
      "metadata": {
        "colab": {
          "base_uri": "https://localhost:8080/"
        },
        "id": "FKHAhK9iV5k0",
        "outputId": "0b2360ca-d0b7-4c63-f08d-d459b6eb3138"
      },
      "source": [
        "print(f'% คือการหารเอาเศษ เช่น 7%3 = {7%3}') "
      ],
      "execution_count": null,
      "outputs": [
        {
          "output_type": "stream",
          "text": [
            "% คือการหารเอาเศษ เช่น 7%3 = 1\n"
          ],
          "name": "stdout"
        }
      ]
    },
    {
      "cell_type": "code",
      "metadata": {
        "id": "u4kicZVpg2Nr",
        "colab": {
          "base_uri": "https://localhost:8080/"
        },
        "outputId": "f4460acd-2ee3-4ada-a482-47b2fcbac455"
      },
      "source": [
        "print(f'% คือการหารเอาเศษ เช่น 7%3 = {7%3}  \\\\\r\n",
        "        แต่\\n/ คือการหารปกติ เช่น 7/3 = {7/3}   \\\\\r\n",
        "        และ\\n// คือการหารเอาส่วน เช่น 7//3 = {7//3}  \\\\\r\n",
        "        หรือ\\nใช้ int() เพื่อหารเอาส่วน เช่น int(7/3) = {int(7/3)}')"
      ],
      "execution_count": null,
      "outputs": [
        {
          "output_type": "stream",
          "text": [
            "% คือการหารเอาเศษ เช่น 7%3 = 1  \\        แต่\n",
            "/ คือการหารปกติ เช่น 7/3 = 2.3333333333333335   \\        และ\n",
            "// คือการหารเอาส่วน เช่น 7//3 = 2  \\        หรือ\n",
            "ใช้ int() เพื่อหารเอาส่วน เช่น int(7/3) = 2\n"
          ],
          "name": "stdout"
        }
      ]
    },
    {
      "cell_type": "markdown",
      "metadata": {
        "id": "G_ISSjQshSdm"
      },
      "source": [
        "DATA STRUCTURE (โครงสร้างข้อมูล)"
      ]
    },
    {
      "cell_type": "markdown",
      "metadata": {
        "id": "HNPgs3achQR-"
      },
      "source": [
        "List คือ การเอาตัวแปรหลายๆตัวมาเรียงกัน\r\n",
        "list สามารถสร้างได้ 2แบบ ดังนี้"
      ]
    },
    {
      "cell_type": "markdown",
      "metadata": {
        "id": "tB6Q33gRhbwW"
      },
      "source": [
        "แบบที่1 > square brackets"
      ]
    },
    {
      "cell_type": "code",
      "metadata": {
        "id": "Rdo0N4kWhAHH",
        "colab": {
          "base_uri": "https://localhost:8080/"
        },
        "outputId": "c3dcc162-bace-4d10-c710-6945665eb497"
      },
      "source": [
        "list_a = []\r\n",
        "print(list_a)"
      ],
      "execution_count": null,
      "outputs": [
        {
          "output_type": "stream",
          "text": [
            "[]\n"
          ],
          "name": "stdout"
        }
      ]
    },
    {
      "cell_type": "code",
      "metadata": {
        "id": "DDpyndTnheem",
        "colab": {
          "base_uri": "https://localhost:8080/"
        },
        "outputId": "2f3ece9e-b0e8-4569-e632-7cbb286aabb9"
      },
      "source": [
        "list_b = [1,5,'v']\r\n",
        "print(list_b)"
      ],
      "execution_count": null,
      "outputs": [
        {
          "output_type": "stream",
          "text": [
            "[1, 5, 'v']\n"
          ],
          "name": "stdout"
        }
      ]
    },
    {
      "cell_type": "markdown",
      "metadata": {
        "id": "VIdi5QBthhVp"
      },
      "source": [
        "ลำดับที่อยู่ใน list มีความสำคัญ (ลำดับใน list เริ่มจาก 0,1,2,...)"
      ]
    },
    {
      "cell_type": "code",
      "metadata": {
        "id": "zUObm2JkhgRu",
        "colab": {
          "base_uri": "https://localhost:8080/"
        },
        "outputId": "0a5d4631-62dc-4b5d-a9a9-0962d25b7384"
      },
      "source": [
        "list_b[0]"
      ],
      "execution_count": null,
      "outputs": [
        {
          "output_type": "execute_result",
          "data": {
            "text/plain": [
              "1"
            ]
          },
          "metadata": {
            "tags": []
          },
          "execution_count": 31
        }
      ]
    },
    {
      "cell_type": "code",
      "metadata": {
        "id": "TNpiWqadbKJI"
      },
      "source": [
        ""
      ],
      "execution_count": null,
      "outputs": []
    },
    {
      "cell_type": "markdown",
      "metadata": {
        "id": "PMjbWu6Dhzua"
      },
      "source": [
        "ทดลอง เพราะพิมพ์ไม่ทัน"
      ]
    },
    {
      "cell_type": "code",
      "metadata": {
        "id": "N4gOQhUlbGER"
      },
      "source": [
        "list_a = []"
      ],
      "execution_count": null,
      "outputs": []
    },
    {
      "cell_type": "code",
      "metadata": {
        "colab": {
          "base_uri": "https://localhost:8080/"
        },
        "id": "VDTXPy2jbfnk",
        "outputId": "d14b726b-5928-46f1-f5ed-d588aa56a5a8"
      },
      "source": [
        "list_b = [1,5,'v']\r\n",
        "print(list_b)"
      ],
      "execution_count": null,
      "outputs": [
        {
          "output_type": "stream",
          "text": [
            "[1, 5, 'v']\n"
          ],
          "name": "stdout"
        }
      ]
    },
    {
      "cell_type": "code",
      "metadata": {
        "colab": {
          "base_uri": "https://localhost:8080/"
        },
        "id": "RAC6BBrYbtRr",
        "outputId": "4f8065a3-2b93-4a70-9df7-71ff3d0d7b47"
      },
      "source": [
        "list_b"
      ],
      "execution_count": null,
      "outputs": [
        {
          "output_type": "execute_result",
          "data": {
            "text/plain": [
              "1"
            ]
          },
          "metadata": {
            "tags": []
          },
          "execution_count": 29
        }
      ]
    },
    {
      "cell_type": "code",
      "metadata": {
        "id": "_ZzEO2bvdBmH"
      },
      "source": [
        ""
      ],
      "execution_count": null,
      "outputs": []
    },
    {
      "cell_type": "markdown",
      "metadata": {
        "id": "leD4mBZnh_4O"
      },
      "source": [
        "append() เพิ่มสมาชิกใน list"
      ]
    },
    {
      "cell_type": "code",
      "metadata": {
        "colab": {
          "base_uri": "https://localhost:8080/"
        },
        "id": "lIcay0pvcMtZ",
        "outputId": "abbf7301-9879-492a-ca31-2bd1a1b94676"
      },
      "source": [
        "list_b.append('u')\r\n",
        "print(list_b)"
      ],
      "execution_count": null,
      "outputs": [
        {
          "output_type": "stream",
          "text": [
            "[1, 5, 'v', 'u']\n"
          ],
          "name": "stdout"
        }
      ]
    },
    {
      "cell_type": "code",
      "metadata": {
        "id": "atdf1mRliViQ",
        "colab": {
          "base_uri": "https://localhost:8080/",
          "height": 34
        },
        "outputId": "ffdf2039-a01f-4c76-84d4-ba9374cf5195"
      },
      "source": [
        "list_b.pop()"
      ],
      "execution_count": null,
      "outputs": [
        {
          "output_type": "execute_result",
          "data": {
            "application/vnd.google.colaboratory.intrinsic+json": {
              "type": "string"
            },
            "text/plain": [
              "'u'"
            ]
          },
          "metadata": {
            "tags": []
          },
          "execution_count": 33
        }
      ]
    },
    {
      "cell_type": "code",
      "metadata": {
        "colab": {
          "base_uri": "https://localhost:8080/"
        },
        "id": "Q7Zf0wnac5IS",
        "outputId": "d087e7b5-9ab9-4648-aba1-635e98899aec"
      },
      "source": [
        "list_b"
      ],
      "execution_count": null,
      "outputs": [
        {
          "output_type": "execute_result",
          "data": {
            "text/plain": [
              "[1, 5, 'v']"
            ]
          },
          "metadata": {
            "tags": []
          },
          "execution_count": 34
        }
      ]
    },
    {
      "cell_type": "code",
      "metadata": {
        "id": "ivS9LsLligdY",
        "colab": {
          "base_uri": "https://localhost:8080/"
        },
        "outputId": "973a7b76-268b-4685-fc84-7dbd9692fe1d"
      },
      "source": [
        "list_b.append(list_a)\r\n",
        "print(list_b)"
      ],
      "execution_count": null,
      "outputs": [
        {
          "output_type": "stream",
          "text": [
            "[1, 5, 'v', []]\n"
          ],
          "name": "stdout"
        }
      ]
    },
    {
      "cell_type": "markdown",
      "metadata": {
        "id": "QxsC3Sb_ilYL"
      },
      "source": [
        "String > list of characters"
      ]
    },
    {
      "cell_type": "code",
      "metadata": {
        "colab": {
          "base_uri": "https://localhost:8080/"
        },
        "id": "No_jj6kzc9UE",
        "outputId": "b80a6ba9-1f54-47c6-ae09-d072fefb94c7"
      },
      "source": [
        "t = 'python is easy'\r\n",
        "print (t)"
      ],
      "execution_count": null,
      "outputs": [
        {
          "output_type": "stream",
          "text": [
            "python is easy\n"
          ],
          "name": "stdout"
        }
      ]
    },
    {
      "cell_type": "code",
      "metadata": {
        "id": "TP3BiGWTi1oB",
        "colab": {
          "base_uri": "https://localhost:8080/",
          "height": 34
        },
        "outputId": "faea8785-bcf5-4b8e-8570-0f420f330720"
      },
      "source": [
        "t = 'python is easy'\r\n",
        "t"
      ],
      "execution_count": null,
      "outputs": [
        {
          "output_type": "execute_result",
          "data": {
            "application/vnd.google.colaboratory.intrinsic+json": {
              "type": "string"
            },
            "text/plain": [
              "'python is easy'"
            ]
          },
          "metadata": {
            "tags": []
          },
          "execution_count": 38
        }
      ]
    },
    {
      "cell_type": "code",
      "metadata": {
        "colab": {
          "base_uri": "https://localhost:8080/"
        },
        "id": "X7IQg6-ddi7N",
        "outputId": "db6fa430-3bc3-41f2-e491-7795b4f46332"
      },
      "source": [
        "len(list_b)\r\n"
      ],
      "execution_count": null,
      "outputs": [
        {
          "output_type": "execute_result",
          "data": {
            "text/plain": [
              "4"
            ]
          },
          "metadata": {
            "tags": []
          },
          "execution_count": 36
        }
      ]
    },
    {
      "cell_type": "code",
      "metadata": {
        "id": "q23pgrtOitKT",
        "colab": {
          "base_uri": "https://localhost:8080/"
        },
        "outputId": "c8812637-8dbd-497a-d1b0-1fa67f805ff5"
      },
      "source": [
        "len(t)"
      ],
      "execution_count": null,
      "outputs": [
        {
          "output_type": "execute_result",
          "data": {
            "text/plain": [
              "14"
            ]
          },
          "metadata": {
            "tags": []
          },
          "execution_count": 39
        }
      ]
    },
    {
      "cell_type": "markdown",
      "metadata": {
        "id": "Jd2zDEVljAOn"
      },
      "source": [
        "access a member of a list (list&string)"
      ]
    },
    {
      "cell_type": "markdown",
      "metadata": {
        "id": "JUv7Am2zjBZo"
      },
      "source": [
        "โดยการเริ่มนับจะเริ่มนับจาก 0\r\n",
        "0 คือสมาชิกตัวแรก , -1 คือสมาชิกตัวสุดท้าย"
      ]
    },
    {
      "cell_type": "code",
      "metadata": {
        "id": "v3DanZMai6r9",
        "colab": {
          "base_uri": "https://localhost:8080/",
          "height": 34
        },
        "outputId": "2266432b-8347-4ffa-8b03-0208d65f4f2a"
      },
      "source": [
        "t[1]"
      ],
      "execution_count": null,
      "outputs": [
        {
          "output_type": "execute_result",
          "data": {
            "application/vnd.google.colaboratory.intrinsic+json": {
              "type": "string"
            },
            "text/plain": [
              "'y'"
            ]
          },
          "metadata": {
            "tags": []
          },
          "execution_count": 40
        }
      ]
    },
    {
      "cell_type": "code",
      "metadata": {
        "id": "Ptzu7FpQjGZN",
        "colab": {
          "base_uri": "https://localhost:8080/",
          "height": 34
        },
        "outputId": "4a961a00-3d51-40aa-82ea-008155816e24"
      },
      "source": [
        "t[-4]"
      ],
      "execution_count": null,
      "outputs": [
        {
          "output_type": "execute_result",
          "data": {
            "application/vnd.google.colaboratory.intrinsic+json": {
              "type": "string"
            },
            "text/plain": [
              "'e'"
            ]
          },
          "metadata": {
            "tags": []
          },
          "execution_count": 41
        }
      ]
    },
    {
      "cell_type": "code",
      "metadata": {
        "colab": {
          "base_uri": "https://localhost:8080/"
        },
        "id": "an0Fxwr4d1ts",
        "outputId": "59f681ee-9684-4382-ed3f-b75cd6c1f187"
      },
      "source": [
        "print(t[-2])"
      ],
      "execution_count": null,
      "outputs": [
        {
          "output_type": "stream",
          "text": [
            "s\n"
          ],
          "name": "stdout"
        }
      ]
    },
    {
      "cell_type": "code",
      "metadata": {
        "id": "PTqOKJwdZugH"
      },
      "source": [
        "t = 'python is easy'"
      ],
      "execution_count": null,
      "outputs": []
    },
    {
      "cell_type": "code",
      "metadata": {
        "id": "fKaQmfS5ZwsL"
      },
      "source": [
        ""
      ],
      "execution_count": null,
      "outputs": []
    },
    {
      "cell_type": "markdown",
      "metadata": {
        "id": "daluSo67el_z"
      },
      "source": [
        "### ตัวที่อยู่ข้างใน [ ] เราเรียกว่า index (ตัวชี้)"
      ]
    },
    {
      "cell_type": "code",
      "metadata": {
        "id": "eSxZzsZVe1eh"
      },
      "source": [
        "t = 'python is easy'"
      ],
      "execution_count": null,
      "outputs": []
    },
    {
      "cell_type": "code",
      "metadata": {
        "id": "6pFmJUd9aMzB"
      },
      "source": [
        ""
      ],
      "execution_count": null,
      "outputs": []
    },
    {
      "cell_type": "code",
      "metadata": {
        "id": "64l-qervaKvg"
      },
      "source": [
        ""
      ],
      "execution_count": null,
      "outputs": []
    },
    {
      "cell_type": "markdown",
      "metadata": {
        "id": "YJcXBanNfl4t"
      },
      "source": [
        "### list slicing สามารถทำได้โดยใช้ colon :\r\n",
        "[a:b] -> [a,b)"
      ]
    },
    {
      "cell_type": "code",
      "metadata": {
        "colab": {
          "base_uri": "https://localhost:8080/"
        },
        "id": "wEvJg1kngnMi",
        "outputId": "8718504a-ce53-4bd6-c706-68a40849fb52"
      },
      "source": [
        "print(t)\r\n",
        "print(t[7:9])"
      ],
      "execution_count": null,
      "outputs": [
        {
          "output_type": "stream",
          "text": [
            "python is easy\n",
            "is\n"
          ],
          "name": "stdout"
        }
      ]
    },
    {
      "cell_type": "code",
      "metadata": {
        "colab": {
          "base_uri": "https://localhost:8080/"
        },
        "id": "f7vngRUZhMgy",
        "outputId": "9efdc055-94fb-4bb0-a698-23b35000a6a1"
      },
      "source": [
        "print(t)\r\n",
        "print(t[:6])\r\n",
        "print(t[10:])\r\n",
        "print(t[-4:])\r\n",
        "print(t[:])"
      ],
      "execution_count": null,
      "outputs": [
        {
          "output_type": "stream",
          "text": [
            "python is easy\n",
            "python\n",
            "easy\n",
            "easy\n",
            "python is easy\n"
          ],
          "name": "stdout"
        }
      ]
    },
    {
      "cell_type": "code",
      "metadata": {
        "id": "3EVpQ5M9ain1",
        "colab": {
          "base_uri": "https://localhost:8080/"
        },
        "outputId": "898ff2b2-6442-40e1-8d40-c8e6c6b327a8"
      },
      "source": [
        "print(t[::2])"
      ],
      "execution_count": null,
      "outputs": [
        {
          "output_type": "stream",
          "text": [
            "pto ses\n"
          ],
          "name": "stdout"
        }
      ]
    },
    {
      "cell_type": "code",
      "metadata": {
        "id": "ZC4bHHXbari9",
        "colab": {
          "base_uri": "https://localhost:8080/"
        },
        "outputId": "6f213167-d524-45df-a801-29d8f9c922da"
      },
      "source": [
        "print(list(range(10)))\r\n",
        "print(list(range(10))[::2])"
      ],
      "execution_count": null,
      "outputs": [
        {
          "output_type": "stream",
          "text": [
            "[0, 1, 2, 3, 4, 5, 6, 7, 8, 9]\n",
            "[0, 2, 4, 6, 8]\n"
          ],
          "name": "stdout"
        }
      ]
    },
    {
      "cell_type": "code",
      "metadata": {
        "id": "lnzsapOxba-H",
        "colab": {
          "base_uri": "https://localhost:8080/"
        },
        "outputId": "1af1be35-db9d-460f-aa6f-3f0356015292"
      },
      "source": [
        "print(t[2::2])"
      ],
      "execution_count": null,
      "outputs": [
        {
          "output_type": "stream",
          "text": [
            "to ses\n"
          ],
          "name": "stdout"
        }
      ]
    },
    {
      "cell_type": "code",
      "metadata": {
        "id": "PAOtXnh4b-yu"
      },
      "source": [
        ""
      ],
      "execution_count": null,
      "outputs": []
    },
    {
      "cell_type": "code",
      "metadata": {
        "id": "BgOx5cnkbU2G"
      },
      "source": [
        ""
      ],
      "execution_count": null,
      "outputs": []
    },
    {
      "cell_type": "markdown",
      "metadata": {
        "id": "5kcAZoTXiYfd"
      },
      "source": [
        "### เราสามารถเอาlistมาต่อกันได้ด้วย+"
      ]
    },
    {
      "cell_type": "code",
      "metadata": {
        "colab": {
          "base_uri": "https://localhost:8080/",
          "height": 34
        },
        "id": "3_SH4dFzilO_",
        "outputId": "b7bad981-27e0-4a13-ec58-477d5c509b62"
      },
      "source": [
        "t + '??'"
      ],
      "execution_count": null,
      "outputs": [
        {
          "output_type": "execute_result",
          "data": {
            "application/vnd.google.colaboratory.intrinsic+json": {
              "type": "string"
            },
            "text/plain": [
              "'python is easy??'"
            ]
          },
          "metadata": {
            "tags": []
          },
          "execution_count": 40
        }
      ]
    },
    {
      "cell_type": "code",
      "metadata": {
        "colab": {
          "base_uri": "https://localhost:8080/",
          "height": 164
        },
        "id": "RboeoiP2ixEt",
        "outputId": "071e6d93-ac99-4422-be0b-d40379bf8bd6"
      },
      "source": [
        "t + list_a"
      ],
      "execution_count": null,
      "outputs": [
        {
          "output_type": "error",
          "ename": "TypeError",
          "evalue": "ignored",
          "traceback": [
            "\u001b[0;31m---------------------------------------------------------------------------\u001b[0m",
            "\u001b[0;31mTypeError\u001b[0m                                 Traceback (most recent call last)",
            "\u001b[0;32m<ipython-input-42-8655a62dbccf>\u001b[0m in \u001b[0;36m<module>\u001b[0;34m()\u001b[0m\n\u001b[0;32m----> 1\u001b[0;31m \u001b[0mt\u001b[0m \u001b[0;34m+\u001b[0m \u001b[0mlist_a\u001b[0m\u001b[0;34m\u001b[0m\u001b[0;34m\u001b[0m\u001b[0m\n\u001b[0m",
            "\u001b[0;31mTypeError\u001b[0m: must be str, not list"
          ]
        }
      ]
    },
    {
      "cell_type": "markdown",
      "metadata": {
        "id": "0NKsTYGIjjW9"
      },
      "source": [
        "การแบ่ง string ตามสัญลักษณ์ที่กำหนด -> split string"
      ]
    },
    {
      "cell_type": "code",
      "metadata": {
        "colab": {
          "base_uri": "https://localhost:8080/"
        },
        "id": "kUGn5o5sjAQH",
        "outputId": "8af3596b-1a0a-4768-d5d3-d1cbe557321f"
      },
      "source": [
        "t.split(' ')"
      ],
      "execution_count": null,
      "outputs": [
        {
          "output_type": "execute_result",
          "data": {
            "text/plain": [
              "['python', 'is', 'easy']"
            ]
          },
          "metadata": {
            "tags": []
          },
          "execution_count": 42
        }
      ]
    },
    {
      "cell_type": "code",
      "metadata": {
        "colab": {
          "base_uri": "https://localhost:8080/"
        },
        "id": "3g_VaZfajQ7u",
        "outputId": "a98486c9-3492-4349-8418-f9b37d7dcc6d"
      },
      "source": [
        "time = '12:30:12'\r\n",
        "time.split(' ')"
      ],
      "execution_count": null,
      "outputs": [
        {
          "output_type": "execute_result",
          "data": {
            "text/plain": [
              "['12:30:12']"
            ]
          },
          "metadata": {
            "tags": []
          },
          "execution_count": 43
        }
      ]
    },
    {
      "cell_type": "code",
      "metadata": {
        "colab": {
          "base_uri": "https://localhost:8080/"
        },
        "id": "4ZCc_F1Qj4uC",
        "outputId": "c5f4fe0d-109a-4903-beb2-5324d875bb85"
      },
      "source": [
        "time.split(':')"
      ],
      "execution_count": null,
      "outputs": [
        {
          "output_type": "execute_result",
          "data": {
            "text/plain": [
              "['12', '30', '12']"
            ]
          },
          "metadata": {
            "tags": []
          },
          "execution_count": 44
        }
      ]
    },
    {
      "cell_type": "code",
      "metadata": {
        "id": "enKIHaHCkAa8",
        "colab": {
          "base_uri": "https://localhost:8080/"
        },
        "outputId": "5dd13675-43fb-46f3-bccb-0e3132fcbbbb"
      },
      "source": [
        "t_sp = t.split(' ')\r\n",
        "print(t_sp)"
      ],
      "execution_count": null,
      "outputs": [
        {
          "output_type": "stream",
          "text": [
            "['python', 'is', 'easy']\n"
          ],
          "name": "stdout"
        }
      ]
    },
    {
      "cell_type": "code",
      "metadata": {
        "id": "uc5m9ZOfjtO1",
        "colab": {
          "base_uri": "https://localhost:8080/"
        },
        "outputId": "ff56d58b-da42-4058-cfa8-d3bf13a9137c"
      },
      "source": [
        "## วิธีรวมกลับ\r\n",
        "\r\n",
        "print(':'.join(t_sp))"
      ],
      "execution_count": null,
      "outputs": [
        {
          "output_type": "stream",
          "text": [
            "python:is:easy\n"
          ],
          "name": "stdout"
        }
      ]
    },
    {
      "cell_type": "markdown",
      "metadata": {
        "id": "YZfSLXayu2LI"
      },
      "source": [
        "## HW คำนวณเวลาเป็นวินาทีของเวลาต่อไปนี้โดยใช้คำสั่ง split() ช่วย (print ออกมาให้สวยงาม) \\\\\r\n",
        "12:30:15\r\n",
        "\r\n",
        "13:41:07\r\n",
        "\r\n",
        "12:53:15\r\n",
        "\r\n",
        "00:59:25\r\n",
        "\r\n",
        "11:11:11\r\n",
        "\r\n",
        "16:06:09"
      ]
    },
    {
      "cell_type": "markdown",
      "metadata": {
        "id": "A0zzCsJRZNAE"
      },
      "source": [
        "HW 2 \\\\\r\n",
        "โดยที่ \\\\\r\n",
        "1 ชั่วโมง = 3600 วินาที \\\\\r\n",
        "1 นาที = 60 วินาที"
      ]
    },
    {
      "cell_type": "markdown",
      "metadata": {
        "id": "3-YuX5wIaMCy"
      },
      "source": [
        "## ข้อ 1 12:30:15"
      ]
    },
    {
      "cell_type": "code",
      "metadata": {
        "id": "8zi1GiA9ZZRN",
        "colab": {
          "base_uri": "https://localhost:8080/"
        },
        "outputId": "66d7b7b3-6acb-4af1-862c-c54d2febe375"
      },
      "source": [
        "time1 = '12:30:15'\r\n",
        "time1.split(':')\r\n",
        "list_a = time1.split(':')\r\n",
        "print(list_a)"
      ],
      "execution_count": null,
      "outputs": [
        {
          "output_type": "stream",
          "text": [
            "['12', '30', '15']\n"
          ],
          "name": "stdout"
        }
      ]
    },
    {
      "cell_type": "code",
      "metadata": {
        "id": "cegfsrQ7ZpZ-",
        "colab": {
          "base_uri": "https://localhost:8080/"
        },
        "outputId": "e424f713-674b-41b9-f17a-5a4d41fee6a0"
      },
      "source": [
        "list_a[0] \r\n",
        "int(list_a[0]) * 3600"
      ],
      "execution_count": null,
      "outputs": [
        {
          "output_type": "execute_result",
          "data": {
            "text/plain": [
              "43200"
            ]
          },
          "metadata": {
            "tags": []
          },
          "execution_count": 7
        }
      ]
    },
    {
      "cell_type": "code",
      "metadata": {
        "id": "ZMhViUmJZvyX"
      },
      "source": [
        "A = int(list_a[0]) * 3600"
      ],
      "execution_count": null,
      "outputs": []
    },
    {
      "cell_type": "code",
      "metadata": {
        "id": "XOL2LLwTZ0_i",
        "colab": {
          "base_uri": "https://localhost:8080/"
        },
        "outputId": "d27a46db-b7ed-44cd-aab6-9f556fc7d634"
      },
      "source": [
        "list_a[1] \r\n",
        "int(list_a[1]) * 60"
      ],
      "execution_count": null,
      "outputs": [
        {
          "output_type": "execute_result",
          "data": {
            "text/plain": [
              "1800"
            ]
          },
          "metadata": {
            "tags": []
          },
          "execution_count": 9
        }
      ]
    },
    {
      "cell_type": "code",
      "metadata": {
        "id": "KF8z6aZeZ4Yy"
      },
      "source": [
        "B = int(list_a[1]) * 60"
      ],
      "execution_count": null,
      "outputs": []
    },
    {
      "cell_type": "code",
      "metadata": {
        "id": "V1Vh9gN4Z6my",
        "colab": {
          "base_uri": "https://localhost:8080/"
        },
        "outputId": "484c73f8-57c7-4297-cbbb-5157e8a6a89f"
      },
      "source": [
        "list_a[2]\r\n",
        "c = list_a[2]\r\n",
        "print(c)"
      ],
      "execution_count": null,
      "outputs": [
        {
          "output_type": "stream",
          "text": [
            "15\n"
          ],
          "name": "stdout"
        }
      ]
    },
    {
      "cell_type": "code",
      "metadata": {
        "id": "DWxobvv3Z9Bw",
        "colab": {
          "base_uri": "https://localhost:8080/"
        },
        "outputId": "c45f22e4-228d-4ba5-8d0f-da30b29913a6"
      },
      "source": [
        "A+B+int(c)"
      ],
      "execution_count": null,
      "outputs": [
        {
          "output_type": "execute_result",
          "data": {
            "text/plain": [
              "45015"
            ]
          },
          "metadata": {
            "tags": []
          },
          "execution_count": 12
        }
      ]
    },
    {
      "cell_type": "markdown",
      "metadata": {
        "id": "wuRx2hZfatcz"
      },
      "source": [
        "ตอบ 12:30:15 มี 45,015 วินาที"
      ]
    },
    {
      "cell_type": "markdown",
      "metadata": {
        "id": "lePeHVw6ayNO"
      },
      "source": [
        "## ข้อ 2 13:41:07"
      ]
    },
    {
      "cell_type": "code",
      "metadata": {
        "id": "CLMW1I2kau0W",
        "colab": {
          "base_uri": "https://localhost:8080/"
        },
        "outputId": "6b8c5f78-e450-4561-dba8-12f820b0ad9e"
      },
      "source": [
        "time2 = '13:41:07'\r\n",
        "time2.split(':')\r\n",
        "list_b = time2.split(':')\r\n",
        "print(list_b)"
      ],
      "execution_count": null,
      "outputs": [
        {
          "output_type": "stream",
          "text": [
            "['13', '41', '07']\n"
          ],
          "name": "stdout"
        }
      ]
    },
    {
      "cell_type": "code",
      "metadata": {
        "id": "RK2KWnznbP44",
        "colab": {
          "base_uri": "https://localhost:8080/"
        },
        "outputId": "3b99a9da-8e5c-43a8-aa76-ea000852e371"
      },
      "source": [
        "list_b[0] \r\n",
        "int(list_b[0]) * 3600"
      ],
      "execution_count": null,
      "outputs": [
        {
          "output_type": "execute_result",
          "data": {
            "text/plain": [
              "46800"
            ]
          },
          "metadata": {
            "tags": []
          },
          "execution_count": 15
        }
      ]
    },
    {
      "cell_type": "code",
      "metadata": {
        "id": "nHCAH7zlbR4N"
      },
      "source": [
        "A = int(list_b[0]) * 3600"
      ],
      "execution_count": null,
      "outputs": []
    },
    {
      "cell_type": "code",
      "metadata": {
        "id": "8lqaDqllbT5Y",
        "colab": {
          "base_uri": "https://localhost:8080/"
        },
        "outputId": "bab00449-6cdb-40de-9c3d-4a6ec9fa4619"
      },
      "source": [
        "list_b[1] \r\n",
        "int(list_b[1]) * 60"
      ],
      "execution_count": null,
      "outputs": [
        {
          "output_type": "execute_result",
          "data": {
            "text/plain": [
              "2460"
            ]
          },
          "metadata": {
            "tags": []
          },
          "execution_count": 17
        }
      ]
    },
    {
      "cell_type": "code",
      "metadata": {
        "id": "CpiJ2Vw8bV1j"
      },
      "source": [
        "B = int(list_b[1]) * 60"
      ],
      "execution_count": null,
      "outputs": []
    },
    {
      "cell_type": "code",
      "metadata": {
        "id": "PFe0WGE6bXuK",
        "colab": {
          "base_uri": "https://localhost:8080/"
        },
        "outputId": "71da63c1-717d-4900-b8e4-10ce23e17e32"
      },
      "source": [
        "list_b[2]\r\n",
        "c = list_b[2]\r\n",
        "print(c)"
      ],
      "execution_count": null,
      "outputs": [
        {
          "output_type": "stream",
          "text": [
            "07\n"
          ],
          "name": "stdout"
        }
      ]
    },
    {
      "cell_type": "code",
      "metadata": {
        "id": "qY9MwaNQbbzs",
        "colab": {
          "base_uri": "https://localhost:8080/"
        },
        "outputId": "27d99db1-2d7d-4854-8f9c-4cec8835865c"
      },
      "source": [
        "A+B+int(c)"
      ],
      "execution_count": null,
      "outputs": [
        {
          "output_type": "execute_result",
          "data": {
            "text/plain": [
              "49267"
            ]
          },
          "metadata": {
            "tags": []
          },
          "execution_count": 20
        }
      ]
    },
    {
      "cell_type": "markdown",
      "metadata": {
        "id": "-5BU0jFObfnh"
      },
      "source": [
        "ตอบ 13:41:07 มี 49,267 วินาที"
      ]
    },
    {
      "cell_type": "markdown",
      "metadata": {
        "id": "8lecJl72bh2y"
      },
      "source": [
        "## ข้อ 3 12:53:15"
      ]
    },
    {
      "cell_type": "code",
      "metadata": {
        "id": "uEKqsaKNbmWX",
        "colab": {
          "base_uri": "https://localhost:8080/"
        },
        "outputId": "b39583e7-b36e-4895-b8e5-d7df672076c2"
      },
      "source": [
        "time3 = '12:53:15'\r\n",
        "time3.split(':')\r\n",
        "list_c = time3.split(':')\r\n",
        "print(list_c)"
      ],
      "execution_count": null,
      "outputs": [
        {
          "output_type": "stream",
          "text": [
            "['12', '53', '15']\n"
          ],
          "name": "stdout"
        }
      ]
    },
    {
      "cell_type": "code",
      "metadata": {
        "id": "j5oYFB2gbuuC",
        "colab": {
          "base_uri": "https://localhost:8080/"
        },
        "outputId": "65dc217b-2d98-4b3b-8037-f155507948e3"
      },
      "source": [
        "list_c[0] \r\n",
        "int(list_c[0]) * 3600"
      ],
      "execution_count": null,
      "outputs": [
        {
          "output_type": "execute_result",
          "data": {
            "text/plain": [
              "43200"
            ]
          },
          "metadata": {
            "tags": []
          },
          "execution_count": 22
        }
      ]
    },
    {
      "cell_type": "code",
      "metadata": {
        "id": "gmKwpfzGby0n"
      },
      "source": [
        "A = int(list_c[0]) * 3600"
      ],
      "execution_count": null,
      "outputs": []
    },
    {
      "cell_type": "code",
      "metadata": {
        "id": "gSRxK8kMb0vj",
        "colab": {
          "base_uri": "https://localhost:8080/"
        },
        "outputId": "19d33dbc-aed1-4f14-b3ca-83de718b5549"
      },
      "source": [
        "list_c[1] \r\n",
        "int(list_c[1]) * 60"
      ],
      "execution_count": null,
      "outputs": [
        {
          "output_type": "execute_result",
          "data": {
            "text/plain": [
              "3180"
            ]
          },
          "metadata": {
            "tags": []
          },
          "execution_count": 24
        }
      ]
    },
    {
      "cell_type": "code",
      "metadata": {
        "id": "sr6v5ztwb2ZU"
      },
      "source": [
        "B = int(list_c[1]) * 60"
      ],
      "execution_count": null,
      "outputs": []
    },
    {
      "cell_type": "code",
      "metadata": {
        "id": "merkCaicb4M_",
        "colab": {
          "base_uri": "https://localhost:8080/"
        },
        "outputId": "4b950473-6419-4f99-a4a5-ad29f6ca9f59"
      },
      "source": [
        "list_c[2]\r\n",
        "c = list_c[2]\r\n",
        "print(c)"
      ],
      "execution_count": null,
      "outputs": [
        {
          "output_type": "stream",
          "text": [
            "15\n"
          ],
          "name": "stdout"
        }
      ]
    },
    {
      "cell_type": "code",
      "metadata": {
        "id": "niin9wYzb599",
        "colab": {
          "base_uri": "https://localhost:8080/"
        },
        "outputId": "c71f1160-639f-41b6-e76d-52fdfdef2a17"
      },
      "source": [
        "A+B+int(c)"
      ],
      "execution_count": null,
      "outputs": [
        {
          "output_type": "execute_result",
          "data": {
            "text/plain": [
              "46395"
            ]
          },
          "metadata": {
            "tags": []
          },
          "execution_count": 27
        }
      ]
    },
    {
      "cell_type": "markdown",
      "metadata": {
        "id": "GjTP1RNLb_qE"
      },
      "source": [
        "ตอบ 12:53:15 มี 46,395 วินาที"
      ]
    },
    {
      "cell_type": "markdown",
      "metadata": {
        "id": "1rtmUAmwcBti"
      },
      "source": [
        "## ข้อ 4 00:59:25"
      ]
    },
    {
      "cell_type": "code",
      "metadata": {
        "id": "skSNtV_zcEii",
        "colab": {
          "base_uri": "https://localhost:8080/"
        },
        "outputId": "f217ce83-c69a-49e6-f0ed-9da1fccdf7fd"
      },
      "source": [
        "time4 = '00:59:25'\r\n",
        "time4.split(':')\r\n",
        "list_d = time4.split(':')\r\n",
        "print(list_d)"
      ],
      "execution_count": null,
      "outputs": [
        {
          "output_type": "stream",
          "text": [
            "['00', '59', '25']\n"
          ],
          "name": "stdout"
        }
      ]
    },
    {
      "cell_type": "markdown",
      "metadata": {
        "id": "WSCaW11icR8R"
      },
      "source": [
        "ไม่คิดหน่วยเวลาที่เป็นชั่วโมง เพราะ เท่ากับ 0"
      ]
    },
    {
      "cell_type": "code",
      "metadata": {
        "id": "uv-t2BHFcSrn",
        "colab": {
          "base_uri": "https://localhost:8080/"
        },
        "outputId": "7a556e39-c34a-4ecd-e735-c05ffd4c7183"
      },
      "source": [
        "list_d[1] \r\n",
        "int(list_d[1]) * 60"
      ],
      "execution_count": null,
      "outputs": [
        {
          "output_type": "execute_result",
          "data": {
            "text/plain": [
              "3540"
            ]
          },
          "metadata": {
            "tags": []
          },
          "execution_count": 29
        }
      ]
    },
    {
      "cell_type": "code",
      "metadata": {
        "id": "iOVc50WYcU-w"
      },
      "source": [
        "B = int(list_d[1]) * 60"
      ],
      "execution_count": null,
      "outputs": []
    },
    {
      "cell_type": "code",
      "metadata": {
        "id": "cmqigJfkcYkg",
        "colab": {
          "base_uri": "https://localhost:8080/"
        },
        "outputId": "dc2c907c-2815-4d53-e7ed-dbd71d1907f1"
      },
      "source": [
        "list_d[2]\r\n",
        "c = list_d[2]\r\n",
        "print(c)"
      ],
      "execution_count": null,
      "outputs": [
        {
          "output_type": "stream",
          "text": [
            "25\n"
          ],
          "name": "stdout"
        }
      ]
    },
    {
      "cell_type": "code",
      "metadata": {
        "id": "SgEpy79_carq",
        "colab": {
          "base_uri": "https://localhost:8080/"
        },
        "outputId": "1c8fe1a3-d7bc-493c-8a54-e5960b95d744"
      },
      "source": [
        "B+int(c)"
      ],
      "execution_count": null,
      "outputs": [
        {
          "output_type": "execute_result",
          "data": {
            "text/plain": [
              "3565"
            ]
          },
          "metadata": {
            "tags": []
          },
          "execution_count": 32
        }
      ]
    },
    {
      "cell_type": "markdown",
      "metadata": {
        "id": "mhLJyc-QchIB"
      },
      "source": [
        "ตอบ 00:59:25 มี 3,565 วินาที"
      ]
    },
    {
      "cell_type": "markdown",
      "metadata": {
        "id": "TNQLKV22cjWZ"
      },
      "source": [
        "## ข้อ 5 11:11:11"
      ]
    },
    {
      "cell_type": "code",
      "metadata": {
        "id": "vnNk4acJcm7u",
        "colab": {
          "base_uri": "https://localhost:8080/"
        },
        "outputId": "5219c987-4550-4b12-af7b-1983d1eae67f"
      },
      "source": [
        "time5 = '11:11:11'\r\n",
        "time5.split(':')\r\n",
        "list_e = time5.split(':')\r\n",
        "print(list_e)"
      ],
      "execution_count": null,
      "outputs": [
        {
          "output_type": "stream",
          "text": [
            "['11', '11', '11']\n"
          ],
          "name": "stdout"
        }
      ]
    },
    {
      "cell_type": "code",
      "metadata": {
        "id": "L2gh3jwxc6VY",
        "colab": {
          "base_uri": "https://localhost:8080/"
        },
        "outputId": "672fea01-fd81-481e-82f7-b4a9614cb440"
      },
      "source": [
        "list_e[0] \r\n",
        "int(list_e[0]) * 3600"
      ],
      "execution_count": null,
      "outputs": [
        {
          "output_type": "execute_result",
          "data": {
            "text/plain": [
              "39600"
            ]
          },
          "metadata": {
            "tags": []
          },
          "execution_count": 34
        }
      ]
    },
    {
      "cell_type": "code",
      "metadata": {
        "id": "7MN39Vcac9nS"
      },
      "source": [
        "A = int(list_e[0]) * 3600"
      ],
      "execution_count": null,
      "outputs": []
    },
    {
      "cell_type": "code",
      "metadata": {
        "id": "yiH-5fOadAOx",
        "colab": {
          "base_uri": "https://localhost:8080/"
        },
        "outputId": "a854df07-4323-4031-a1ad-506287463a32"
      },
      "source": [
        "list_e[1] \r\n",
        "int(list_e[1]) * 60"
      ],
      "execution_count": null,
      "outputs": [
        {
          "output_type": "execute_result",
          "data": {
            "text/plain": [
              "660"
            ]
          },
          "metadata": {
            "tags": []
          },
          "execution_count": 36
        }
      ]
    },
    {
      "cell_type": "code",
      "metadata": {
        "id": "lDic264SdDbK"
      },
      "source": [
        "B = int(list_e[1]) * 60"
      ],
      "execution_count": null,
      "outputs": []
    },
    {
      "cell_type": "code",
      "metadata": {
        "id": "Dosl7UVLdFyU",
        "colab": {
          "base_uri": "https://localhost:8080/"
        },
        "outputId": "680d1177-cbd6-44f4-eee6-b99447ef35d4"
      },
      "source": [
        "list_e[2]\r\n",
        "c = list_e[2]\r\n",
        "print(c)"
      ],
      "execution_count": null,
      "outputs": [
        {
          "output_type": "stream",
          "text": [
            "11\n"
          ],
          "name": "stdout"
        }
      ]
    },
    {
      "cell_type": "code",
      "metadata": {
        "id": "raLkUYDWdIKO",
        "colab": {
          "base_uri": "https://localhost:8080/"
        },
        "outputId": "508802d8-57f2-430f-ef31-c2ed9a4fe941"
      },
      "source": [
        "A+B+int(c)"
      ],
      "execution_count": null,
      "outputs": [
        {
          "output_type": "execute_result",
          "data": {
            "text/plain": [
              "40271"
            ]
          },
          "metadata": {
            "tags": []
          },
          "execution_count": 39
        }
      ]
    },
    {
      "cell_type": "markdown",
      "metadata": {
        "id": "E7UUjUrQdOB-"
      },
      "source": [
        "ตอบ 11:11:11 มี 40,271 วินาที"
      ]
    },
    {
      "cell_type": "markdown",
      "metadata": {
        "id": "zDPfvtaLcw6K"
      },
      "source": [
        "## ข้อ 6 16:06:09"
      ]
    },
    {
      "cell_type": "code",
      "metadata": {
        "id": "u6gJ2c_Ka9Yj",
        "colab": {
          "base_uri": "https://localhost:8080/"
        },
        "outputId": "2e7c7039-0c35-4ddb-95b4-7928235485b7"
      },
      "source": [
        "time6 = '16:06:09'\r\n",
        "time6.split(':')\r\n",
        "list_g = time6.split(':')\r\n",
        "print(list_g)"
      ],
      "execution_count": null,
      "outputs": [
        {
          "output_type": "stream",
          "text": [
            "['16', '06', '09']\n"
          ],
          "name": "stdout"
        }
      ]
    },
    {
      "cell_type": "code",
      "metadata": {
        "id": "jurBBKkEdgo1",
        "colab": {
          "base_uri": "https://localhost:8080/"
        },
        "outputId": "2f7ad192-5c32-406c-b12b-40271eb9d9b2"
      },
      "source": [
        "list_g[0] \r\n",
        "int(list_g[0]) * 3600"
      ],
      "execution_count": null,
      "outputs": [
        {
          "output_type": "execute_result",
          "data": {
            "text/plain": [
              "57600"
            ]
          },
          "metadata": {
            "tags": []
          },
          "execution_count": 41
        }
      ]
    },
    {
      "cell_type": "code",
      "metadata": {
        "id": "-BBPOpDDdkOB"
      },
      "source": [
        "A = int(list_g[0]) * 3600"
      ],
      "execution_count": null,
      "outputs": []
    },
    {
      "cell_type": "code",
      "metadata": {
        "id": "RWOZz6XDdl5Y",
        "colab": {
          "base_uri": "https://localhost:8080/"
        },
        "outputId": "2507e2db-1e10-49af-bbe0-5ebfe0823a9c"
      },
      "source": [
        "list_g[1] \r\n",
        "int(list_g[1]) * 60"
      ],
      "execution_count": null,
      "outputs": [
        {
          "output_type": "execute_result",
          "data": {
            "text/plain": [
              "360"
            ]
          },
          "metadata": {
            "tags": []
          },
          "execution_count": 43
        }
      ]
    },
    {
      "cell_type": "code",
      "metadata": {
        "id": "6ULHivitdnin"
      },
      "source": [
        "B = int(list_g[1]) * 60"
      ],
      "execution_count": null,
      "outputs": []
    },
    {
      "cell_type": "code",
      "metadata": {
        "id": "RT9JFcwpdrHH",
        "colab": {
          "base_uri": "https://localhost:8080/"
        },
        "outputId": "41dfefef-eb9a-4886-cdc9-8df9fbffefd4"
      },
      "source": [
        "list_g[2]\r\n",
        "c = list_g[2]\r\n",
        "print(c)"
      ],
      "execution_count": null,
      "outputs": [
        {
          "output_type": "stream",
          "text": [
            "09\n"
          ],
          "name": "stdout"
        }
      ]
    },
    {
      "cell_type": "code",
      "metadata": {
        "id": "IZIRWxZwdtXJ",
        "colab": {
          "base_uri": "https://localhost:8080/"
        },
        "outputId": "0ffb9d70-a2ba-47b1-eea8-98dd1179ade8"
      },
      "source": [
        "A+B+int(c)"
      ],
      "execution_count": null,
      "outputs": [
        {
          "output_type": "execute_result",
          "data": {
            "text/plain": [
              "57969"
            ]
          },
          "metadata": {
            "tags": []
          },
          "execution_count": 46
        }
      ]
    },
    {
      "cell_type": "markdown",
      "metadata": {
        "id": "WabDjTA7dy5u"
      },
      "source": [
        "ตอบ 16:06:09 มี 57,969 วินาที"
      ]
    },
    {
      "cell_type": "markdown",
      "metadata": {
        "id": "nfHhH58KZEi0"
      },
      "source": [
        "## HW 3"
      ]
    },
    {
      "cell_type": "code",
      "metadata": {
        "id": "7lhbzqNVUE3D"
      },
      "source": [
        "def time(Time) :\r\n",
        "  timeall = Time.split(':')\r\n",
        "  \r\n",
        "  h = int(timeall[0])*3600\r\n",
        "  m = int(timeall[1])*60\r\n",
        "  s = int(timeall[2])\r\n",
        "  all = h+m+s\r\n",
        "  SUM = f'{Time} คิดเป็นวินาทีได้ = {all} วินาที'\r\n",
        "  print(SUM)"
      ],
      "execution_count": null,
      "outputs": []
    },
    {
      "cell_type": "code",
      "metadata": {
        "id": "BGkaYRQLX3vb",
        "colab": {
          "base_uri": "https://localhost:8080/"
        },
        "outputId": "ee10d670-9b71-4b11-bc1f-ba0765512021"
      },
      "source": [
        "time('12:30:15')\r\n",
        "time('13:41:07')\r\n",
        "time('12:53:15')\r\n",
        "time('00:59:25')\r\n",
        "time('11:11:11')\r\n",
        "time('16:06:09')"
      ],
      "execution_count": null,
      "outputs": [
        {
          "output_type": "stream",
          "text": [
            "12:30:15 คิดเป็นวินาทีได้ = 45015 วินาที\n",
            "13:41:07 คิดเป็นวินาทีได้ = 49267 วินาที\n",
            "12:53:15 คิดเป็นวินาทีได้ = 46395 วินาที\n",
            "00:59:25 คิดเป็นวินาทีได้ = 3565 วินาที\n",
            "11:11:11 คิดเป็นวินาทีได้ = 40271 วินาที\n",
            "16:06:09 คิดเป็นวินาทีได้ = 57969 วินาที\n"
          ],
          "name": "stdout"
        }
      ]
    },
    {
      "cell_type": "code",
      "metadata": {
        "id": "RWEj9W_7X_ky"
      },
      "source": [
        "list_time = ['12:30:15' , '13:41:07' , '12:53:15' , '00:59:25' , '11:11:11' , '16:06:09']"
      ],
      "execution_count": null,
      "outputs": []
    },
    {
      "cell_type": "code",
      "metadata": {
        "id": "UwmKU2ZrYI-P",
        "colab": {
          "base_uri": "https://localhost:8080/"
        },
        "outputId": "7b303bf7-08f2-4386-97bf-aec6de5a4ca2"
      },
      "source": [
        "for i in list_time :\r\n",
        "  time(i)"
      ],
      "execution_count": null,
      "outputs": [
        {
          "output_type": "stream",
          "text": [
            "12:30:15 คิดเป็นวินาทีได้ = 45015 วินาที\n",
            "13:41:07 คิดเป็นวินาทีได้ = 49267 วินาที\n",
            "12:53:15 คิดเป็นวินาทีได้ = 46395 วินาที\n",
            "00:59:25 คิดเป็นวินาทีได้ = 3565 วินาที\n",
            "11:11:11 คิดเป็นวินาทีได้ = 40271 วินาที\n",
            "16:06:09 คิดเป็นวินาทีได้ = 57969 วินาที\n"
          ],
          "name": "stdout"
        }
      ]
    },
    {
      "cell_type": "markdown",
      "metadata": {
        "id": "sfQfUSZzYvxA"
      },
      "source": [
        "## โจทย์ HW 4"
      ]
    },
    {
      "cell_type": "markdown",
      "metadata": {
        "id": "iHqhNfxBYZpK"
      },
      "source": [
        "เขียน function ตัดเกรดโดยที่ input เป็นคะแนน(0-100) ,output เป็นเกรด (F-A) วนลูปตัดเกรด input = [1,50,65,90,101,-5,49]\r\n",
        "กำหนด \\\\\r\n",
        "ถ้าคะแนนอยู่ระหว่างมากกว่าหรือเท่ากับ 0 แต่น้อยกว่า 50 จะได้เกรด F \\\\\r\n",
        "ถ้าคะแนนอยู่ระหว่างมากกว่าหรือเท่ากับ 50 แต่น้อยกว่า 55 จะได้เกรด D \\\\\r\n",
        "ถ้าคะแนนอยู่ระหว่างมากกว่าหรือเท่ากับ 55 แต่น้อยกว่า 60 จะได้เกรด D+ \\\\\r\n",
        "ถ้าคะแนนอยู่ระหว่างมากกว่าหรือเท่ากับ 60 แต่น้อยกว่า 65 จะได้เกรด C \\\\\r\n",
        "ถ้าคะแนนอยู่ระหว่างมากกว่าหรือเท่ากับ 65 แต่น้อยกว่า 70 จะได้เกรด C+ \\\\\r\n",
        "ถ้าคะแนนอยู่ระหว่างมากกว่าหรือเท่ากับ 70 แต่น้อยกว่า 75 จะได้เกรด B \\\\\r\n",
        "ถ้าคะแนนอยู่ระหว่างมากกว่าหรือเท่ากับ 75 แต่น้อยกว่า 80 จะได้เกรด B+ \\\\\r\n",
        "ถ้าคะแนนอยู่ระหว่างมากกว่าหรือเท่ากับ 80 จะได้เกรด A \\\\\r\n",
        "แต่ว่าค่าคะแนนจะต้องไม่ต่ำกว่า 0 และมากกว่า 100 ไม่งั้นจะเกิด error \\\\"
      ]
    },
    {
      "cell_type": "code",
      "metadata": {
        "id": "onXbvF7LY82m"
      },
      "source": [
        "def grade(score) :\r\n",
        "  if score < 0 :\r\n",
        "    print(f'ERROR! กรุณากรอกคะแนนใหม่')\r\n",
        "  if score >= 0 and score < 50 :\r\n",
        "    print(f'คุณมีคะแนนเท่ากับ {score} จะได้เกรด F')\r\n",
        "  if score >= 50 and score < 55 :\r\n",
        "    print(f'คุณมีคะแนนเท่ากับ {score} จะได้เกรด D')\r\n",
        "  if score >= 55 and score < 60 :\r\n",
        "    print(f'คุณมีคะแนนเท่ากับ {score} จะได้เกรด D+')\r\n",
        "  if score >= 60 and score < 65 :\r\n",
        "    print(f'คุณมีคะแนนเท่ากับ {score} จะได้เกรด C')\r\n",
        "  if score >= 65 and score < 70 :\r\n",
        "    print(f'คุณมีคะแนนเท่ากับ {score} จะได้เกรด C+')\r\n",
        "  if score >= 70 and score < 75 :\r\n",
        "    print(f'คุณมีคะแนนเท่ากับ {score} จะได้เกรด B')\r\n",
        "  if score >= 75 and score < 80 :\r\n",
        "    print(f'คุณมีคะแนนเท่ากับ {score} จะได้เกรด B+')\r\n",
        "  if score >= 80 and score < 100 :\r\n",
        "    print(f'คุณมีคะแนนเท่ากับ {score} จะได้เกรด A')\r\n",
        "  if score >= 100 :\r\n",
        "    print(f'ERROR! กรุณากรอกคะแนนใหม่')"
      ],
      "execution_count": null,
      "outputs": []
    },
    {
      "cell_type": "code",
      "metadata": {
        "id": "xl9N424SeVnc"
      },
      "source": [
        "sco = [1,50,65,90,101,-5,49]"
      ],
      "execution_count": null,
      "outputs": []
    },
    {
      "cell_type": "code",
      "metadata": {
        "id": "dGQuBZe7eYS1",
        "colab": {
          "base_uri": "https://localhost:8080/"
        },
        "outputId": "912dc34a-e8c4-46da-fda2-8c8946d5111a"
      },
      "source": [
        "for score in sco :\r\n",
        "  grade(score)"
      ],
      "execution_count": null,
      "outputs": [
        {
          "output_type": "stream",
          "text": [
            "คุณมีคะแนนเท่ากับ 1 จะได้เกรด F\n",
            "คุณมีคะแนนเท่ากับ 50 จะได้เกรด D\n",
            "คุณมีคะแนนเท่ากับ 65 จะได้เกรด C+\n",
            "คุณมีคะแนนเท่ากับ 90 จะได้เกรด A\n",
            "ERROR! กรุณากรอกคะแนนใหม่\n",
            "ERROR! กรุณากรอกคะแนนใหม่\n",
            "คุณมีคะแนนเท่ากับ 49 จะได้เกรด F\n"
          ],
          "name": "stdout"
        }
      ]
    },
    {
      "cell_type": "markdown",
      "metadata": {
        "id": "yObGm9HxEgRy"
      },
      "source": [
        "## HW 5"
      ]
    },
    {
      "cell_type": "markdown",
      "metadata": {
        "id": "tijWOa3DEpmG"
      },
      "source": [
        "เขียน function คูณ matrix  \\\\\r\n",
        "แล้ว test กับ matrix ขนาด \\\\\r\n",
        "(2,3) * (3,2) \\\\\r\n",
        "(4,4) * (4,1) \\\\\r\n",
        "(2,2) * (2,2)"
      ]
    },
    {
      "cell_type": "code",
      "metadata": {
        "id": "58e0kwcuEtSa"
      },
      "source": [
        "import numpy "
      ],
      "execution_count": 1,
      "outputs": []
    },
    {
      "cell_type": "code",
      "metadata": {
        "colab": {
          "base_uri": "https://localhost:8080/"
        },
        "id": "IbuzLGcFE3wV",
        "outputId": "9ac2f27f-ab62-47bd-a46a-7debaa97b8e9"
      },
      "source": [
        "matrix1_array = numpy.array([[3,8], [1,9]])\r\n",
        "print(matrix1_array)"
      ],
      "execution_count": 2,
      "outputs": [
        {
          "output_type": "stream",
          "text": [
            "[[3 8]\n",
            " [1 9]]\n"
          ],
          "name": "stdout"
        }
      ]
    },
    {
      "cell_type": "code",
      "metadata": {
        "colab": {
          "base_uri": "https://localhost:8080/"
        },
        "id": "uIWDlUM0E-AL",
        "outputId": "07246af2-9827-496c-dcad-6d4f5e8585ca"
      },
      "source": [
        "matrix2_array = numpy.array([[4,5], [2,6]])\r\n",
        "print(matrix2_array)"
      ],
      "execution_count": 3,
      "outputs": [
        {
          "output_type": "stream",
          "text": [
            "[[4 5]\n",
            " [2 6]]\n"
          ],
          "name": "stdout"
        }
      ]
    },
    {
      "cell_type": "code",
      "metadata": {
        "colab": {
          "base_uri": "https://localhost:8080/"
        },
        "id": "a4_rwHm0E_1K",
        "outputId": "5a386210-7506-494a-dd22-f9f113ccaa40"
      },
      "source": [
        "matrix23_array = numpy.array([[2,3,5],[1,8,6]])\r\n",
        "print(matrix23_array)"
      ],
      "execution_count": 4,
      "outputs": [
        {
          "output_type": "stream",
          "text": [
            "[[2 3 5]\n",
            " [1 8 6]]\n"
          ],
          "name": "stdout"
        }
      ]
    },
    {
      "cell_type": "code",
      "metadata": {
        "colab": {
          "base_uri": "https://localhost:8080/"
        },
        "id": "LDNhCScfFEQ8",
        "outputId": "509005f8-b303-4591-da54-36196a2695d5"
      },
      "source": [
        "matrix32_array = numpy.array([[7,5],[8,3],[4,2]])\r\n",
        "print(matrix32_array)"
      ],
      "execution_count": 5,
      "outputs": [
        {
          "output_type": "stream",
          "text": [
            "[[7 5]\n",
            " [8 3]\n",
            " [4 2]]\n"
          ],
          "name": "stdout"
        }
      ]
    },
    {
      "cell_type": "code",
      "metadata": {
        "colab": {
          "base_uri": "https://localhost:8080/"
        },
        "id": "IfYKQsYxFHpk",
        "outputId": "ecbc401e-073b-41e2-f425-0a20fcca8cd4"
      },
      "source": [
        "matrix44_array = numpy.array([[7,1,3,9], [4,2,1,8], [2,1,4,1], [1,5,4,2]])\r\n",
        "print(matrix44_array)"
      ],
      "execution_count": 6,
      "outputs": [
        {
          "output_type": "stream",
          "text": [
            "[[7 1 3 9]\n",
            " [4 2 1 8]\n",
            " [2 1 4 1]\n",
            " [1 5 4 2]]\n"
          ],
          "name": "stdout"
        }
      ]
    },
    {
      "cell_type": "code",
      "metadata": {
        "colab": {
          "base_uri": "https://localhost:8080/"
        },
        "id": "coWS6Q4ZFWhC",
        "outputId": "07f262fd-a5a6-469d-96bc-3429f6b78712"
      },
      "source": [
        "matrix41_array = numpy.array([[9], [8], [6], [4]])\r\n",
        "print(matrix41_array)"
      ],
      "execution_count": 7,
      "outputs": [
        {
          "output_type": "stream",
          "text": [
            "[[9]\n",
            " [8]\n",
            " [6]\n",
            " [4]]\n"
          ],
          "name": "stdout"
        }
      ]
    },
    {
      "cell_type": "code",
      "metadata": {
        "id": "53toOMB8Fcp8"
      },
      "source": [
        "def cal_matrix(a,b) :\r\n",
        "  c = [[0 for row in range(len(b[0]))] for col in range(len(a))]\r\n",
        "  for d in range(len(a)) :\r\n",
        "    for e in range(len(b[0])) :\r\n",
        "      for g in range(len(b)) :\r\n",
        "        c[d][e] += a[d][g]*b[g][e]\r\n",
        "  sum = numpy.matrix(c)\r\n",
        "  return sum"
      ],
      "execution_count": 8,
      "outputs": []
    },
    {
      "cell_type": "code",
      "metadata": {
        "colab": {
          "base_uri": "https://localhost:8080/"
        },
        "id": "55xh1aUrFoTj",
        "outputId": "592736ee-17fe-4614-f02f-088e98b1f92a"
      },
      "source": [
        "cal_matrix(matrix23_array,matrix32_array)"
      ],
      "execution_count": 9,
      "outputs": [
        {
          "output_type": "execute_result",
          "data": {
            "text/plain": [
              "matrix([[58, 29],\n",
              "        [95, 41]])"
            ]
          },
          "metadata": {
            "tags": []
          },
          "execution_count": 9
        }
      ]
    },
    {
      "cell_type": "code",
      "metadata": {
        "colab": {
          "base_uri": "https://localhost:8080/"
        },
        "id": "aPuplp0DFrR8",
        "outputId": "6c6d3740-9b8d-4e20-862c-712e1b575771"
      },
      "source": [
        "cal_matrix(matrix44_array,matrix41_array)"
      ],
      "execution_count": 10,
      "outputs": [
        {
          "output_type": "execute_result",
          "data": {
            "text/plain": [
              "matrix([[125],\n",
              "        [ 90],\n",
              "        [ 54],\n",
              "        [ 81]])"
            ]
          },
          "metadata": {
            "tags": []
          },
          "execution_count": 10
        }
      ]
    },
    {
      "cell_type": "code",
      "metadata": {
        "colab": {
          "base_uri": "https://localhost:8080/"
        },
        "id": "22edl9ChFt0i",
        "outputId": "e07794eb-f873-4b7b-ce6b-058dced3d9cf"
      },
      "source": [
        "cal_matrix(matrix1_array,matrix2_array)"
      ],
      "execution_count": 11,
      "outputs": [
        {
          "output_type": "execute_result",
          "data": {
            "text/plain": [
              "matrix([[28, 63],\n",
              "        [22, 59]])"
            ]
          },
          "metadata": {
            "tags": []
          },
          "execution_count": 11
        }
      ]
    },
    {
      "cell_type": "markdown",
      "metadata": {
        "id": "CGg4rRB3eA93"
      },
      "source": [
        "## ให้สร้างฟังก์ชั่นคำนวณ"
      ]
    },
    {
      "cell_type": "markdown",
      "metadata": {
        "id": "spCzrHugthQO"
      },
      "source": [
        "def time(Time) :\r\n",
        "list_Time = Time.split(':')\r\n",
        "H\r\n",
        "  return st"
      ]
    },
    {
      "cell_type": "code",
      "metadata": {
        "id": "pMxZenIxtiYn"
      },
      "source": [
        "def time(Time) :\r\n",
        "  timeall = Time.split(':')\r\n",
        "  \r\n",
        "  h = int(timeall[0])*3600\r\n",
        "  m = int(timeall[1])*60\r\n",
        "  s = int(timeall[2])\r\n",
        "  all = h+m+s\r\n",
        "  SUM = f'{Time} คิดเป็นวินาทีได้ = {all} วินาที'\r\n",
        "  print(SUM)\r\n",
        "   "
      ],
      "execution_count": null,
      "outputs": []
    },
    {
      "cell_type": "code",
      "metadata": {
        "id": "6vYBOflqhNJX",
        "colab": {
          "base_uri": "https://localhost:8080/"
        },
        "outputId": "9ebae2b9-1a60-4986-f8c7-d693791a204e"
      },
      "source": [
        "time('12:30:15')\r\n",
        "time('13:41:07')\r\n",
        "time('12:53:15')\r\n",
        "time('00:59:25')\r\n",
        "time('11:11:11')\r\n",
        "time('16:06:09')"
      ],
      "execution_count": null,
      "outputs": [
        {
          "output_type": "stream",
          "text": [
            "12:30:15 คิดเป็นวินาทีได้ = 45015 วินาที\n",
            "13:41:07 คิดเป็นวินาทีได้ = 49267 วินาที\n",
            "12:53:15 คิดเป็นวินาทีได้ = 46395 วินาที\n",
            "00:59:25 คิดเป็นวินาทีได้ = 3565 วินาที\n",
            "11:11:11 คิดเป็นวินาทีได้ = 40271 วินาที\n",
            "16:06:09 คิดเป็นวินาทีได้ = 57969 วินาที\n"
          ],
          "name": "stdout"
        }
      ]
    }
  ]
}