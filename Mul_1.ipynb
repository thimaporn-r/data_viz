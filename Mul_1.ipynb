{
  "nbformat": 4,
  "nbformat_minor": 0,
  "metadata": {
    "colab": {
      "name": "Mul_1.ipynb",
      "provenance": [],
      "authorship_tag": "ABX9TyOrmUOx9uzhXSIVtfiNmVPR",
      "include_colab_link": true
    },
    "kernelspec": {
      "name": "ir",
      "display_name": "R"
    },
    "language_info": {
      "name": "R"
    }
  },
  "cells": [
    {
      "cell_type": "markdown",
      "metadata": {
        "id": "view-in-github",
        "colab_type": "text"
      },
      "source": [
        "<a href=\"https://colab.research.google.com/github/thimaporn-r/data_viz/blob/main/Mul_1.ipynb\" target=\"_parent\"><img src=\"https://colab.research.google.com/assets/colab-badge.svg\" alt=\"Open In Colab\"/></a>"
      ]
    },
    {
      "cell_type": "code",
      "metadata": {
        "colab": {
          "base_uri": "https://localhost:8080/"
        },
        "id": "5NSfUlS7qUXM",
        "outputId": "548f3de0-e7c3-4378-e2f9-83e343960eae"
      },
      "source": [
        "x = matrix(c(2,3,7,4),4,1)\n",
        "print(x)"
      ],
      "execution_count": null,
      "outputs": [
        {
          "output_type": "stream",
          "text": [
            "     [,1]\n",
            "[1,]    2\n",
            "[2,]    3\n",
            "[3,]    7\n",
            "[4,]    4\n"
          ],
          "name": "stdout"
        }
      ]
    },
    {
      "cell_type": "code",
      "metadata": {
        "colab": {
          "base_uri": "https://localhost:8080/"
        },
        "id": "Qp0RktvisPXk",
        "outputId": "b78488c9-7c71-45a2-c0bd-05b1ed50f6c6"
      },
      "source": [
        "x2 = matrix(c(42,52,48,58,4,5,4,5),4,2)\n",
        "print(x2)"
      ],
      "execution_count": null,
      "outputs": [
        {
          "output_type": "stream",
          "text": [
            "     [,1] [,2]\n",
            "[1,]   42    4\n",
            "[2,]   52    5\n",
            "[3,]   48    4\n",
            "[4,]   58    5\n"
          ],
          "name": "stdout"
        }
      ]
    },
    {
      "cell_type": "code",
      "metadata": {
        "colab": {
          "base_uri": "https://localhost:8080/"
        },
        "id": "lzT5oJIMtSvG",
        "outputId": "cd83c221-b882-4203-f126-d9ee9709dbca"
      },
      "source": [
        "A = x*4\n",
        "print(A)"
      ],
      "execution_count": null,
      "outputs": [
        {
          "output_type": "stream",
          "text": [
            "     [,1]\n",
            "[1,]    8\n",
            "[2,]   12\n",
            "[3,]   28\n",
            "[4,]   16\n"
          ],
          "name": "stdout"
        }
      ]
    },
    {
      "cell_type": "code",
      "metadata": {
        "colab": {
          "base_uri": "https://localhost:8080/"
        },
        "id": "fYUDxV7ct4yF",
        "outputId": "cf1bea94-3b5f-4e3d-9ec2-687014ae1cc6"
      },
      "source": [
        "B = x*4\n",
        "print(B)"
      ],
      "execution_count": null,
      "outputs": [
        {
          "output_type": "stream",
          "text": [
            "     [,1]\n",
            "[1,]    8\n",
            "[2,]   12\n",
            "[3,]   28\n",
            "[4,]   16\n"
          ],
          "name": "stdout"
        }
      ]
    },
    {
      "cell_type": "code",
      "metadata": {
        "colab": {
          "base_uri": "https://localhost:8080/"
        },
        "id": "KMR5PK7xuHp8",
        "outputId": "a31cee50-2012-4a24-e39e-0548d241fd13"
      },
      "source": [
        "Y = matrix(c(2,-6,7,3),4,1)\n",
        "print(Y)"
      ],
      "execution_count": null,
      "outputs": [
        {
          "output_type": "stream",
          "text": [
            "     [,1]\n",
            "[1,]    2\n",
            "[2,]   -6\n",
            "[3,]    7\n",
            "[4,]    3\n"
          ],
          "name": "stdout"
        }
      ]
    },
    {
      "cell_type": "code",
      "metadata": {
        "colab": {
          "base_uri": "https://localhost:8080/"
        },
        "id": "UCf1rntO3yd7",
        "outputId": "d3f87426-6bf6-46dc-abd4-5f77691695bb"
      },
      "source": [
        "A = x+Y\n",
        "print(A)"
      ],
      "execution_count": null,
      "outputs": [
        {
          "output_type": "stream",
          "text": [
            "     [,1]\n",
            "[1,]    4\n",
            "[2,]   -3\n",
            "[3,]   14\n",
            "[4,]    7\n"
          ],
          "name": "stdout"
        }
      ]
    },
    {
      "cell_type": "markdown",
      "metadata": {
        "id": "wsGXaxWs3PUU"
      },
      "source": [
        "Transpose"
      ]
    },
    {
      "cell_type": "code",
      "metadata": {
        "colab": {
          "base_uri": "https://localhost:8080/"
        },
        "id": "H_ps1WgIuyi0",
        "outputId": "d47b690e-f948-40a8-ed89-8b2160a9df1f"
      },
      "source": [
        "A = matrix(c(3,1,-1,5,2,4),2,3)\n",
        "print(A)"
      ],
      "execution_count": null,
      "outputs": [
        {
          "output_type": "stream",
          "text": [
            "     [,1] [,2] [,3]\n",
            "[1,]    3   -1    2\n",
            "[2,]    1    5    4\n"
          ],
          "name": "stdout"
        }
      ]
    },
    {
      "cell_type": "code",
      "metadata": {
        "colab": {
          "base_uri": "https://localhost:8080/"
        },
        "id": "x35RM6Jru9r8",
        "outputId": "ef302faa-5ad3-4c00-a043-7ce932b82f3c"
      },
      "source": [
        "Tran_A = t(A)\n",
        "print(Tran_A)"
      ],
      "execution_count": null,
      "outputs": [
        {
          "output_type": "stream",
          "text": [
            "     [,1] [,2]\n",
            "[1,]    3    1\n",
            "[2,]   -1    5\n",
            "[3,]    2    4\n"
          ],
          "name": "stdout"
        }
      ]
    },
    {
      "cell_type": "code",
      "metadata": {
        "id": "ZyIpdV2b3jYy"
      },
      "source": [
        ""
      ],
      "execution_count": null,
      "outputs": []
    },
    {
      "cell_type": "markdown",
      "metadata": {
        "id": "pWuTUEq51bDN"
      },
      "source": [
        "# Multiplied element A and B A x B B x C"
      ]
    },
    {
      "cell_type": "code",
      "metadata": {
        "colab": {
          "base_uri": "https://localhost:8080/"
        },
        "id": "ViZClJTtuwn4",
        "outputId": "99019367-9164-4543-feb2-1d77a335c653"
      },
      "source": [
        "A = matrix(c(3,1,-1,5,2,4),2,3)\n",
        "B = matrix(c(1,4,2,5,3,6),2,3)\n",
        "C = matrix(c(1,2,-1,2,1,2),3,2)\n",
        "print(A)\n",
        "print(B)\n",
        "print(C)"
      ],
      "execution_count": null,
      "outputs": [
        {
          "output_type": "stream",
          "text": [
            "     [,1] [,2] [,3]\n",
            "[1,]    3   -1    2\n",
            "[2,]    1    5    4\n",
            "     [,1] [,2] [,3]\n",
            "[1,]    1    2    3\n",
            "[2,]    4    5    6\n",
            "     [,1] [,2]\n",
            "[1,]    1    2\n",
            "[2,]    2    1\n",
            "[3,]   -1    2\n"
          ],
          "name": "stdout"
        }
      ]
    },
    {
      "cell_type": "markdown",
      "metadata": {
        "id": "EhxQnpGK058D"
      },
      "source": [
        "##A x B"
      ]
    },
    {
      "cell_type": "code",
      "metadata": {
        "colab": {
          "base_uri": "https://localhost:8080/"
        },
        "id": "hUuXKNLwv3eI",
        "outputId": "766db2e9-517e-4d81-f105-2f5801cd5a61"
      },
      "source": [
        "ab = A%*%t(B)\n",
        "print(ab)"
      ],
      "execution_count": null,
      "outputs": [
        {
          "output_type": "stream",
          "text": [
            "     [,1] [,2]\n",
            "[1,]    7   19\n",
            "[2,]   23   53\n"
          ],
          "name": "stdout"
        }
      ]
    },
    {
      "cell_type": "markdown",
      "metadata": {
        "id": "cqqL6xeZ1LBw"
      },
      "source": [
        "##B x C"
      ]
    },
    {
      "cell_type": "code",
      "metadata": {
        "colab": {
          "base_uri": "https://localhost:8080/"
        },
        "id": "XoFMwJaWwVds",
        "outputId": "a40fae37-5521-4d92-888d-2cd9afef2e85"
      },
      "source": [
        "bc = B%*%C\n",
        "print(bc)"
      ],
      "execution_count": null,
      "outputs": [
        {
          "output_type": "stream",
          "text": [
            "     [,1] [,2]\n",
            "[1,]    2   10\n",
            "[2,]    8   25\n"
          ],
          "name": "stdout"
        }
      ]
    },
    {
      "cell_type": "markdown",
      "metadata": {
        "id": "x8IGOl0A56u2"
      },
      "source": [
        "##Inverse B x C"
      ]
    },
    {
      "cell_type": "code",
      "metadata": {
        "colab": {
          "base_uri": "https://localhost:8080/"
        },
        "id": "w6ZgnfoR0D4Q",
        "outputId": "fd66a720-fa6c-4de3-ef5a-bfcee2a6f2ea"
      },
      "source": [
        "inv_bc = solve(bc)\n",
        "print(inv_bc)"
      ],
      "execution_count": null,
      "outputs": [
        {
          "output_type": "stream",
          "text": [
            "           [,1]        [,2]\n",
            "[1,] -0.8333333  0.33333333\n",
            "[2,]  0.2666667 -0.06666667\n"
          ],
          "name": "stdout"
        }
      ]
    },
    {
      "cell_type": "markdown",
      "metadata": {
        "id": "k-bey0loTjDR"
      },
      "source": [
        "#การบ้าน"
      ]
    },
    {
      "cell_type": "code",
      "metadata": {
        "colab": {
          "base_uri": "https://localhost:8080/"
        },
        "id": "gSsgmbkcTpkz",
        "outputId": "b6e1615d-7b91-4452-f309-3825d2074a8b"
      },
      "source": [
        "A = matrix(c(1,-1,4,1,1,3,4,3,2),3,3)\n",
        "print(A)"
      ],
      "execution_count": 1,
      "outputs": [
        {
          "output_type": "stream",
          "text": [
            "     [,1] [,2] [,3]\n",
            "[1,]    1    1    4\n",
            "[2,]   -1    1    3\n",
            "[3,]    4    3    2\n"
          ],
          "name": "stdout"
        }
      ]
    },
    {
      "cell_type": "code",
      "metadata": {
        "colab": {
          "base_uri": "https://localhost:8080/"
        },
        "id": "4wdfZYReUH4Q",
        "outputId": "36f975fd-9271-4565-862c-2410243f10df"
      },
      "source": [
        "B = matrix(c(3,7,2,-2,1,3,4,0,5),3,3)\n",
        "print(B)"
      ],
      "execution_count": 3,
      "outputs": [
        {
          "output_type": "stream",
          "text": [
            "     [,1] [,2] [,3]\n",
            "[1,]    3   -2    4\n",
            "[2,]    7    1    0\n",
            "[3,]    2    3    5\n"
          ],
          "name": "stdout"
        }
      ]
    },
    {
      "cell_type": "code",
      "metadata": {
        "colab": {
          "base_uri": "https://localhost:8080/"
        },
        "id": "66nzjxy4Ub1f",
        "outputId": "df5d6ab4-0b59-458a-f175-6151a1a436e2"
      },
      "source": [
        "x = matrix(c(1,-1,2),3,1)\n",
        "print(x)"
      ],
      "execution_count": 5,
      "outputs": [
        {
          "output_type": "stream",
          "text": [
            "     [,1]\n",
            "[1,]    1\n",
            "[2,]   -1\n",
            "[3,]    2\n"
          ],
          "name": "stdout"
        }
      ]
    },
    {
      "cell_type": "code",
      "metadata": {
        "colab": {
          "base_uri": "https://localhost:8080/"
        },
        "id": "aeMoIFb4Us76",
        "outputId": "cfcc4281-d8f2-4365-99e1-3fe76900c7a9"
      },
      "source": [
        "y = matrix(c(3,2,1),3,1)\n",
        "print(y)"
      ],
      "execution_count": 6,
      "outputs": [
        {
          "output_type": "stream",
          "text": [
            "     [,1]\n",
            "[1,]    3\n",
            "[2,]    2\n",
            "[3,]    1\n"
          ],
          "name": "stdout"
        }
      ]
    },
    {
      "cell_type": "code",
      "metadata": {
        "colab": {
          "base_uri": "https://localhost:8080/"
        },
        "id": "hXSXT_1vU0ka",
        "outputId": "19d27f2b-f9ba-458d-b5dd-c24a7b395ad8"
      },
      "source": [
        "xt = t(x)\n",
        "print(xt)"
      ],
      "execution_count": 9,
      "outputs": [
        {
          "output_type": "stream",
          "text": [
            "     [,1] [,2] [,3]\n",
            "[1,]    1   -1    2\n"
          ],
          "name": "stdout"
        }
      ]
    },
    {
      "cell_type": "code",
      "metadata": {
        "colab": {
          "base_uri": "https://localhost:8080/"
        },
        "id": "Ui0NsrhyVCah",
        "outputId": "e34235b4-7210-4ba2-ddc6-fd2d72e8f176"
      },
      "source": [
        "xtA = xt%*%A\n",
        "print(xtA)"
      ],
      "execution_count": 10,
      "outputs": [
        {
          "output_type": "stream",
          "text": [
            "     [,1] [,2] [,3]\n",
            "[1,]   10    6    5\n"
          ],
          "name": "stdout"
        }
      ]
    },
    {
      "cell_type": "code",
      "metadata": {
        "colab": {
          "base_uri": "https://localhost:8080/"
        },
        "id": "5BBRcEMSVNBB",
        "outputId": "cb040ad8-8279-4c2d-dc62-5946cc42691d"
      },
      "source": [
        "xtAx = xtA%*%x\n",
        "print(xtAx)"
      ],
      "execution_count": 11,
      "outputs": [
        {
          "output_type": "stream",
          "text": [
            "     [,1]\n",
            "[1,]   14\n"
          ],
          "name": "stdout"
        }
      ]
    },
    {
      "cell_type": "code",
      "metadata": {
        "colab": {
          "base_uri": "https://localhost:8080/"
        },
        "id": "wRwZGtNNVUy5",
        "outputId": "9e1d22eb-6522-44cf-8448-45d034d6dae3"
      },
      "source": [
        "xty = xt%*%y\n",
        "print(xty)"
      ],
      "execution_count": 12,
      "outputs": [
        {
          "output_type": "stream",
          "text": [
            "     [,1]\n",
            "[1,]    3\n"
          ],
          "name": "stdout"
        }
      ]
    },
    {
      "cell_type": "code",
      "metadata": {
        "colab": {
          "base_uri": "https://localhost:8080/"
        },
        "id": "l4VuXcoAVkld",
        "outputId": "5552a1c5-2bec-4f8d-e42a-baae3411efb6"
      },
      "source": [
        "Bt = t(B)\n",
        "print(Bt)"
      ],
      "execution_count": 13,
      "outputs": [
        {
          "output_type": "stream",
          "text": [
            "     [,1] [,2] [,3]\n",
            "[1,]    3    7    2\n",
            "[2,]   -2    1    3\n",
            "[3,]    4    0    5\n"
          ],
          "name": "stdout"
        }
      ]
    },
    {
      "cell_type": "code",
      "metadata": {
        "colab": {
          "base_uri": "https://localhost:8080/",
          "height": 96
        },
        "id": "3EHp_iWtVu_3",
        "outputId": "b128bc91-6beb-4abf-ac6c-adf53309e45a"
      },
      "source": [
        "yBt = y%*%Bt\n",
        "print(yBt)"
      ],
      "execution_count": 14,
      "outputs": [
        {
          "output_type": "error",
          "ename": "ERROR",
          "evalue": "ignored",
          "traceback": [
            "Error in y %*% Bt: non-conformable arguments\nTraceback:\n"
          ]
        }
      ]
    },
    {
      "cell_type": "code",
      "metadata": {
        "colab": {
          "base_uri": "https://localhost:8080/"
        },
        "id": "AK70dTGNWFcQ",
        "outputId": "51626962-dc21-4eea-993b-61a0d6261e91"
      },
      "source": [
        "xtAy = xtA%*%y\n",
        "print(xtAy)"
      ],
      "execution_count": 15,
      "outputs": [
        {
          "output_type": "stream",
          "text": [
            "     [,1]\n",
            "[1,]   47\n"
          ],
          "name": "stdout"
        }
      ]
    },
    {
      "cell_type": "code",
      "metadata": {
        "colab": {
          "base_uri": "https://localhost:8080/"
        },
        "id": "ACW5tQIZWTC4",
        "outputId": "33bffea5-7035-4b65-b749-41c02bd84cb3"
      },
      "source": [
        "A2 = matrix(c(5,2,3,4,-3,7,4,1,2),3,3)\n",
        "print(A2)"
      ],
      "execution_count": 16,
      "outputs": [
        {
          "output_type": "stream",
          "text": [
            "     [,1] [,2] [,3]\n",
            "[1,]    5    4    4\n",
            "[2,]    2   -3    1\n",
            "[3,]    3    7    2\n"
          ],
          "name": "stdout"
        }
      ]
    },
    {
      "cell_type": "code",
      "metadata": {
        "colab": {
          "base_uri": "https://localhost:8080/"
        },
        "id": "jTalioboWnV6",
        "outputId": "e351e29c-5222-47c5-9e10-902fb61ceadb"
      },
      "source": [
        "B2 = matrix(c(1,0,1,0,1,2,1,0,3),3,3)\n",
        "print(B2)"
      ],
      "execution_count": 17,
      "outputs": [
        {
          "output_type": "stream",
          "text": [
            "     [,1] [,2] [,3]\n",
            "[1,]    1    0    1\n",
            "[2,]    0    1    0\n",
            "[3,]    1    2    3\n"
          ],
          "name": "stdout"
        }
      ]
    },
    {
      "cell_type": "code",
      "metadata": {
        "colab": {
          "base_uri": "https://localhost:8080/"
        },
        "id": "1vipgWPKWygx",
        "outputId": "893ea16f-7846-4283-e92d-ec5b2a96adb1"
      },
      "source": [
        "AB = A2%*%B2\n",
        "print(AB)"
      ],
      "execution_count": 19,
      "outputs": [
        {
          "output_type": "stream",
          "text": [
            "     [,1] [,2] [,3]\n",
            "[1,]    9   12   17\n",
            "[2,]    3   -1    5\n",
            "[3,]    5   11    9\n"
          ],
          "name": "stdout"
        }
      ]
    },
    {
      "cell_type": "code",
      "metadata": {
        "colab": {
          "base_uri": "https://localhost:8080/"
        },
        "id": "GLjl1ga_XC09",
        "outputId": "8bfe5d48-1421-4111-e234-7a7f9a576717"
      },
      "source": [
        "lABl = abs(AB)\n",
        "print(lABl)"
      ],
      "execution_count": 20,
      "outputs": [
        {
          "output_type": "stream",
          "text": [
            "     [,1] [,2] [,3]\n",
            "[1,]    9   12   17\n",
            "[2,]    3    1    5\n",
            "[3,]    5   11    9\n"
          ],
          "name": "stdout"
        }
      ]
    },
    {
      "cell_type": "code",
      "metadata": {
        "colab": {
          "base_uri": "https://localhost:8080/"
        },
        "id": "nEAND_H_XPuk",
        "outputId": "1274c3eb-9f17-4623-cb67-9fc8b9e40ad8"
      },
      "source": [
        "lAl = abs(A2)\n",
        "print(lAl)"
      ],
      "execution_count": 21,
      "outputs": [
        {
          "output_type": "stream",
          "text": [
            "     [,1] [,2] [,3]\n",
            "[1,]    5    4    4\n",
            "[2,]    2    3    1\n",
            "[3,]    3    7    2\n"
          ],
          "name": "stdout"
        }
      ]
    },
    {
      "cell_type": "code",
      "metadata": {
        "colab": {
          "base_uri": "https://localhost:8080/"
        },
        "id": "F19JTtjDXbeq",
        "outputId": "a01e2841-dd7c-430d-92df-8d39ac1b2e65"
      },
      "source": [
        "lBl = abs(B2)\n",
        "print(lBl)"
      ],
      "execution_count": 22,
      "outputs": [
        {
          "output_type": "stream",
          "text": [
            "     [,1] [,2] [,3]\n",
            "[1,]    1    0    1\n",
            "[2,]    0    1    0\n",
            "[3,]    1    2    3\n"
          ],
          "name": "stdout"
        }
      ]
    },
    {
      "cell_type": "code",
      "metadata": {
        "colab": {
          "base_uri": "https://localhost:8080/"
        },
        "id": "iZ3zG7_YXnx6",
        "outputId": "339fa65b-8765-4784-d785-f028129edfa9"
      },
      "source": [
        "lAllBl = lAl%*%lBl\n",
        "print(lAllBl)"
      ],
      "execution_count": 23,
      "outputs": [
        {
          "output_type": "stream",
          "text": [
            "     [,1] [,2] [,3]\n",
            "[1,]    9   12   17\n",
            "[2,]    3    5    5\n",
            "[3,]    5   11    9\n"
          ],
          "name": "stdout"
        }
      ]
    },
    {
      "cell_type": "code",
      "metadata": {
        "colab": {
          "base_uri": "https://localhost:8080/"
        },
        "id": "gPvlYfuPX2r6",
        "outputId": "5a41e0bf-8f5d-45a5-ad37-8f59e61054e1"
      },
      "source": [
        "ABt = t(AB)\n",
        "print(ABt)"
      ],
      "execution_count": 24,
      "outputs": [
        {
          "output_type": "stream",
          "text": [
            "     [,1] [,2] [,3]\n",
            "[1,]    9    3    5\n",
            "[2,]   12   -1   11\n",
            "[3,]   17    5    9\n"
          ],
          "name": "stdout"
        }
      ]
    },
    {
      "cell_type": "code",
      "metadata": {
        "colab": {
          "base_uri": "https://localhost:8080/"
        },
        "id": "QAoD0NhJYGsF",
        "outputId": "b654424e-f799-485e-a2ce-b4ed2b4e9d5c"
      },
      "source": [
        "Bt = t(B2)\n",
        "print(Bt)"
      ],
      "execution_count": 25,
      "outputs": [
        {
          "output_type": "stream",
          "text": [
            "     [,1] [,2] [,3]\n",
            "[1,]    1    0    1\n",
            "[2,]    0    1    2\n",
            "[3,]    1    0    3\n"
          ],
          "name": "stdout"
        }
      ]
    },
    {
      "cell_type": "code",
      "metadata": {
        "colab": {
          "base_uri": "https://localhost:8080/"
        },
        "id": "9SeJrySQYS-a",
        "outputId": "4f34b074-1d70-4de7-b2f7-7e624df569ad"
      },
      "source": [
        "At = t(A2)\n",
        "print(At)"
      ],
      "execution_count": 26,
      "outputs": [
        {
          "output_type": "stream",
          "text": [
            "     [,1] [,2] [,3]\n",
            "[1,]    5    2    3\n",
            "[2,]    4   -3    7\n",
            "[3,]    4    1    2\n"
          ],
          "name": "stdout"
        }
      ]
    },
    {
      "cell_type": "code",
      "metadata": {
        "colab": {
          "base_uri": "https://localhost:8080/"
        },
        "id": "QEDPS89vYgX6",
        "outputId": "668cba5a-feeb-4997-b545-8f24debecc2e"
      },
      "source": [
        "BtAt = Bt%*%At\n",
        "print(BtAt)"
      ],
      "execution_count": 27,
      "outputs": [
        {
          "output_type": "stream",
          "text": [
            "     [,1] [,2] [,3]\n",
            "[1,]    9    3    5\n",
            "[2,]   12   -1   11\n",
            "[3,]   17    5    9\n"
          ],
          "name": "stdout"
        }
      ]
    },
    {
      "cell_type": "code",
      "metadata": {
        "id": "rc-65uYSYrJd"
      },
      "source": [
        ""
      ],
      "execution_count": null,
      "outputs": []
    },
    {
      "cell_type": "code",
      "metadata": {
        "id": "bzrXZSGtW-mr"
      },
      "source": [
        ""
      ],
      "execution_count": null,
      "outputs": []
    },
    {
      "cell_type": "code",
      "metadata": {
        "id": "xtyZjNWlU_wx"
      },
      "source": [
        ""
      ],
      "execution_count": null,
      "outputs": []
    },
    {
      "cell_type": "code",
      "metadata": {
        "id": "-O7edLQxU5KK"
      },
      "source": [
        ""
      ],
      "execution_count": null,
      "outputs": []
    },
    {
      "cell_type": "code",
      "metadata": {
        "id": "MztcS1P0UqOK"
      },
      "source": [
        ""
      ],
      "execution_count": null,
      "outputs": []
    },
    {
      "cell_type": "code",
      "metadata": {
        "id": "ySyouxIoUaXV"
      },
      "source": [
        ""
      ],
      "execution_count": null,
      "outputs": []
    },
    {
      "cell_type": "code",
      "metadata": {
        "id": "Ica6NiPkTiWE"
      },
      "source": [
        ""
      ],
      "execution_count": null,
      "outputs": []
    }
  ]
}