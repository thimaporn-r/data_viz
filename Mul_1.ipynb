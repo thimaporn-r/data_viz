{
  "nbformat": 4,
  "nbformat_minor": 0,
  "metadata": {
    "colab": {
      "name": "Mul_1.ipynb",
      "provenance": [],
      "authorship_tag": "ABX9TyOdtcacFZ5tb0+Omm+/Zump",
      "include_colab_link": true
    },
    "kernelspec": {
      "name": "ir",
      "display_name": "R"
    },
    "language_info": {
      "name": "R"
    }
  },
  "cells": [
    {
      "cell_type": "markdown",
      "metadata": {
        "id": "view-in-github",
        "colab_type": "text"
      },
      "source": [
        "<a href=\"https://colab.research.google.com/github/thimaporn-r/data_viz/blob/main/Mul_1.ipynb\" target=\"_parent\"><img src=\"https://colab.research.google.com/assets/colab-badge.svg\" alt=\"Open In Colab\"/></a>"
      ]
    },
    {
      "cell_type": "code",
      "metadata": {
        "colab": {
          "base_uri": "https://localhost:8080/"
        },
        "id": "5NSfUlS7qUXM",
        "outputId": "548f3de0-e7c3-4378-e2f9-83e343960eae"
      },
      "source": [
        "x = matrix(c(2,3,7,4),4,1)\n",
        "print(x)"
      ],
      "execution_count": 1,
      "outputs": [
        {
          "output_type": "stream",
          "text": [
            "     [,1]\n",
            "[1,]    2\n",
            "[2,]    3\n",
            "[3,]    7\n",
            "[4,]    4\n"
          ],
          "name": "stdout"
        }
      ]
    },
    {
      "cell_type": "code",
      "metadata": {
        "colab": {
          "base_uri": "https://localhost:8080/"
        },
        "id": "Qp0RktvisPXk",
        "outputId": "b78488c9-7c71-45a2-c0bd-05b1ed50f6c6"
      },
      "source": [
        "x2 = matrix(c(42,52,48,58,4,5,4,5),4,2)\n",
        "print(x2)"
      ],
      "execution_count": 6,
      "outputs": [
        {
          "output_type": "stream",
          "text": [
            "     [,1] [,2]\n",
            "[1,]   42    4\n",
            "[2,]   52    5\n",
            "[3,]   48    4\n",
            "[4,]   58    5\n"
          ],
          "name": "stdout"
        }
      ]
    },
    {
      "cell_type": "code",
      "metadata": {
        "colab": {
          "base_uri": "https://localhost:8080/"
        },
        "id": "lzT5oJIMtSvG",
        "outputId": "cd83c221-b882-4203-f126-d9ee9709dbca"
      },
      "source": [
        "A = x*4\n",
        "print(A)"
      ],
      "execution_count": 10,
      "outputs": [
        {
          "output_type": "stream",
          "text": [
            "     [,1]\n",
            "[1,]    8\n",
            "[2,]   12\n",
            "[3,]   28\n",
            "[4,]   16\n"
          ],
          "name": "stdout"
        }
      ]
    },
    {
      "cell_type": "code",
      "metadata": {
        "colab": {
          "base_uri": "https://localhost:8080/"
        },
        "id": "fYUDxV7ct4yF",
        "outputId": "cf1bea94-3b5f-4e3d-9ec2-687014ae1cc6"
      },
      "source": [
        "B = x*4\n",
        "print(B)"
      ],
      "execution_count": 9,
      "outputs": [
        {
          "output_type": "stream",
          "text": [
            "     [,1]\n",
            "[1,]    8\n",
            "[2,]   12\n",
            "[3,]   28\n",
            "[4,]   16\n"
          ],
          "name": "stdout"
        }
      ]
    },
    {
      "cell_type": "code",
      "metadata": {
        "colab": {
          "base_uri": "https://localhost:8080/"
        },
        "id": "KMR5PK7xuHp8",
        "outputId": "a31cee50-2012-4a24-e39e-0548d241fd13"
      },
      "source": [
        "Y = matrix(c(2,-6,7,3),4,1)\n",
        "print(Y)"
      ],
      "execution_count": 29,
      "outputs": [
        {
          "output_type": "stream",
          "text": [
            "     [,1]\n",
            "[1,]    2\n",
            "[2,]   -6\n",
            "[3,]    7\n",
            "[4,]    3\n"
          ],
          "name": "stdout"
        }
      ]
    },
    {
      "cell_type": "code",
      "metadata": {
        "colab": {
          "base_uri": "https://localhost:8080/"
        },
        "id": "UCf1rntO3yd7",
        "outputId": "d3f87426-6bf6-46dc-abd4-5f77691695bb"
      },
      "source": [
        "A = x+Y\n",
        "print(A)"
      ],
      "execution_count": 28,
      "outputs": [
        {
          "output_type": "stream",
          "text": [
            "     [,1]\n",
            "[1,]    4\n",
            "[2,]   -3\n",
            "[3,]   14\n",
            "[4,]    7\n"
          ],
          "name": "stdout"
        }
      ]
    },
    {
      "cell_type": "markdown",
      "metadata": {
        "id": "wsGXaxWs3PUU"
      },
      "source": [
        "Transpose"
      ]
    },
    {
      "cell_type": "code",
      "metadata": {
        "colab": {
          "base_uri": "https://localhost:8080/"
        },
        "id": "H_ps1WgIuyi0",
        "outputId": "d47b690e-f948-40a8-ed89-8b2160a9df1f"
      },
      "source": [
        "A = matrix(c(3,1,-1,5,2,4),2,3)\n",
        "print(A)"
      ],
      "execution_count": 14,
      "outputs": [
        {
          "output_type": "stream",
          "text": [
            "     [,1] [,2] [,3]\n",
            "[1,]    3   -1    2\n",
            "[2,]    1    5    4\n"
          ],
          "name": "stdout"
        }
      ]
    },
    {
      "cell_type": "code",
      "metadata": {
        "colab": {
          "base_uri": "https://localhost:8080/"
        },
        "id": "x35RM6Jru9r8",
        "outputId": "ef302faa-5ad3-4c00-a043-7ce932b82f3c"
      },
      "source": [
        "Tran_A = t(A)\n",
        "print(Tran_A)"
      ],
      "execution_count": 26,
      "outputs": [
        {
          "output_type": "stream",
          "text": [
            "     [,1] [,2]\n",
            "[1,]    3    1\n",
            "[2,]   -1    5\n",
            "[3,]    2    4\n"
          ],
          "name": "stdout"
        }
      ]
    },
    {
      "cell_type": "code",
      "metadata": {
        "id": "ZyIpdV2b3jYy"
      },
      "source": [
        ""
      ],
      "execution_count": null,
      "outputs": []
    },
    {
      "cell_type": "markdown",
      "metadata": {
        "id": "pWuTUEq51bDN"
      },
      "source": [
        "# Multiplied element A and B A x B B x C"
      ]
    },
    {
      "cell_type": "code",
      "metadata": {
        "colab": {
          "base_uri": "https://localhost:8080/"
        },
        "id": "ViZClJTtuwn4",
        "outputId": "99019367-9164-4543-feb2-1d77a335c653"
      },
      "source": [
        "A = matrix(c(3,1,-1,5,2,4),2,3)\n",
        "B = matrix(c(1,4,2,5,3,6),2,3)\n",
        "C = matrix(c(1,2,-1,2,1,2),3,2)\n",
        "print(A)\n",
        "print(B)\n",
        "print(C)"
      ],
      "execution_count": 16,
      "outputs": [
        {
          "output_type": "stream",
          "text": [
            "     [,1] [,2] [,3]\n",
            "[1,]    3   -1    2\n",
            "[2,]    1    5    4\n",
            "     [,1] [,2] [,3]\n",
            "[1,]    1    2    3\n",
            "[2,]    4    5    6\n",
            "     [,1] [,2]\n",
            "[1,]    1    2\n",
            "[2,]    2    1\n",
            "[3,]   -1    2\n"
          ],
          "name": "stdout"
        }
      ]
    },
    {
      "cell_type": "markdown",
      "metadata": {
        "id": "EhxQnpGK058D"
      },
      "source": [
        "##A x B"
      ]
    },
    {
      "cell_type": "code",
      "metadata": {
        "colab": {
          "base_uri": "https://localhost:8080/"
        },
        "id": "hUuXKNLwv3eI",
        "outputId": "766db2e9-517e-4d81-f105-2f5801cd5a61"
      },
      "source": [
        "ab = A%*%t(B)\n",
        "print(ab)"
      ],
      "execution_count": 25,
      "outputs": [
        {
          "output_type": "stream",
          "text": [
            "     [,1] [,2]\n",
            "[1,]    7   19\n",
            "[2,]   23   53\n"
          ],
          "name": "stdout"
        }
      ]
    },
    {
      "cell_type": "markdown",
      "metadata": {
        "id": "cqqL6xeZ1LBw"
      },
      "source": [
        "##B x C"
      ]
    },
    {
      "cell_type": "code",
      "metadata": {
        "colab": {
          "base_uri": "https://localhost:8080/"
        },
        "id": "XoFMwJaWwVds",
        "outputId": "a40fae37-5521-4d92-888d-2cd9afef2e85"
      },
      "source": [
        "bc = B%*%C\n",
        "print(bc)"
      ],
      "execution_count": 24,
      "outputs": [
        {
          "output_type": "stream",
          "text": [
            "     [,1] [,2]\n",
            "[1,]    2   10\n",
            "[2,]    8   25\n"
          ],
          "name": "stdout"
        }
      ]
    },
    {
      "cell_type": "markdown",
      "metadata": {
        "id": "x8IGOl0A56u2"
      },
      "source": [
        "##Inverse B x C"
      ]
    },
    {
      "cell_type": "code",
      "metadata": {
        "colab": {
          "base_uri": "https://localhost:8080/"
        },
        "id": "w6ZgnfoR0D4Q",
        "outputId": "fd66a720-fa6c-4de3-ef5a-bfcee2a6f2ea"
      },
      "source": [
        "inv_bc = solve(bc)\n",
        "print(inv_bc)"
      ],
      "execution_count": 32,
      "outputs": [
        {
          "output_type": "stream",
          "text": [
            "           [,1]        [,2]\n",
            "[1,] -0.8333333  0.33333333\n",
            "[2,]  0.2666667 -0.06666667\n"
          ],
          "name": "stdout"
        }
      ]
    }
  ]
}