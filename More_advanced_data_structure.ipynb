{
  "nbformat": 4,
  "nbformat_minor": 0,
  "metadata": {
    "colab": {
      "name": "More advanced data structure.ipynb",
      "provenance": [],
      "authorship_tag": "ABX9TyODkZ7fpHAqBfHV0UcgR5Cv",
      "include_colab_link": true
    },
    "kernelspec": {
      "name": "python3",
      "display_name": "Python 3"
    }
  },
  "cells": [
    {
      "cell_type": "markdown",
      "metadata": {
        "id": "view-in-github",
        "colab_type": "text"
      },
      "source": [
        "<a href=\"https://colab.research.google.com/github/thimaporn-r/data_viz/blob/main/More_advanced_data_structure.ipynb\" target=\"_parent\"><img src=\"https://colab.research.google.com/assets/colab-badge.svg\" alt=\"Open In Colab\"/></a>"
      ]
    },
    {
      "cell_type": "markdown",
      "metadata": {
        "id": "9Tm2BeR7nemy"
      },
      "source": [
        "## dictionary\r\n",
        "\r\n",
        "สามารถindexด้วยอะไรก็ได้\r\n",
        "\r\n"
      ]
    },
    {
      "cell_type": "markdown",
      "metadata": {
        "id": "nMKn0X6QoRuH"
      },
      "source": [
        "index คือการชี้"
      ]
    },
    {
      "cell_type": "code",
      "metadata": {
        "id": "vLzRHDHeoHpR"
      },
      "source": [
        "ex_dict = { ' a ' :10, ' 1 ' :1, 'stat' :5}"
      ],
      "execution_count": null,
      "outputs": []
    },
    {
      "cell_type": "code",
      "metadata": {
        "colab": {
          "base_uri": "https://localhost:8080/"
        },
        "id": "LfKckegYpaRP",
        "outputId": "3119666e-91f8-4ada-9a02-6057b8da8331"
      },
      "source": [
        "ex_dict['stat']"
      ],
      "execution_count": null,
      "outputs": [
        {
          "output_type": "execute_result",
          "data": {
            "text/plain": [
              "5"
            ]
          },
          "metadata": {
            "tags": []
          },
          "execution_count": 3
        }
      ]
    },
    {
      "cell_type": "code",
      "metadata": {
        "id": "ZGhU0W6EpgHZ"
      },
      "source": [
        "ex2_dict = { 1 : 'one', 2 : 'two', 3 :'three'}"
      ],
      "execution_count": null,
      "outputs": []
    },
    {
      "cell_type": "code",
      "metadata": {
        "colab": {
          "base_uri": "https://localhost:8080/",
          "height": 34
        },
        "id": "xuoRbYympyM6",
        "outputId": "fa9038f1-186e-4efa-a17f-047c7559153b"
      },
      "source": [
        "ex2_dict[2]"
      ],
      "execution_count": null,
      "outputs": [
        {
          "output_type": "execute_result",
          "data": {
            "application/vnd.google.colaboratory.intrinsic+json": {
              "type": "string"
            },
            "text/plain": [
              "'two'"
            ]
          },
          "metadata": {
            "tags": []
          },
          "execution_count": 9
        }
      ]
    },
    {
      "cell_type": "markdown",
      "metadata": {
        "id": "3VJedVrIqUz5"
      },
      "source": [
        " ### การเพิ่มสมาชิก"
      ]
    },
    {
      "cell_type": "code",
      "metadata": {
        "id": "FiqImvQXqZP-"
      },
      "source": [
        "ex2_dict[0] = 'zero'"
      ],
      "execution_count": null,
      "outputs": []
    },
    {
      "cell_type": "code",
      "metadata": {
        "colab": {
          "base_uri": "https://localhost:8080/"
        },
        "id": "qLn_vebCqwfd",
        "outputId": "eb63d7c1-ae2f-46f5-fb50-78b4ac517ce7"
      },
      "source": [
        "ex2_dict"
      ],
      "execution_count": null,
      "outputs": [
        {
          "output_type": "execute_result",
          "data": {
            "text/plain": [
              "{0: 'zero', 1: 'one', 2: 'two', 3: 'three'}"
            ]
          },
          "metadata": {
            "tags": []
          },
          "execution_count": 11
        }
      ]
    },
    {
      "cell_type": "markdown",
      "metadata": {
        "id": "3e-__8ugq6PY"
      },
      "source": [
        "คำสั่ง"
      ]
    },
    {
      "cell_type": "code",
      "metadata": {
        "colab": {
          "base_uri": "https://localhost:8080/"
        },
        "id": "62q9DvXMqyiv",
        "outputId": "80a73c60-4e6a-479e-f2d0-aa5d22fc1a40"
      },
      "source": [
        "ex2_dict.keys()"
      ],
      "execution_count": null,
      "outputs": [
        {
          "output_type": "execute_result",
          "data": {
            "text/plain": [
              "dict_keys([1, 2, 3, 0])"
            ]
          },
          "metadata": {
            "tags": []
          },
          "execution_count": 12
        }
      ]
    },
    {
      "cell_type": "code",
      "metadata": {
        "colab": {
          "base_uri": "https://localhost:8080/"
        },
        "id": "22ZKVR8rrBta",
        "outputId": "402d9c98-afc7-4710-f19e-55aab1512bbc"
      },
      "source": [
        "for index in ex2_dict.keys():\r\n",
        "  print(index)"
      ],
      "execution_count": null,
      "outputs": [
        {
          "output_type": "stream",
          "text": [
            "1\n",
            "2\n",
            "3\n",
            "0\n"
          ],
          "name": "stdout"
        }
      ]
    },
    {
      "cell_type": "code",
      "metadata": {
        "colab": {
          "base_uri": "https://localhost:8080/"
        },
        "id": "JceayCcsrVhN",
        "outputId": "c0fe7ad0-2110-4d27-d73f-cea5c431ecd0"
      },
      "source": [
        "ex2_dict.values()"
      ],
      "execution_count": null,
      "outputs": [
        {
          "output_type": "execute_result",
          "data": {
            "text/plain": [
              "dict_values(['one', 'two', 'three', 'zero'])"
            ]
          },
          "metadata": {
            "tags": []
          },
          "execution_count": 14
        }
      ]
    },
    {
      "cell_type": "code",
      "metadata": {
        "colab": {
          "base_uri": "https://localhost:8080/"
        },
        "id": "MoGC9PmFrsuH",
        "outputId": "feb637ab-e8fb-4526-ebfb-439a000f5a05"
      },
      "source": [
        "index"
      ],
      "execution_count": null,
      "outputs": [
        {
          "output_type": "execute_result",
          "data": {
            "text/plain": [
              "0"
            ]
          },
          "metadata": {
            "tags": []
          },
          "execution_count": 15
        }
      ]
    },
    {
      "cell_type": "markdown",
      "metadata": {
        "id": "-q0E_Pspswz5"
      },
      "source": [
        "dict เอาไปใช้ร่วมกับ Dataframe ของ pandas"
      ]
    },
    {
      "cell_type": "markdown",
      "metadata": {
        "id": "gQ3V2qxBtHNf"
      },
      "source": [
        "# numpy array"
      ]
    },
    {
      "cell_type": "markdown",
      "metadata": {
        "id": "qBAvmxYet-zh"
      },
      "source": [
        "numpy คือ package ที่ทำงานเกี่ยวกับ array ของตัวเลช (ที่มีคนเขียนขึ้นมาและนิยมใช้)"
      ]
    },
    {
      "cell_type": "code",
      "metadata": {
        "id": "AYkiBD_-tP31"
      },
      "source": [
        "import numpy "
      ],
      "execution_count": null,
      "outputs": []
    },
    {
      "cell_type": "code",
      "metadata": {
        "colab": {
          "base_uri": "https://localhost:8080/"
        },
        "id": "UVxulQxquhmV",
        "outputId": "eacd975e-6460-48c4-d41a-ab1f2ecf80d4"
      },
      "source": [
        "ex_2d_array = numpy.array([[5.2,3.0,4.5],[9.1,0.1,0.3]])\r\n",
        "print(ex_2d_array)"
      ],
      "execution_count": null,
      "outputs": [
        {
          "output_type": "stream",
          "text": [
            "[[5.2 3.  4.5]\n",
            " [9.1 0.1 0.3]]\n"
          ],
          "name": "stdout"
        }
      ]
    },
    {
      "cell_type": "markdown",
      "metadata": {
        "id": "GZRN8dFAvf9x"
      },
      "source": [
        "### การชี้ค่าใน numpy array"
      ]
    },
    {
      "cell_type": "code",
      "metadata": {
        "colab": {
          "base_uri": "https://localhost:8080/"
        },
        "id": "GW9QBhfkvq0S",
        "outputId": "92a97cb3-9350-4893-e76e-53d674ed534d"
      },
      "source": [
        "ex_2d_array[1,2]"
      ],
      "execution_count": null,
      "outputs": [
        {
          "output_type": "execute_result",
          "data": {
            "text/plain": [
              "0.3"
            ]
          },
          "metadata": {
            "tags": []
          },
          "execution_count": 18
        }
      ]
    },
    {
      "cell_type": "code",
      "metadata": {
        "colab": {
          "base_uri": "https://localhost:8080/"
        },
        "id": "BkP5qHZ8vw31",
        "outputId": "d559da75-61e6-410f-90a0-35f10d5a0f53"
      },
      "source": [
        "list_x = [[5.2,3.0,4.5],[9.1,0.1,0.3]]\r\n",
        "print(len(list_x))\r\n",
        "print(list_x[1])\r\n",
        "print(list_x[1][2])"
      ],
      "execution_count": null,
      "outputs": [
        {
          "output_type": "stream",
          "text": [
            "2\n",
            "[9.1, 0.1, 0.3]\n",
            "0.3\n"
          ],
          "name": "stdout"
        }
      ]
    },
    {
      "cell_type": "markdown",
      "metadata": {
        "id": "mK4GlWeLyDnq"
      },
      "source": [
        "### operations"
      ]
    },
    {
      "cell_type": "code",
      "metadata": {
        "colab": {
          "base_uri": "https://localhost:8080/"
        },
        "id": "dJ_xu9wQyEU5",
        "outputId": "d1ae4b4c-607a-466c-c5eb-a670c4a0bc45"
      },
      "source": [
        "ex2_2d_array = numpy.array([[1,0,0],[0,0,1]])\r\n",
        "print(ex2_2d_array)\r\n",
        "print(ex_2d_array)"
      ],
      "execution_count": null,
      "outputs": [
        {
          "output_type": "stream",
          "text": [
            "[[1 0 0]\n",
            " [0 0 1]]\n",
            "[[5.2 3.  4.5]\n",
            " [9.1 0.1 0.3]]\n"
          ],
          "name": "stdout"
        }
      ]
    },
    {
      "cell_type": "code",
      "metadata": {
        "colab": {
          "base_uri": "https://localhost:8080/"
        },
        "id": "8evjGwegyhDl",
        "outputId": "de717ab5-d544-4b55-a2aa-79fb22afa1e9"
      },
      "source": [
        "ex_2d_array.shape"
      ],
      "execution_count": null,
      "outputs": [
        {
          "output_type": "execute_result",
          "data": {
            "text/plain": [
              "(2, 3)"
            ]
          },
          "metadata": {
            "tags": []
          },
          "execution_count": 25
        }
      ]
    },
    {
      "cell_type": "code",
      "metadata": {
        "colab": {
          "base_uri": "https://localhost:8080/"
        },
        "id": "hai6_mxWyqeS",
        "outputId": "f3511d60-d306-444e-f00d-8da5c3a8c6a9"
      },
      "source": [
        "ex_2d_array + ex2_2d_array"
      ],
      "execution_count": null,
      "outputs": [
        {
          "output_type": "execute_result",
          "data": {
            "text/plain": [
              "array([[6.2, 3. , 4.5],\n",
              "       [9.1, 0.1, 1.3]])"
            ]
          },
          "metadata": {
            "tags": []
          },
          "execution_count": 26
        }
      ]
    },
    {
      "cell_type": "code",
      "metadata": {
        "id": "5LEL3C9xzEAw"
      },
      "source": [
        "list_x = [[5.2,3.0,4.5],[9.1,0.1,0.3]]\r\n",
        "list_x2 = [[1,0,0],[0,0,1]]\r\n"
      ],
      "execution_count": null,
      "outputs": []
    },
    {
      "cell_type": "code",
      "metadata": {
        "colab": {
          "base_uri": "https://localhost:8080/"
        },
        "id": "C8C1s9ALxbNh",
        "outputId": "8cb25832-587f-4a19-bb40-f9a5e90dc123"
      },
      "source": [
        "ex_2d_array - ex2_2d_array"
      ],
      "execution_count": null,
      "outputs": [
        {
          "output_type": "execute_result",
          "data": {
            "text/plain": [
              "array([[ 4.2,  3. ,  4.5],\n",
              "       [ 9.1,  0.1, -0.7]])"
            ]
          },
          "metadata": {
            "tags": []
          },
          "execution_count": 27
        }
      ]
    },
    {
      "cell_type": "markdown",
      "metadata": {
        "id": "qpbCqk4y1WXJ"
      },
      "source": [
        "คูณ"
      ]
    },
    {
      "cell_type": "code",
      "metadata": {
        "colab": {
          "base_uri": "https://localhost:8080/"
        },
        "id": "TtxYW0qR1R83",
        "outputId": "d05cf9cf-b13e-471d-88c2-8cb99c07f576"
      },
      "source": [
        "ex_2d_array * ex2_2d_array"
      ],
      "execution_count": null,
      "outputs": [
        {
          "output_type": "execute_result",
          "data": {
            "text/plain": [
              "array([[5.2, 0. , 0. ],\n",
              "       [0. , 0. , 0.3]])"
            ]
          },
          "metadata": {
            "tags": []
          },
          "execution_count": 28
        }
      ]
    },
    {
      "cell_type": "code",
      "metadata": {
        "id": "JZc02jqT1Trt"
      },
      "source": [
        "numpy.dot()"
      ],
      "execution_count": null,
      "outputs": []
    },
    {
      "cell_type": "code",
      "metadata": {
        "id": "ILf-LRDQyAY0"
      },
      "source": [
        ""
      ],
      "execution_count": null,
      "outputs": []
    },
    {
      "cell_type": "code",
      "metadata": {
        "id": "tmEvR1MFxAux"
      },
      "source": [
        ""
      ],
      "execution_count": null,
      "outputs": []
    },
    {
      "cell_type": "code",
      "metadata": {
        "colab": {
          "base_uri": "https://localhost:8080/"
        },
        "id": "jKd4XOfAw9uQ",
        "outputId": "6fbe9e1d-16fa-4d56-f712-de02e8598b30"
      },
      "source": [
        "print(ex_2d_array)"
      ],
      "execution_count": null,
      "outputs": [
        {
          "output_type": "stream",
          "text": [
            "[[5.2 3.  4.5]\n",
            " [9.1 0.1 0.3]]\n"
          ],
          "name": "stdout"
        }
      ]
    },
    {
      "cell_type": "code",
      "metadata": {
        "colab": {
          "base_uri": "https://localhost:8080/"
        },
        "id": "0DEsobPu5vNN",
        "outputId": "130c88ee-d7cb-4f34-bbb4-20e4200e1818"
      },
      "source": [
        "ex_2d_array[1,1:]"
      ],
      "execution_count": null,
      "outputs": [
        {
          "output_type": "execute_result",
          "data": {
            "text/plain": [
              "array([0.1, 0.3])"
            ]
          },
          "metadata": {
            "tags": []
          },
          "execution_count": 31
        }
      ]
    },
    {
      "cell_type": "code",
      "metadata": {
        "colab": {
          "base_uri": "https://localhost:8080/"
        },
        "id": "9_dMpE-w6Djd",
        "outputId": "96cdd110-14dd-4c0c-d287-c5b2129f328b"
      },
      "source": [
        "ex_2d_array[:,:2]"
      ],
      "execution_count": null,
      "outputs": [
        {
          "output_type": "execute_result",
          "data": {
            "text/plain": [
              "array([[5.2, 3. ],\n",
              "       [9.1, 0.1]])"
            ]
          },
          "metadata": {
            "tags": []
          },
          "execution_count": 32
        }
      ]
    },
    {
      "cell_type": "code",
      "metadata": {
        "id": "0f72fRz26JFY"
      },
      "source": [
        ""
      ],
      "execution_count": null,
      "outputs": []
    },
    {
      "cell_type": "code",
      "metadata": {
        "id": "fcLp69xA55-e"
      },
      "source": [
        ""
      ],
      "execution_count": null,
      "outputs": []
    },
    {
      "cell_type": "markdown",
      "metadata": {
        "id": "ZO20OZHB-RrW"
      },
      "source": [
        "## HW 5\r\n"
      ]
    },
    {
      "cell_type": "markdown",
      "metadata": {
        "id": "Br-hSq7s-eoQ"
      },
      "source": [
        "เขียน function คูณ matrix  \\\\\r\n",
        "แล้ว test กับ matrix ขนาด \\\\\r\n",
        "(2,3) * (3,2) \\\\\r\n",
        "(4,4) * (4,1) \\\\\r\n",
        "(2,2) * (2,2)\r\n"
      ]
    },
    {
      "cell_type": "code",
      "metadata": {
        "id": "LkiTYviX50re"
      },
      "source": [
        "import numpy "
      ],
      "execution_count": null,
      "outputs": []
    },
    {
      "cell_type": "code",
      "metadata": {
        "id": "t72P_k495-ak",
        "colab": {
          "base_uri": "https://localhost:8080/"
        },
        "outputId": "3114bf93-6c4d-4b2e-8db7-f90c220ad524"
      },
      "source": [
        "matrix23_array = numpy.array([[2,3,5],[1,8,6]])\r\n",
        "print(matrix23_array)"
      ],
      "execution_count": null,
      "outputs": [
        {
          "output_type": "stream",
          "text": [
            "[[2 3 5]\n",
            " [1 8 6]]\n"
          ],
          "name": "stdout"
        }
      ]
    },
    {
      "cell_type": "code",
      "metadata": {
        "id": "XWSSN3sRBIFO"
      },
      "source": [
        ""
      ],
      "execution_count": null,
      "outputs": []
    },
    {
      "cell_type": "code",
      "metadata": {
        "id": "i1ymbOcS7CLU",
        "colab": {
          "base_uri": "https://localhost:8080/"
        },
        "outputId": "62ee2e4b-d68b-48d8-d574-70027eb8dcd5"
      },
      "source": [
        "matrix32_array = numpy.array([[7,5],[8,3],[4,2]])\r\n",
        "print(matrix32_array)"
      ],
      "execution_count": null,
      "outputs": [
        {
          "output_type": "stream",
          "text": [
            "[[7 5]\n",
            " [8 3]\n",
            " [4 2]]\n"
          ],
          "name": "stdout"
        }
      ]
    },
    {
      "cell_type": "code",
      "metadata": {
        "id": "O_Y6bMFr75xN",
        "colab": {
          "base_uri": "https://localhost:8080/"
        },
        "outputId": "3c58a77d-63ab-40f8-bf09-446002ca45a4"
      },
      "source": [
        "matrix41_array = numpy.array([[9], [8], [6], [4]])\r\n",
        "print(matrix41_array)"
      ],
      "execution_count": null,
      "outputs": [
        {
          "output_type": "stream",
          "text": [
            "[[9]\n",
            " [8]\n",
            " [6]\n",
            " [4]]\n"
          ],
          "name": "stdout"
        }
      ]
    },
    {
      "cell_type": "code",
      "metadata": {
        "id": "NmHJWyP89FQ4",
        "colab": {
          "base_uri": "https://localhost:8080/"
        },
        "outputId": "33c328c7-3a61-48bd-a669-098f14f04e9e"
      },
      "source": [
        "matrix1_array = numpy.array([[3,8], [1,9]])\r\n",
        "print(matrix1_array)"
      ],
      "execution_count": null,
      "outputs": [
        {
          "output_type": "stream",
          "text": [
            "[[3 8]\n",
            " [1 9]]\n"
          ],
          "name": "stdout"
        }
      ]
    },
    {
      "cell_type": "code",
      "metadata": {
        "id": "0uKARqUw9sWH",
        "colab": {
          "base_uri": "https://localhost:8080/"
        },
        "outputId": "46e89e96-7133-4262-edca-de40a15d8d86"
      },
      "source": [
        "matrix2_array = numpy.array([[4,5], [2,6]])\r\n",
        "print(matrix2_array)"
      ],
      "execution_count": null,
      "outputs": [
        {
          "output_type": "stream",
          "text": [
            "[[4 5]\n",
            " [2 6]]\n"
          ],
          "name": "stdout"
        }
      ]
    },
    {
      "cell_type": "code",
      "metadata": {
        "id": "B3jUtHHX8kyb",
        "colab": {
          "base_uri": "https://localhost:8080/"
        },
        "outputId": "7f43b1f8-7cb8-4e8c-82c0-9ca7f6ffd20f"
      },
      "source": [
        "matrix44_array = numpy.array([[7,1,3,9], [4,2,1,8], [2,1,4,1], [1,5,4,2]])\r\n",
        "print(matrix44_array)"
      ],
      "execution_count": null,
      "outputs": [
        {
          "output_type": "stream",
          "text": [
            "[[7 1 3 9]\n",
            " [4 2 1 8]\n",
            " [2 1 4 1]\n",
            " [1 5 4 2]]\n"
          ],
          "name": "stdout"
        }
      ]
    },
    {
      "cell_type": "code",
      "metadata": {
        "id": "m_BJybvx_l8f"
      },
      "source": [
        "def cal_matrix(a,b) :\r\n",
        "  c = [[0 for row in range(len(b[0]))] for col in range(len(a))]\r\n",
        "  for d in range(len(a)) :\r\n",
        "    for e in range(len(b[0])) :\r\n",
        "      for g in range(len(b)) :\r\n",
        "        c[d][e] += a[d][g]*b[g][e]\r\n",
        "  sum = numpy.matrix(c)\r\n",
        "  return sum"
      ],
      "execution_count": null,
      "outputs": []
    },
    {
      "cell_type": "code",
      "metadata": {
        "id": "Rzq7B5TqAOWS",
        "colab": {
          "base_uri": "https://localhost:8080/"
        },
        "outputId": "aac9f954-dd07-4db2-e26c-51da14e7ce33"
      },
      "source": [
        "cal_matrix(matrix23_array,matrix32_array)"
      ],
      "execution_count": null,
      "outputs": [
        {
          "output_type": "execute_result",
          "data": {
            "text/plain": [
              "matrix([[58, 29],\n",
              "        [95, 41]])"
            ]
          },
          "metadata": {
            "tags": []
          },
          "execution_count": 11
        }
      ]
    },
    {
      "cell_type": "code",
      "metadata": {
        "id": "jyR8XKQXCdgB",
        "colab": {
          "base_uri": "https://localhost:8080/"
        },
        "outputId": "20029775-2fcc-41cb-b944-c4d6755eb11a"
      },
      "source": [
        "cal_matrix(matrix44_array,matrix41_array)"
      ],
      "execution_count": null,
      "outputs": [
        {
          "output_type": "execute_result",
          "data": {
            "text/plain": [
              "matrix([[125],\n",
              "        [ 90],\n",
              "        [ 54],\n",
              "        [ 81]])"
            ]
          },
          "metadata": {
            "tags": []
          },
          "execution_count": 12
        }
      ]
    },
    {
      "cell_type": "code",
      "metadata": {
        "id": "GMqpnogsDbsY",
        "colab": {
          "base_uri": "https://localhost:8080/"
        },
        "outputId": "f0010403-c321-4859-d645-7cd0537cbc40"
      },
      "source": [
        "cal_matrix(matrix1_array,matrix2_array)"
      ],
      "execution_count": null,
      "outputs": [
        {
          "output_type": "execute_result",
          "data": {
            "text/plain": [
              "matrix([[28, 63],\n",
              "        [22, 59]])"
            ]
          },
          "metadata": {
            "tags": []
          },
          "execution_count": 13
        }
      ]
    },
    {
      "cell_type": "code",
      "metadata": {
        "id": "qTiVkTvZDjQv"
      },
      "source": [
        ""
      ],
      "execution_count": null,
      "outputs": []
    },
    {
      "cell_type": "markdown",
      "metadata": {
        "id": "MChII4Vor4cz"
      },
      "source": [
        "[[[4,1,2],[1,7,3]],[[8,1],[5,7],[2,3]]]"
      ]
    },
    {
      "cell_type": "code",
      "metadata": {
        "id": "iV8bsOGVr5Q2"
      },
      "source": [
        ""
      ],
      "execution_count": null,
      "outputs": []
    },
    {
      "cell_type": "code",
      "metadata": {
        "id": "lDDsV1Cb22f8"
      },
      "source": [
        ""
      ],
      "execution_count": null,
      "outputs": []
    },
    {
      "cell_type": "code",
      "metadata": {
        "id": "l87bjrEvphrO"
      },
      "source": [
        "mt = [[4,1,2],[8,1]]"
      ],
      "execution_count": null,
      "outputs": []
    },
    {
      "cell_type": "code",
      "metadata": {
        "id": "YSwghDSysBZU"
      },
      "source": [
        ""
      ],
      "execution_count": null,
      "outputs": []
    },
    {
      "cell_type": "code",
      "metadata": {
        "id": "fcWR7XSAr6Vx"
      },
      "source": [
        ""
      ],
      "execution_count": null,
      "outputs": []
    },
    {
      "cell_type": "code",
      "metadata": {
        "id": "fdH3yswlq0Nx",
        "colab": {
          "base_uri": "https://localhost:8080/"
        },
        "outputId": "6e4fd34f-55e3-453c-ab0a-2c30ca641b89"
      },
      "source": [
        "print(mt[0])"
      ],
      "execution_count": null,
      "outputs": [
        {
          "output_type": "stream",
          "text": [
            "[[4, 1, 2], [1, 7, 3]]\n"
          ],
          "name": "stdout"
        }
      ]
    },
    {
      "cell_type": "code",
      "metadata": {
        "id": "uEGrRc7Jq3Un"
      },
      "source": [
        ""
      ],
      "execution_count": null,
      "outputs": []
    },
    {
      "cell_type": "code",
      "metadata": {
        "id": "-4ROzRUhqO7Q",
        "colab": {
          "base_uri": "https://localhost:8080/",
          "height": 300
        },
        "outputId": "cdf45217-e6af-4ca3-a755-78fa11dcdd0f"
      },
      "source": [
        "for matrix in mt :\r\n",
        "  cal_matrix(matrix)"
      ],
      "execution_count": null,
      "outputs": [
        {
          "output_type": "error",
          "ename": "TypeError",
          "evalue": "ignored",
          "traceback": [
            "\u001b[0;31m---------------------------------------------------------------------------\u001b[0m",
            "\u001b[0;31mTypeError\u001b[0m                                 Traceback (most recent call last)",
            "\u001b[0;32m<ipython-input-42-b68b1f1ba6af>\u001b[0m in \u001b[0;36m<module>\u001b[0;34m()\u001b[0m\n\u001b[1;32m      1\u001b[0m \u001b[0;32mfor\u001b[0m \u001b[0mmatrix\u001b[0m \u001b[0;32min\u001b[0m \u001b[0mmt\u001b[0m \u001b[0;34m:\u001b[0m\u001b[0;34m\u001b[0m\u001b[0;34m\u001b[0m\u001b[0m\n\u001b[0;32m----> 2\u001b[0;31m   \u001b[0mcal_matrix\u001b[0m\u001b[0;34m(\u001b[0m\u001b[0mmatrix\u001b[0m\u001b[0;34m)\u001b[0m\u001b[0;34m\u001b[0m\u001b[0;34m\u001b[0m\u001b[0m\n\u001b[0m",
            "\u001b[0;32m<ipython-input-35-4c980c846892>\u001b[0m in \u001b[0;36mcal_matrix\u001b[0;34m(matrix)\u001b[0m\n\u001b[1;32m      1\u001b[0m \u001b[0;32mdef\u001b[0m \u001b[0mcal_matrix\u001b[0m\u001b[0;34m(\u001b[0m\u001b[0mmatrix\u001b[0m\u001b[0;34m)\u001b[0m \u001b[0;34m:\u001b[0m\u001b[0;34m\u001b[0m\u001b[0;34m\u001b[0m\u001b[0m\n\u001b[0;32m----> 2\u001b[0;31m   \u001b[0msum\u001b[0m \u001b[0;34m=\u001b[0m \u001b[0mmt\u001b[0m\u001b[0;34m[\u001b[0m\u001b[0;36m0\u001b[0m\u001b[0;34m]\u001b[0m\u001b[0;34m*\u001b[0m\u001b[0mmt\u001b[0m\u001b[0;34m[\u001b[0m\u001b[0;36m1\u001b[0m\u001b[0;34m]\u001b[0m\u001b[0;34m\u001b[0m\u001b[0;34m\u001b[0m\u001b[0m\n\u001b[0m\u001b[1;32m      3\u001b[0m   \u001b[0mSUM\u001b[0m \u001b[0;34m=\u001b[0m \u001b[0;34mf'ผลคูณ = {sum} '\u001b[0m\u001b[0;34m\u001b[0m\u001b[0;34m\u001b[0m\u001b[0m\n\u001b[1;32m      4\u001b[0m   \u001b[0mprint\u001b[0m\u001b[0;34m(\u001b[0m\u001b[0mSUM\u001b[0m\u001b[0;34m)\u001b[0m\u001b[0;34m\u001b[0m\u001b[0;34m\u001b[0m\u001b[0m\n\u001b[1;32m      5\u001b[0m \u001b[0;34m\u001b[0m\u001b[0m\n",
            "\u001b[0;31mTypeError\u001b[0m: can't multiply sequence by non-int of type 'list'"
          ]
        }
      ]
    },
    {
      "cell_type": "code",
      "metadata": {
        "id": "h1eLroizsE7c"
      },
      "source": [
        ""
      ],
      "execution_count": null,
      "outputs": []
    },
    {
      "cell_type": "code",
      "metadata": {
        "id": "vMbO_9GQqbu8"
      },
      "source": [
        ""
      ],
      "execution_count": null,
      "outputs": []
    },
    {
      "cell_type": "code",
      "metadata": {
        "id": "gsaBKTVyGsSB"
      },
      "source": [
        ""
      ],
      "execution_count": null,
      "outputs": []
    },
    {
      "cell_type": "code",
      "metadata": {
        "id": "MoIPcAepF479"
      },
      "source": [
        ""
      ],
      "execution_count": null,
      "outputs": []
    },
    {
      "cell_type": "code",
      "metadata": {
        "id": "9HlvgtocDUy0",
        "colab": {
          "base_uri": "https://localhost:8080/",
          "height": 266
        },
        "outputId": "ac924945-285b-4a17-bd3d-ad3d33023007"
      },
      "source": [
        "cal_matrix([[1,7,4],[5,6,1]])"
      ],
      "execution_count": null,
      "outputs": [
        {
          "output_type": "error",
          "ename": "TypeError",
          "evalue": "ignored",
          "traceback": [
            "\u001b[0;31m---------------------------------------------------------------------------\u001b[0m",
            "\u001b[0;31mTypeError\u001b[0m                                 Traceback (most recent call last)",
            "\u001b[0;32m<ipython-input-20-de1e560ea602>\u001b[0m in \u001b[0;36m<module>\u001b[0;34m()\u001b[0m\n\u001b[0;32m----> 1\u001b[0;31m \u001b[0mcal_matrix\u001b[0m\u001b[0;34m(\u001b[0m\u001b[0;34m[\u001b[0m\u001b[0;34m[\u001b[0m\u001b[0;36m1\u001b[0m\u001b[0;34m,\u001b[0m\u001b[0;36m7\u001b[0m\u001b[0;34m,\u001b[0m\u001b[0;36m4\u001b[0m\u001b[0;34m]\u001b[0m\u001b[0;34m,\u001b[0m\u001b[0;34m[\u001b[0m\u001b[0;36m5\u001b[0m\u001b[0;34m,\u001b[0m\u001b[0;36m6\u001b[0m\u001b[0;34m,\u001b[0m\u001b[0;36m1\u001b[0m\u001b[0;34m]\u001b[0m\u001b[0;34m]\u001b[0m\u001b[0;34m)\u001b[0m\u001b[0;34m\u001b[0m\u001b[0;34m\u001b[0m\u001b[0m\n\u001b[0m",
            "\u001b[0;32m<ipython-input-18-6e4d0eb89b54>\u001b[0m in \u001b[0;36mcal_matrix\u001b[0;34m(matrix)\u001b[0m\n\u001b[1;32m      1\u001b[0m \u001b[0;32mdef\u001b[0m \u001b[0mcal_matrix\u001b[0m\u001b[0;34m(\u001b[0m\u001b[0mmatrix\u001b[0m\u001b[0;34m)\u001b[0m \u001b[0;34m:\u001b[0m\u001b[0;34m\u001b[0m\u001b[0;34m\u001b[0m\u001b[0m\n\u001b[0;32m----> 2\u001b[0;31m   \u001b[0msum\u001b[0m \u001b[0;34m=\u001b[0m \u001b[0mint\u001b[0m\u001b[0;34m(\u001b[0m\u001b[0mmatrix\u001b[0m\u001b[0;34m[\u001b[0m\u001b[0;36m0\u001b[0m\u001b[0;34m]\u001b[0m\u001b[0;34m)\u001b[0m\u001b[0;34m*\u001b[0m\u001b[0mint\u001b[0m\u001b[0;34m(\u001b[0m\u001b[0mmatrix\u001b[0m\u001b[0;34m[\u001b[0m\u001b[0;36m1\u001b[0m\u001b[0;34m]\u001b[0m\u001b[0;34m)\u001b[0m\u001b[0;34m\u001b[0m\u001b[0;34m\u001b[0m\u001b[0m\n\u001b[0m\u001b[1;32m      3\u001b[0m   \u001b[0mSUM\u001b[0m \u001b[0;34m=\u001b[0m \u001b[0;34mf'{matrix} ผลคูณ = {sum} '\u001b[0m\u001b[0;34m\u001b[0m\u001b[0;34m\u001b[0m\u001b[0m\n\u001b[1;32m      4\u001b[0m   \u001b[0mprint\u001b[0m\u001b[0;34m(\u001b[0m\u001b[0mSUM\u001b[0m\u001b[0;34m)\u001b[0m\u001b[0;34m\u001b[0m\u001b[0;34m\u001b[0m\u001b[0m\n",
            "\u001b[0;31mTypeError\u001b[0m: int() argument must be a string, a bytes-like object or a number, not 'list'"
          ]
        }
      ]
    },
    {
      "cell_type": "code",
      "metadata": {
        "id": "b1iZAUZ8JCds"
      },
      "source": [
        ""
      ],
      "execution_count": null,
      "outputs": []
    },
    {
      "cell_type": "code",
      "metadata": {
        "id": "TlbyIX63G76-"
      },
      "source": [
        ""
      ],
      "execution_count": null,
      "outputs": []
    },
    {
      "cell_type": "code",
      "metadata": {
        "id": "olQS85HGGtDe"
      },
      "source": [
        ""
      ],
      "execution_count": null,
      "outputs": []
    },
    {
      "cell_type": "code",
      "metadata": {
        "id": "AuOaWhSQGk16"
      },
      "source": [
        ""
      ],
      "execution_count": null,
      "outputs": []
    },
    {
      "cell_type": "code",
      "metadata": {
        "id": "8GMdEiVAGdRp"
      },
      "source": [
        ""
      ],
      "execution_count": null,
      "outputs": []
    },
    {
      "cell_type": "code",
      "metadata": {
        "id": "uaf9INk0F514"
      },
      "source": [
        ""
      ],
      "execution_count": null,
      "outputs": []
    },
    {
      "cell_type": "code",
      "metadata": {
        "id": "oxZa0z-eFwfO"
      },
      "source": [
        ""
      ],
      "execution_count": null,
      "outputs": []
    },
    {
      "cell_type": "code",
      "metadata": {
        "id": "UKn5c2pyE-JN",
        "colab": {
          "base_uri": "https://localhost:8080/"
        },
        "outputId": "f37c8098-c46d-465e-af67-349d193980fc"
      },
      "source": [
        "print(len(matrix))\r\n",
        "print(matrix[1])\r\n",
        "print(matrix[0])"
      ],
      "execution_count": null,
      "outputs": [
        {
          "output_type": "stream",
          "text": [
            "2\n",
            "[[8, 1], [5, 7], [2, 3]]\n",
            "[[1, 7, 4], [5, 6, 1]]\n"
          ],
          "name": "stdout"
        }
      ]
    },
    {
      "cell_type": "code",
      "metadata": {
        "id": "5ds45UGUFbeP",
        "colab": {
          "base_uri": "https://localhost:8080/",
          "height": 164
        },
        "outputId": "71832c97-157f-4e44-ec51-454ec219b794"
      },
      "source": [
        "print(list_matrix[0]*list_matrix[1])"
      ],
      "execution_count": null,
      "outputs": [
        {
          "output_type": "error",
          "ename": "TypeError",
          "evalue": "ignored",
          "traceback": [
            "\u001b[0;31m---------------------------------------------------------------------------\u001b[0m",
            "\u001b[0;31mTypeError\u001b[0m                                 Traceback (most recent call last)",
            "\u001b[0;32m<ipython-input-13-d7605dcd3388>\u001b[0m in \u001b[0;36m<module>\u001b[0;34m()\u001b[0m\n\u001b[0;32m----> 1\u001b[0;31m \u001b[0mprint\u001b[0m\u001b[0;34m(\u001b[0m\u001b[0mlist_matrix\u001b[0m\u001b[0;34m[\u001b[0m\u001b[0;36m0\u001b[0m\u001b[0;34m]\u001b[0m\u001b[0;34m*\u001b[0m\u001b[0mlist_matrix\u001b[0m\u001b[0;34m[\u001b[0m\u001b[0;36m1\u001b[0m\u001b[0;34m]\u001b[0m\u001b[0;34m)\u001b[0m\u001b[0;34m\u001b[0m\u001b[0;34m\u001b[0m\u001b[0m\n\u001b[0m",
            "\u001b[0;31mTypeError\u001b[0m: can't multiply sequence by non-int of type 'list'"
          ]
        }
      ]
    },
    {
      "cell_type": "code",
      "metadata": {
        "id": "t2kvgSxgGBbq"
      },
      "source": [
        ""
      ],
      "execution_count": null,
      "outputs": []
    },
    {
      "cell_type": "code",
      "metadata": {
        "id": "2wQRpQa7FpNp"
      },
      "source": [
        ""
      ],
      "execution_count": null,
      "outputs": []
    },
    {
      "cell_type": "code",
      "metadata": {
        "id": "e1pS5LhSFkA-"
      },
      "source": [
        ""
      ],
      "execution_count": null,
      "outputs": []
    },
    {
      "cell_type": "code",
      "metadata": {
        "id": "EmSREUQgFPrC"
      },
      "source": [
        ""
      ],
      "execution_count": null,
      "outputs": []
    },
    {
      "cell_type": "code",
      "metadata": {
        "id": "qnixIKHWEWzW"
      },
      "source": [
        ""
      ],
      "execution_count": null,
      "outputs": []
    },
    {
      "cell_type": "code",
      "metadata": {
        "id": "fwiBco46_gNj",
        "colab": {
          "base_uri": "https://localhost:8080/"
        },
        "outputId": "fa8fbd27-9386-442a-b3f6-19ab22922113"
      },
      "source": [
        "list_x = [[5.2,3.0,4],[9.1,0.1,3]]\r\n",
        "print(len(list_x))\r\n",
        "print(list_x[1])\r\n",
        "print(list_x[1][2])"
      ],
      "execution_count": null,
      "outputs": [
        {
          "output_type": "stream",
          "text": [
            "2\n",
            "[9.1, 0.1, 3]\n",
            "3\n"
          ],
          "name": "stdout"
        }
      ]
    },
    {
      "cell_type": "code",
      "metadata": {
        "id": "ToVtxDy2tctI"
      },
      "source": [
        ""
      ],
      "execution_count": null,
      "outputs": []
    },
    {
      "cell_type": "code",
      "metadata": {
        "id": "Gtc6Men3szva"
      },
      "source": [
        "a= list_x[1][2]"
      ],
      "execution_count": null,
      "outputs": []
    },
    {
      "cell_type": "code",
      "metadata": {
        "id": "4ddiBNzxtdci"
      },
      "source": [
        ""
      ],
      "execution_count": null,
      "outputs": []
    },
    {
      "cell_type": "code",
      "metadata": {
        "id": "FrgWp5wltQwY"
      },
      "source": [
        ""
      ],
      "execution_count": null,
      "outputs": []
    },
    {
      "cell_type": "code",
      "metadata": {
        "id": "s4De69xetIUr"
      },
      "source": [
        "b = list_x[0][2]"
      ],
      "execution_count": null,
      "outputs": []
    },
    {
      "cell_type": "code",
      "metadata": {
        "id": "eHz4xj0UtfNH"
      },
      "source": [
        ""
      ],
      "execution_count": null,
      "outputs": []
    },
    {
      "cell_type": "code",
      "metadata": {
        "id": "SNP194MItT1y",
        "colab": {
          "base_uri": "https://localhost:8080/"
        },
        "outputId": "98913ed6-ac1b-4439-ce6d-aa56d6860590"
      },
      "source": [
        "a*b"
      ],
      "execution_count": null,
      "outputs": [
        {
          "output_type": "execute_result",
          "data": {
            "text/plain": [
              "12"
            ]
          },
          "metadata": {
            "tags": []
          },
          "execution_count": 55
        }
      ]
    },
    {
      "cell_type": "code",
      "metadata": {
        "id": "yZ2vUnq6tf6W"
      },
      "source": [
        ""
      ],
      "execution_count": null,
      "outputs": []
    },
    {
      "cell_type": "code",
      "metadata": {
        "id": "vWeqYen4tVro"
      },
      "source": [
        ""
      ],
      "execution_count": null,
      "outputs": []
    },
    {
      "cell_type": "code",
      "metadata": {
        "id": "HiJ-gvHmtMXS"
      },
      "source": [
        ""
      ],
      "execution_count": null,
      "outputs": []
    },
    {
      "cell_type": "code",
      "metadata": {
        "id": "7vgF4L0RtFni"
      },
      "source": [
        ""
      ],
      "execution_count": null,
      "outputs": []
    },
    {
      "cell_type": "code",
      "metadata": {
        "id": "cj256UFftBjE"
      },
      "source": [
        ""
      ],
      "execution_count": null,
      "outputs": []
    },
    {
      "cell_type": "code",
      "metadata": {
        "id": "7MKJjr0rs76M"
      },
      "source": [
        ""
      ],
      "execution_count": null,
      "outputs": []
    },
    {
      "cell_type": "code",
      "metadata": {
        "id": "PC4gZ_CLB2Fa"
      },
      "source": [
        ""
      ],
      "execution_count": null,
      "outputs": []
    },
    {
      "cell_type": "code",
      "metadata": {
        "id": "KGoLF5YY-d5E"
      },
      "source": [
        ""
      ],
      "execution_count": null,
      "outputs": []
    },
    {
      "cell_type": "code",
      "metadata": {
        "id": "-GCEdzgyw2yv"
      },
      "source": [
        ""
      ],
      "execution_count": null,
      "outputs": []
    },
    {
      "cell_type": "code",
      "metadata": {
        "id": "T1ARt9rsvK-A"
      },
      "source": [
        ""
      ],
      "execution_count": null,
      "outputs": []
    },
    {
      "cell_type": "code",
      "metadata": {
        "id": "8K9wS-QetEAf"
      },
      "source": [
        ""
      ],
      "execution_count": null,
      "outputs": []
    },
    {
      "cell_type": "code",
      "metadata": {
        "id": "zvUl0u-Osspg"
      },
      "source": [
        ""
      ],
      "execution_count": null,
      "outputs": []
    },
    {
      "cell_type": "code",
      "metadata": {
        "id": "TAKRxy7hqQJ9"
      },
      "source": [
        ""
      ],
      "execution_count": null,
      "outputs": []
    },
    {
      "cell_type": "code",
      "metadata": {
        "id": "yeHc6FhPqF_b"
      },
      "source": [
        ""
      ],
      "execution_count": null,
      "outputs": []
    },
    {
      "cell_type": "code",
      "metadata": {
        "id": "AGsfG8a1p8Mv"
      },
      "source": [
        ""
      ],
      "execution_count": null,
      "outputs": []
    },
    {
      "cell_type": "code",
      "metadata": {
        "id": "DSJhEI1Np13q"
      },
      "source": [
        ""
      ],
      "execution_count": null,
      "outputs": []
    },
    {
      "cell_type": "code",
      "metadata": {
        "id": "PxTVT31DpSjJ"
      },
      "source": [
        ""
      ],
      "execution_count": null,
      "outputs": []
    },
    {
      "cell_type": "code",
      "metadata": {
        "id": "uaf262Rllnhn"
      },
      "source": [
        ""
      ],
      "execution_count": null,
      "outputs": []
    },
    {
      "cell_type": "markdown",
      "metadata": {
        "id": "N9kNkF8US8_a"
      },
      "source": [
        "## Zeros,ones,random"
      ]
    },
    {
      "cell_type": "code",
      "metadata": {
        "id": "3Mi3K-c5TJMB"
      },
      "source": [
        "import numpy as np"
      ],
      "execution_count": 1,
      "outputs": []
    },
    {
      "cell_type": "code",
      "metadata": {
        "id": "UFHa9GdIWSda",
        "outputId": "181d342a-6777-4bb9-c22a-88f33e8bbe70",
        "colab": {
          "base_uri": "https://localhost:8080/"
        }
      },
      "source": [
        "np.zeros(2)"
      ],
      "execution_count": 2,
      "outputs": [
        {
          "output_type": "execute_result",
          "data": {
            "text/plain": [
              "array([0., 0.])"
            ]
          },
          "metadata": {
            "tags": []
          },
          "execution_count": 2
        }
      ]
    },
    {
      "cell_type": "code",
      "metadata": {
        "id": "4t5c4zsSWavq",
        "outputId": "1da34efd-8ace-401b-836b-a34dcf5f1021",
        "colab": {
          "base_uri": "https://localhost:8080/"
        }
      },
      "source": [
        "np.zeros((2,3))"
      ],
      "execution_count": 3,
      "outputs": [
        {
          "output_type": "execute_result",
          "data": {
            "text/plain": [
              "array([[0., 0., 0.],\n",
              "       [0., 0., 0.]])"
            ]
          },
          "metadata": {
            "tags": []
          },
          "execution_count": 3
        }
      ]
    },
    {
      "cell_type": "markdown",
      "metadata": {
        "id": "N433CTclXYHG"
      },
      "source": [
        "ones"
      ]
    },
    {
      "cell_type": "code",
      "metadata": {
        "id": "rFZRfsYeXZ-R",
        "outputId": "6b67aa1d-8bed-440d-8ba5-eef9a08606fe",
        "colab": {
          "base_uri": "https://localhost:8080/"
        }
      },
      "source": [
        "np.ones((2,3))"
      ],
      "execution_count": 4,
      "outputs": [
        {
          "output_type": "execute_result",
          "data": {
            "text/plain": [
              "array([[1., 1., 1.],\n",
              "       [1., 1., 1.]])"
            ]
          },
          "metadata": {
            "tags": []
          },
          "execution_count": 4
        }
      ]
    },
    {
      "cell_type": "markdown",
      "metadata": {
        "id": "DslN4Eh0YeOK"
      },
      "source": [
        "matrix operation (scalar multiplication)"
      ]
    },
    {
      "cell_type": "code",
      "metadata": {
        "id": "-XLoFMWfYhky",
        "outputId": "fe9cd96d-ece8-4922-865e-43ec1f6cb044",
        "colab": {
          "base_uri": "https://localhost:8080/"
        }
      },
      "source": [
        "m_one=np.ones((2,3))\r\n",
        "2*m_one"
      ],
      "execution_count": 5,
      "outputs": [
        {
          "output_type": "execute_result",
          "data": {
            "text/plain": [
              "array([[2., 2., 2.],\n",
              "       [2., 2., 2.]])"
            ]
          },
          "metadata": {
            "tags": []
          },
          "execution_count": 5
        }
      ]
    },
    {
      "cell_type": "markdown",
      "metadata": {
        "id": "mbYHWiBmZIzl"
      },
      "source": [
        "random"
      ]
    },
    {
      "cell_type": "code",
      "metadata": {
        "id": "Orggg6WEZLB9",
        "outputId": "c066ef3d-f7e8-4fa9-f1ce-510fbbdc1329",
        "colab": {
          "base_uri": "https://localhost:8080/"
        }
      },
      "source": [
        "np.random.rand(3,2) #uniform"
      ],
      "execution_count": 6,
      "outputs": [
        {
          "output_type": "execute_result",
          "data": {
            "text/plain": [
              "array([[0.30834475, 0.35167743],\n",
              "       [0.45998694, 0.84693667],\n",
              "       [0.61083465, 0.53890737]])"
            ]
          },
          "metadata": {
            "tags": []
          },
          "execution_count": 6
        }
      ]
    },
    {
      "cell_type": "code",
      "metadata": {
        "id": "uwBlc4qwcMQV",
        "outputId": "de3b63ea-b15c-4bd9-dc4c-61ca3cebd357",
        "colab": {
          "base_uri": "https://localhost:8080/"
        }
      },
      "source": [
        "np.random.randn(3,2) #normal"
      ],
      "execution_count": 8,
      "outputs": [
        {
          "output_type": "execute_result",
          "data": {
            "text/plain": [
              "array([[-1.37856063, -0.59443173],\n",
              "       [-1.97030449,  0.71471707],\n",
              "       [ 0.13677076,  1.3146048 ]])"
            ]
          },
          "metadata": {
            "tags": []
          },
          "execution_count": 8
        }
      ]
    },
    {
      "cell_type": "code",
      "metadata": {
        "id": "lSdYTYIIcfQX",
        "outputId": "2eaf1167-44ea-4953-a3da-3dc572069519",
        "colab": {
          "base_uri": "https://localhost:8080/",
          "height": 34
        }
      },
      "source": [
        "np.random.choice([1,2,3,'a','b','c'])"
      ],
      "execution_count": 9,
      "outputs": [
        {
          "output_type": "execute_result",
          "data": {
            "application/vnd.google.colaboratory.intrinsic+json": {
              "type": "string"
            },
            "text/plain": [
              "'a'"
            ]
          },
          "metadata": {
            "tags": []
          },
          "execution_count": 9
        }
      ]
    },
    {
      "cell_type": "code",
      "metadata": {
        "id": "ADenrUJEdbmS",
        "outputId": "70c17f66-d455-44da-c8c1-35e5bab5feb4",
        "colab": {
          "base_uri": "https://localhost:8080/"
        }
      },
      "source": [
        "np.random.choice([1,2,3,'a','b','c'],2)"
      ],
      "execution_count": 10,
      "outputs": [
        {
          "output_type": "execute_result",
          "data": {
            "text/plain": [
              "array(['c', 'a'], dtype='<U21')"
            ]
          },
          "metadata": {
            "tags": []
          },
          "execution_count": 10
        }
      ]
    },
    {
      "cell_type": "code",
      "metadata": {
        "id": "718NykzDdxKl",
        "outputId": "f4377299-cc90-4921-a61b-cfa5180a96b7",
        "colab": {
          "base_uri": "https://localhost:8080/"
        }
      },
      "source": [
        "np.random.choice([1,2,3,30,28,100],size=2)"
      ],
      "execution_count": 12,
      "outputs": [
        {
          "output_type": "execute_result",
          "data": {
            "text/plain": [
              "array([ 30, 100])"
            ]
          },
          "metadata": {
            "tags": []
          },
          "execution_count": 12
        }
      ]
    },
    {
      "cell_type": "code",
      "metadata": {
        "id": "ELAJCZn6eIHB",
        "outputId": "889abdbd-6970-44b1-c46a-0f4b09ede2bf",
        "colab": {
          "base_uri": "https://localhost:8080/"
        }
      },
      "source": [
        "np.random.choice([1,2,3,30,28,100],size=(2,3),replace=False)"
      ],
      "execution_count": 15,
      "outputs": [
        {
          "output_type": "execute_result",
          "data": {
            "text/plain": [
              "array([[  2,  30, 100],\n",
              "       [ 28,   1,   3]])"
            ]
          },
          "metadata": {
            "tags": []
          },
          "execution_count": 15
        }
      ]
    },
    {
      "cell_type": "code",
      "metadata": {
        "id": "dVr53sG2fpUC",
        "outputId": "db2811a1-bea7-44c3-d949-1af77300bcba",
        "colab": {
          "base_uri": "https://localhost:8080/"
        }
      },
      "source": [
        "np.random.choice([1,2,3,30,28], size=10, p=[0.1,0.2,0.4,0.2,0.1])"
      ],
      "execution_count": 20,
      "outputs": [
        {
          "output_type": "execute_result",
          "data": {
            "text/plain": [
              "array([ 2,  2, 30,  3, 28,  3, 28,  3,  3,  3])"
            ]
          },
          "metadata": {
            "tags": []
          },
          "execution_count": 20
        }
      ]
    },
    {
      "cell_type": "markdown",
      "metadata": {
        "id": "8foiEoNFg_UE"
      },
      "source": [
        "## เฉลย"
      ]
    },
    {
      "cell_type": "code",
      "metadata": {
        "id": "GoMj-3YEhGLO"
      },
      "source": [
        "def mat_mul(A,B):\r\n",
        "  c = np.zeros((A.shape[0],B.shape[1]))\r\n",
        "  return c\r\n"
      ],
      "execution_count": 24,
      "outputs": []
    },
    {
      "cell_type": "code",
      "metadata": {
        "id": "0y62qAHliru5"
      },
      "source": [
        ""
      ],
      "execution_count": null,
      "outputs": []
    },
    {
      "cell_type": "code",
      "metadata": {
        "id": "TUKDC3EwiPxa"
      },
      "source": [
        ""
      ],
      "execution_count": null,
      "outputs": []
    },
    {
      "cell_type": "code",
      "metadata": {
        "id": "Z5-3lClmhVr1"
      },
      "source": [
        ""
      ],
      "execution_count": null,
      "outputs": []
    },
    {
      "cell_type": "code",
      "metadata": {
        "id": "ougfJrJ0hRpm"
      },
      "source": [
        ""
      ],
      "execution_count": null,
      "outputs": []
    },
    {
      "cell_type": "code",
      "metadata": {
        "id": "QJ7A6QXUg5Em"
      },
      "source": [
        ""
      ],
      "execution_count": null,
      "outputs": []
    },
    {
      "cell_type": "code",
      "metadata": {
        "id": "d50v-QXKgwRl"
      },
      "source": [
        ""
      ],
      "execution_count": null,
      "outputs": []
    },
    {
      "cell_type": "code",
      "metadata": {
        "id": "sPe43100gcW6"
      },
      "source": [
        ""
      ],
      "execution_count": null,
      "outputs": []
    },
    {
      "cell_type": "code",
      "metadata": {
        "id": "FnMLJlSVgHTI"
      },
      "source": [
        ""
      ],
      "execution_count": null,
      "outputs": []
    },
    {
      "cell_type": "code",
      "metadata": {
        "id": "XwQVWEvRf_m7"
      },
      "source": [
        ""
      ],
      "execution_count": null,
      "outputs": []
    },
    {
      "cell_type": "code",
      "metadata": {
        "id": "0hW6JmDdfi75"
      },
      "source": [
        ""
      ],
      "execution_count": null,
      "outputs": []
    },
    {
      "cell_type": "code",
      "metadata": {
        "id": "ShsdfErVffj9"
      },
      "source": [
        ""
      ],
      "execution_count": null,
      "outputs": []
    },
    {
      "cell_type": "code",
      "metadata": {
        "id": "s-Q4MoI5eAKB"
      },
      "source": [
        ""
      ],
      "execution_count": null,
      "outputs": []
    },
    {
      "cell_type": "code",
      "metadata": {
        "id": "cs78vPN_cUHN"
      },
      "source": [
        ""
      ],
      "execution_count": null,
      "outputs": []
    },
    {
      "cell_type": "code",
      "metadata": {
        "id": "kUQOzH37Y02I"
      },
      "source": [
        ""
      ],
      "execution_count": null,
      "outputs": []
    },
    {
      "cell_type": "code",
      "metadata": {
        "id": "yF8_YtUtWhvC"
      },
      "source": [
        ""
      ],
      "execution_count": null,
      "outputs": []
    }
  ]
}