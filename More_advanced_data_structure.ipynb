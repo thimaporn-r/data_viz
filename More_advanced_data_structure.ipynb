{
  "nbformat": 4,
  "nbformat_minor": 0,
  "metadata": {
    "colab": {
      "name": "More advanced data structure.ipynb",
      "provenance": [],
      "authorship_tag": "ABX9TyOK3rC/uThMJ30PLs3S7vSv",
      "include_colab_link": true
    },
    "kernelspec": {
      "name": "python3",
      "display_name": "Python 3"
    }
  },
  "cells": [
    {
      "cell_type": "markdown",
      "metadata": {
        "id": "view-in-github",
        "colab_type": "text"
      },
      "source": [
        "<a href=\"https://colab.research.google.com/github/thimaporn-r/data_viz/blob/main/More_advanced_data_structure.ipynb\" target=\"_parent\"><img src=\"https://colab.research.google.com/assets/colab-badge.svg\" alt=\"Open In Colab\"/></a>"
      ]
    },
    {
      "cell_type": "markdown",
      "metadata": {
        "id": "9Tm2BeR7nemy"
      },
      "source": [
        "## dictionary\r\n",
        "\r\n",
        "สามารถindexด้วยอะไรก็ได้\r\n",
        "\r\n"
      ]
    },
    {
      "cell_type": "markdown",
      "metadata": {
        "id": "nMKn0X6QoRuH"
      },
      "source": [
        "index คือการชี้"
      ]
    },
    {
      "cell_type": "code",
      "metadata": {
        "id": "vLzRHDHeoHpR"
      },
      "source": [
        "ex_dict = { ' a ' :10, ' 1 ' :1, 'stat' :5}"
      ],
      "execution_count": 2,
      "outputs": []
    },
    {
      "cell_type": "code",
      "metadata": {
        "colab": {
          "base_uri": "https://localhost:8080/"
        },
        "id": "LfKckegYpaRP",
        "outputId": "3119666e-91f8-4ada-9a02-6057b8da8331"
      },
      "source": [
        "ex_dict['stat']"
      ],
      "execution_count": 3,
      "outputs": [
        {
          "output_type": "execute_result",
          "data": {
            "text/plain": [
              "5"
            ]
          },
          "metadata": {
            "tags": []
          },
          "execution_count": 3
        }
      ]
    },
    {
      "cell_type": "code",
      "metadata": {
        "id": "ZGhU0W6EpgHZ"
      },
      "source": [
        "ex2_dict = { 1 : 'one', 2 : 'two', 3 :'three'}"
      ],
      "execution_count": 8,
      "outputs": []
    },
    {
      "cell_type": "code",
      "metadata": {
        "colab": {
          "base_uri": "https://localhost:8080/",
          "height": 34
        },
        "id": "xuoRbYympyM6",
        "outputId": "fa9038f1-186e-4efa-a17f-047c7559153b"
      },
      "source": [
        "ex2_dict[2]"
      ],
      "execution_count": 9,
      "outputs": [
        {
          "output_type": "execute_result",
          "data": {
            "application/vnd.google.colaboratory.intrinsic+json": {
              "type": "string"
            },
            "text/plain": [
              "'two'"
            ]
          },
          "metadata": {
            "tags": []
          },
          "execution_count": 9
        }
      ]
    },
    {
      "cell_type": "markdown",
      "metadata": {
        "id": "3VJedVrIqUz5"
      },
      "source": [
        " ### การเพิ่มสมาชิก"
      ]
    },
    {
      "cell_type": "code",
      "metadata": {
        "id": "FiqImvQXqZP-"
      },
      "source": [
        "ex2_dict[0] = 'zero'"
      ],
      "execution_count": 10,
      "outputs": []
    },
    {
      "cell_type": "code",
      "metadata": {
        "colab": {
          "base_uri": "https://localhost:8080/"
        },
        "id": "qLn_vebCqwfd",
        "outputId": "eb63d7c1-ae2f-46f5-fb50-78b4ac517ce7"
      },
      "source": [
        "ex2_dict"
      ],
      "execution_count": 11,
      "outputs": [
        {
          "output_type": "execute_result",
          "data": {
            "text/plain": [
              "{0: 'zero', 1: 'one', 2: 'two', 3: 'three'}"
            ]
          },
          "metadata": {
            "tags": []
          },
          "execution_count": 11
        }
      ]
    },
    {
      "cell_type": "markdown",
      "metadata": {
        "id": "3e-__8ugq6PY"
      },
      "source": [
        "คำสั่ง"
      ]
    },
    {
      "cell_type": "code",
      "metadata": {
        "colab": {
          "base_uri": "https://localhost:8080/"
        },
        "id": "62q9DvXMqyiv",
        "outputId": "80a73c60-4e6a-479e-f2d0-aa5d22fc1a40"
      },
      "source": [
        "ex2_dict.keys()"
      ],
      "execution_count": 12,
      "outputs": [
        {
          "output_type": "execute_result",
          "data": {
            "text/plain": [
              "dict_keys([1, 2, 3, 0])"
            ]
          },
          "metadata": {
            "tags": []
          },
          "execution_count": 12
        }
      ]
    },
    {
      "cell_type": "code",
      "metadata": {
        "colab": {
          "base_uri": "https://localhost:8080/"
        },
        "id": "22ZKVR8rrBta",
        "outputId": "402d9c98-afc7-4710-f19e-55aab1512bbc"
      },
      "source": [
        "for index in ex2_dict.keys():\r\n",
        "  print(index)"
      ],
      "execution_count": 13,
      "outputs": [
        {
          "output_type": "stream",
          "text": [
            "1\n",
            "2\n",
            "3\n",
            "0\n"
          ],
          "name": "stdout"
        }
      ]
    },
    {
      "cell_type": "code",
      "metadata": {
        "colab": {
          "base_uri": "https://localhost:8080/"
        },
        "id": "JceayCcsrVhN",
        "outputId": "c0fe7ad0-2110-4d27-d73f-cea5c431ecd0"
      },
      "source": [
        "ex2_dict.values()"
      ],
      "execution_count": 14,
      "outputs": [
        {
          "output_type": "execute_result",
          "data": {
            "text/plain": [
              "dict_values(['one', 'two', 'three', 'zero'])"
            ]
          },
          "metadata": {
            "tags": []
          },
          "execution_count": 14
        }
      ]
    },
    {
      "cell_type": "code",
      "metadata": {
        "colab": {
          "base_uri": "https://localhost:8080/"
        },
        "id": "MoGC9PmFrsuH",
        "outputId": "feb637ab-e8fb-4526-ebfb-439a000f5a05"
      },
      "source": [
        "index"
      ],
      "execution_count": 15,
      "outputs": [
        {
          "output_type": "execute_result",
          "data": {
            "text/plain": [
              "0"
            ]
          },
          "metadata": {
            "tags": []
          },
          "execution_count": 15
        }
      ]
    },
    {
      "cell_type": "markdown",
      "metadata": {
        "id": "-q0E_Pspswz5"
      },
      "source": [
        "dict เอาไปใช้ร่วมกับ Dataframe ของ pandas"
      ]
    },
    {
      "cell_type": "markdown",
      "metadata": {
        "id": "gQ3V2qxBtHNf"
      },
      "source": [
        "# numpy array"
      ]
    },
    {
      "cell_type": "markdown",
      "metadata": {
        "id": "qBAvmxYet-zh"
      },
      "source": [
        "numpy คือ package ที่ทำงานเกี่ยวกับ array ของตัวเลช (ที่มีคนเขียนขึ้นมาและนิยมใช้)"
      ]
    },
    {
      "cell_type": "code",
      "metadata": {
        "id": "AYkiBD_-tP31"
      },
      "source": [
        "import numpy "
      ],
      "execution_count": 16,
      "outputs": []
    },
    {
      "cell_type": "code",
      "metadata": {
        "colab": {
          "base_uri": "https://localhost:8080/"
        },
        "id": "UVxulQxquhmV",
        "outputId": "eacd975e-6460-48c4-d41a-ab1f2ecf80d4"
      },
      "source": [
        "ex_2d_array = numpy.array([[5.2,3.0,4.5],[9.1,0.1,0.3]])\r\n",
        "print(ex_2d_array)"
      ],
      "execution_count": 17,
      "outputs": [
        {
          "output_type": "stream",
          "text": [
            "[[5.2 3.  4.5]\n",
            " [9.1 0.1 0.3]]\n"
          ],
          "name": "stdout"
        }
      ]
    },
    {
      "cell_type": "markdown",
      "metadata": {
        "id": "GZRN8dFAvf9x"
      },
      "source": [
        "### การชี้ค่าใน numpy array"
      ]
    },
    {
      "cell_type": "code",
      "metadata": {
        "colab": {
          "base_uri": "https://localhost:8080/"
        },
        "id": "GW9QBhfkvq0S",
        "outputId": "92a97cb3-9350-4893-e76e-53d674ed534d"
      },
      "source": [
        "ex_2d_array[1,2]"
      ],
      "execution_count": 18,
      "outputs": [
        {
          "output_type": "execute_result",
          "data": {
            "text/plain": [
              "0.3"
            ]
          },
          "metadata": {
            "tags": []
          },
          "execution_count": 18
        }
      ]
    },
    {
      "cell_type": "code",
      "metadata": {
        "colab": {
          "base_uri": "https://localhost:8080/"
        },
        "id": "BkP5qHZ8vw31",
        "outputId": "d559da75-61e6-410f-90a0-35f10d5a0f53"
      },
      "source": [
        "list_x = [[5.2,3.0,4.5],[9.1,0.1,0.3]]\r\n",
        "print(len(list_x))\r\n",
        "print(list_x[1])\r\n",
        "print(list_x[1][2])"
      ],
      "execution_count": 22,
      "outputs": [
        {
          "output_type": "stream",
          "text": [
            "2\n",
            "[9.1, 0.1, 0.3]\n",
            "0.3\n"
          ],
          "name": "stdout"
        }
      ]
    },
    {
      "cell_type": "markdown",
      "metadata": {
        "id": "mK4GlWeLyDnq"
      },
      "source": [
        "### operations"
      ]
    },
    {
      "cell_type": "code",
      "metadata": {
        "colab": {
          "base_uri": "https://localhost:8080/"
        },
        "id": "dJ_xu9wQyEU5",
        "outputId": "d1ae4b4c-607a-466c-c5eb-a670c4a0bc45"
      },
      "source": [
        "ex2_2d_array = numpy.array([[1,0,0],[0,0,1]])\r\n",
        "print(ex2_2d_array)\r\n",
        "print(ex_2d_array)"
      ],
      "execution_count": 24,
      "outputs": [
        {
          "output_type": "stream",
          "text": [
            "[[1 0 0]\n",
            " [0 0 1]]\n",
            "[[5.2 3.  4.5]\n",
            " [9.1 0.1 0.3]]\n"
          ],
          "name": "stdout"
        }
      ]
    },
    {
      "cell_type": "code",
      "metadata": {
        "colab": {
          "base_uri": "https://localhost:8080/"
        },
        "id": "8evjGwegyhDl",
        "outputId": "de717ab5-d544-4b55-a2aa-79fb22afa1e9"
      },
      "source": [
        "ex_2d_array.shape"
      ],
      "execution_count": 25,
      "outputs": [
        {
          "output_type": "execute_result",
          "data": {
            "text/plain": [
              "(2, 3)"
            ]
          },
          "metadata": {
            "tags": []
          },
          "execution_count": 25
        }
      ]
    },
    {
      "cell_type": "code",
      "metadata": {
        "colab": {
          "base_uri": "https://localhost:8080/"
        },
        "id": "hai6_mxWyqeS",
        "outputId": "f3511d60-d306-444e-f00d-8da5c3a8c6a9"
      },
      "source": [
        "ex_2d_array + ex2_2d_array"
      ],
      "execution_count": 26,
      "outputs": [
        {
          "output_type": "execute_result",
          "data": {
            "text/plain": [
              "array([[6.2, 3. , 4.5],\n",
              "       [9.1, 0.1, 1.3]])"
            ]
          },
          "metadata": {
            "tags": []
          },
          "execution_count": 26
        }
      ]
    },
    {
      "cell_type": "code",
      "metadata": {
        "id": "5LEL3C9xzEAw"
      },
      "source": [
        "list_x = [[5.2,3.0,4.5],[9.1,0.1,0.3]]\r\n",
        "list_x2 = [[1,0,0],[0,0,1]]\r\n"
      ],
      "execution_count": null,
      "outputs": []
    },
    {
      "cell_type": "code",
      "metadata": {
        "colab": {
          "base_uri": "https://localhost:8080/"
        },
        "id": "C8C1s9ALxbNh",
        "outputId": "8cb25832-587f-4a19-bb40-f9a5e90dc123"
      },
      "source": [
        "ex_2d_array - ex2_2d_array"
      ],
      "execution_count": 27,
      "outputs": [
        {
          "output_type": "execute_result",
          "data": {
            "text/plain": [
              "array([[ 4.2,  3. ,  4.5],\n",
              "       [ 9.1,  0.1, -0.7]])"
            ]
          },
          "metadata": {
            "tags": []
          },
          "execution_count": 27
        }
      ]
    },
    {
      "cell_type": "markdown",
      "metadata": {
        "id": "qpbCqk4y1WXJ"
      },
      "source": [
        "คูณ"
      ]
    },
    {
      "cell_type": "code",
      "metadata": {
        "colab": {
          "base_uri": "https://localhost:8080/"
        },
        "id": "TtxYW0qR1R83",
        "outputId": "d05cf9cf-b13e-471d-88c2-8cb99c07f576"
      },
      "source": [
        "ex_2d_array * ex2_2d_array"
      ],
      "execution_count": 28,
      "outputs": [
        {
          "output_type": "execute_result",
          "data": {
            "text/plain": [
              "array([[5.2, 0. , 0. ],\n",
              "       [0. , 0. , 0.3]])"
            ]
          },
          "metadata": {
            "tags": []
          },
          "execution_count": 28
        }
      ]
    },
    {
      "cell_type": "code",
      "metadata": {
        "id": "JZc02jqT1Trt"
      },
      "source": [
        "numpy.dot()"
      ],
      "execution_count": null,
      "outputs": []
    },
    {
      "cell_type": "code",
      "metadata": {
        "id": "ILf-LRDQyAY0"
      },
      "source": [
        ""
      ],
      "execution_count": null,
      "outputs": []
    },
    {
      "cell_type": "code",
      "metadata": {
        "id": "tmEvR1MFxAux"
      },
      "source": [
        ""
      ],
      "execution_count": null,
      "outputs": []
    },
    {
      "cell_type": "code",
      "metadata": {
        "colab": {
          "base_uri": "https://localhost:8080/"
        },
        "id": "jKd4XOfAw9uQ",
        "outputId": "6fbe9e1d-16fa-4d56-f712-de02e8598b30"
      },
      "source": [
        "print(ex_2d_array)"
      ],
      "execution_count": 29,
      "outputs": [
        {
          "output_type": "stream",
          "text": [
            "[[5.2 3.  4.5]\n",
            " [9.1 0.1 0.3]]\n"
          ],
          "name": "stdout"
        }
      ]
    },
    {
      "cell_type": "code",
      "metadata": {
        "colab": {
          "base_uri": "https://localhost:8080/"
        },
        "id": "0DEsobPu5vNN",
        "outputId": "130c88ee-d7cb-4f34-bbb4-20e4200e1818"
      },
      "source": [
        "ex_2d_array[1,1:]"
      ],
      "execution_count": 31,
      "outputs": [
        {
          "output_type": "execute_result",
          "data": {
            "text/plain": [
              "array([0.1, 0.3])"
            ]
          },
          "metadata": {
            "tags": []
          },
          "execution_count": 31
        }
      ]
    },
    {
      "cell_type": "code",
      "metadata": {
        "colab": {
          "base_uri": "https://localhost:8080/"
        },
        "id": "9_dMpE-w6Djd",
        "outputId": "96cdd110-14dd-4c0c-d287-c5b2129f328b"
      },
      "source": [
        "ex_2d_array[:,:2]"
      ],
      "execution_count": 32,
      "outputs": [
        {
          "output_type": "execute_result",
          "data": {
            "text/plain": [
              "array([[5.2, 3. ],\n",
              "       [9.1, 0.1]])"
            ]
          },
          "metadata": {
            "tags": []
          },
          "execution_count": 32
        }
      ]
    },
    {
      "cell_type": "code",
      "metadata": {
        "id": "0f72fRz26JFY"
      },
      "source": [
        ""
      ],
      "execution_count": null,
      "outputs": []
    },
    {
      "cell_type": "code",
      "metadata": {
        "id": "fcLp69xA55-e"
      },
      "source": [
        ""
      ],
      "execution_count": null,
      "outputs": []
    },
    {
      "cell_type": "code",
      "metadata": {
        "id": "-GCEdzgyw2yv"
      },
      "source": [
        ""
      ],
      "execution_count": null,
      "outputs": []
    },
    {
      "cell_type": "code",
      "metadata": {
        "id": "T1ARt9rsvK-A"
      },
      "source": [
        ""
      ],
      "execution_count": null,
      "outputs": []
    },
    {
      "cell_type": "code",
      "metadata": {
        "id": "8K9wS-QetEAf"
      },
      "source": [
        ""
      ],
      "execution_count": null,
      "outputs": []
    },
    {
      "cell_type": "code",
      "metadata": {
        "id": "zvUl0u-Osspg"
      },
      "source": [
        ""
      ],
      "execution_count": null,
      "outputs": []
    },
    {
      "cell_type": "code",
      "metadata": {
        "id": "TAKRxy7hqQJ9"
      },
      "source": [
        ""
      ],
      "execution_count": null,
      "outputs": []
    },
    {
      "cell_type": "code",
      "metadata": {
        "id": "yeHc6FhPqF_b"
      },
      "source": [
        ""
      ],
      "execution_count": null,
      "outputs": []
    },
    {
      "cell_type": "code",
      "metadata": {
        "id": "AGsfG8a1p8Mv"
      },
      "source": [
        ""
      ],
      "execution_count": null,
      "outputs": []
    },
    {
      "cell_type": "code",
      "metadata": {
        "id": "DSJhEI1Np13q"
      },
      "source": [
        ""
      ],
      "execution_count": null,
      "outputs": []
    },
    {
      "cell_type": "code",
      "metadata": {
        "id": "PxTVT31DpSjJ"
      },
      "source": [
        ""
      ],
      "execution_count": null,
      "outputs": []
    },
    {
      "cell_type": "code",
      "metadata": {
        "id": "uaf262Rllnhn"
      },
      "source": [
        ""
      ],
      "execution_count": null,
      "outputs": []
    }
  ]
}