{
  "nbformat": 4,
  "nbformat_minor": 0,
  "metadata": {
    "colab": {
      "name": "Function_Loop_Condition.ipynb",
      "provenance": [],
      "collapsed_sections": [],
      "authorship_tag": "ABX9TyPILGJc5MjmCGKhzmbI7b0T",
      "include_colab_link": true
    },
    "kernelspec": {
      "name": "python3",
      "display_name": "Python 3"
    }
  },
  "cells": [
    {
      "cell_type": "markdown",
      "metadata": {
        "id": "view-in-github",
        "colab_type": "text"
      },
      "source": [
        "<a href=\"https://colab.research.google.com/github/thimaporn-r/data_viz/blob/main/Function_Loop_Condition.ipynb\" target=\"_parent\"><img src=\"https://colab.research.google.com/assets/colab-badge.svg\" alt=\"Open In Colab\"/></a>"
      ]
    },
    {
      "cell_type": "markdown",
      "metadata": {
        "id": "-cKp9Lagfry_"
      },
      "source": [
        ""
      ]
    },
    {
      "cell_type": "code",
      "metadata": {
        "id": "Il_owXVefgqP"
      },
      "source": [
        "name = 'ธิมาพร'\r\n",
        "surname = 'รอดจินดา'\r\n",
        "ID = '613020553-4'\r\n"
      ],
      "execution_count": null,
      "outputs": []
    },
    {
      "cell_type": "code",
      "metadata": {
        "id": "o6S1MsEXnVc_"
      },
      "source": [
        ""
      ],
      "execution_count": null,
      "outputs": []
    },
    {
      "cell_type": "code",
      "metadata": {
        "colab": {
          "base_uri": "https://localhost:8080/"
        },
        "id": "xMp1GE5Mkup1",
        "outputId": "c3c39c47-5177-42ae-d999-b2ec35c7f312"
      },
      "source": [
        "\r\n",
        "b = f'ชื่อ {name} นามสกุล {surname}'\r\n",
        "print(b)"
      ],
      "execution_count": null,
      "outputs": [
        {
          "output_type": "stream",
          "text": [
            "ชื่อ ธิมาพร นามสกุล รอดจินดา\n"
          ],
          "name": "stdout"
        }
      ]
    },
    {
      "cell_type": "code",
      "metadata": {
        "id": "BKgklyvvLJhk"
      },
      "source": [
        ""
      ],
      "execution_count": null,
      "outputs": []
    },
    {
      "cell_type": "code",
      "metadata": {
        "id": "5Pm8Sl0RK8_m"
      },
      "source": [
        ""
      ],
      "execution_count": null,
      "outputs": []
    },
    {
      "cell_type": "code",
      "metadata": {
        "id": "2nSFUC57kwFf"
      },
      "source": [
        ""
      ],
      "execution_count": null,
      "outputs": []
    },
    {
      "cell_type": "code",
      "metadata": {
        "id": "wfMU4kftkeEs"
      },
      "source": [
        ""
      ],
      "execution_count": null,
      "outputs": []
    },
    {
      "cell_type": "markdown",
      "metadata": {
        "id": "h41lerXwiRMD"
      },
      "source": [
        "``` python \r\n",
        "def function_name(_Input_) :\r\n",
        "  do_something with _Input_ to get _output_\r\n",
        "  return _Output_\r\n",
        "```"
      ]
    },
    {
      "cell_type": "code",
      "metadata": {
        "id": "NkjbOptZg4Vz"
      },
      "source": [
        "``` python \r\n",
        "def function_name(_Input_) :\r\n",
        "  do_something with _Input\r\n",
        "```"
      ],
      "execution_count": null,
      "outputs": []
    },
    {
      "cell_type": "markdown",
      "metadata": {
        "id": "dSl_n99NmCMM"
      },
      "source": [
        "function  มีส่วนสำคัญทั้งหมด 4 ส่วน\r\n",
        "1. บอก python ว่าเราจะเขียนฟังชั้น ชื่ออะไร ```def function_name() ``` \r\n",
        "(ขาดไม่ได้)\r\n",
        "2. \r\n"
      ]
    },
    {
      "cell_type": "code",
      "metadata": {
        "id": "Dg4wLY6-gu1f"
      },
      "source": [
        "def print_name(surname,ID,name) :\r\n",
        "  st = f'ชื่อ {name} นามสกุล {surname} รหัส {ID}'\r\n",
        "  return st"
      ],
      "execution_count": null,
      "outputs": []
    },
    {
      "cell_type": "code",
      "metadata": {
        "colab": {
          "base_uri": "https://localhost:8080/",
          "height": 34
        },
        "id": "_WfCKq-OndSG",
        "outputId": "2cf58958-ccd7-4358-eb1b-ebfef692c857"
      },
      "source": [
        "print_name('ธิมาพร' , '613020553-4' , 'รอดจินดา')"
      ],
      "execution_count": null,
      "outputs": [
        {
          "output_type": "execute_result",
          "data": {
            "application/vnd.google.colaboratory.intrinsic+json": {
              "type": "string"
            },
            "text/plain": [
              "'ชื่อ รอดจินดา นามสกุล ธิมาพร รหัส 613020553-4'"
            ]
          },
          "metadata": {
            "tags": []
          },
          "execution_count": 9
        }
      ]
    },
    {
      "cell_type": "code",
      "metadata": {
        "id": "3pRlaDFAn499",
        "colab": {
          "base_uri": "https://localhost:8080/"
        },
        "outputId": "65d0f837-2234-4247-8e9e-2d50fb039d29"
      },
      "source": [
        "print(print_name(name='จิริยาพร' ,surname='จันทะมาตท์' ,ID='6130'))"
      ],
      "execution_count": null,
      "outputs": [
        {
          "output_type": "stream",
          "text": [
            "ชื่อ จิริยาพร นามสกุล จันทะมาตท์ รหัส 6130\n"
          ],
          "name": "stdout"
        }
      ]
    },
    {
      "cell_type": "code",
      "metadata": {
        "id": "EozFIevuqbA-"
      },
      "source": [
        "def Pi ( ) :\r\n",
        "  return 3.14159265359"
      ],
      "execution_count": null,
      "outputs": []
    },
    {
      "cell_type": "code",
      "metadata": {
        "colab": {
          "base_uri": "https://localhost:8080/"
        },
        "id": "Z_c2OWY3qzkl",
        "outputId": "04da4518-f205-4457-b5c7-55481ea0298e"
      },
      "source": [
        "Pi ( ) *(2**2) "
      ],
      "execution_count": null,
      "outputs": [
        {
          "output_type": "execute_result",
          "data": {
            "text/plain": [
              "12.56637061436"
            ]
          },
          "metadata": {
            "tags": []
          },
          "execution_count": 12
        }
      ]
    },
    {
      "cell_type": "markdown",
      "metadata": {
        "id": "WaYfIZPNrZT8"
      },
      "source": [
        "เราสามารถกำหนดค่า default ให้กัยฟังก์ชันได้ \\\\\r\n",
        "default คือ ค่าเริ่มต้น (ค่ามันเอา)"
      ]
    },
    {
      "cell_type": "code",
      "metadata": {
        "id": "kRBjwiL9r2-J"
      },
      "source": [
        "def print_2lines_default(name,surname,ID,grade= 'F ') :\r\n",
        "  st = f'ชื่อ {name} นามสกุล {surname} รหัส {ID}'\r\n",
        "  print(st)\r\n",
        "  st2=f'เกรดวิชา Data Viz >>> {grade}'\r\n",
        "  print(st2)"
      ],
      "execution_count": null,
      "outputs": []
    },
    {
      "cell_type": "code",
      "metadata": {
        "id": "JbsGsGOfLaxz"
      },
      "source": [
        ""
      ],
      "execution_count": null,
      "outputs": []
    },
    {
      "cell_type": "code",
      "metadata": {
        "id": "mbhJWreHLQUB"
      },
      "source": [
        ""
      ],
      "execution_count": null,
      "outputs": []
    },
    {
      "cell_type": "code",
      "metadata": {
        "id": "nbleAovExPHT"
      },
      "source": [
        ""
      ],
      "execution_count": null,
      "outputs": []
    },
    {
      "cell_type": "code",
      "metadata": {
        "id": "tC0Bs8brr0MY"
      },
      "source": [
        ""
      ],
      "execution_count": null,
      "outputs": []
    },
    {
      "cell_type": "code",
      "metadata": {
        "id": "Iwru4pGqrLyu"
      },
      "source": [
        ""
      ],
      "execution_count": null,
      "outputs": []
    },
    {
      "cell_type": "code",
      "metadata": {
        "id": "otwy53veqasE"
      },
      "source": [
        ""
      ],
      "execution_count": null,
      "outputs": []
    },
    {
      "cell_type": "markdown",
      "metadata": {
        "id": "Xb_57B2jpyLS"
      },
      "source": [
        "เราใช้ เว้นวรรค (in"
      ]
    },
    {
      "cell_type": "code",
      "metadata": {
        "id": "5OPXvRdVpvmw"
      },
      "source": [
        "def print_name2(name1,surname1,)"
      ],
      "execution_count": null,
      "outputs": []
    },
    {
      "cell_type": "code",
      "metadata": {
        "id": "NGGM5GBKpeoF"
      },
      "source": [
        ""
      ],
      "execution_count": null,
      "outputs": []
    },
    {
      "cell_type": "code",
      "metadata": {
        "id": "HW5DiuJxlgqe",
        "colab": {
          "base_uri": "https://localhost:8080/"
        },
        "outputId": "e4bff07a-9639-4a10-e1bf-699384c03539"
      },
      "source": [
        "for i in [1,2,3] :\r\n",
        "  print (f'this member = {i} after process = {i**2}')\r\n"
      ],
      "execution_count": null,
      "outputs": [
        {
          "output_type": "stream",
          "text": [
            "this member = 1 after process = 1\n",
            "this member = 2 after process = 4\n",
            "this member = 3 after process = 9\n"
          ],
          "name": "stdout"
        }
      ]
    },
    {
      "cell_type": "code",
      "metadata": {
        "id": "Ikl9-LbN1Vxn",
        "outputId": "e522f41b-1229-4d26-c54e-15facccdac99",
        "colab": {
          "base_uri": "https://localhost:8080/"
        }
      },
      "source": [
        "for i in 'Thimaporn' :\r\n",
        "  print(f'{i} -> / ')"
      ],
      "execution_count": 1,
      "outputs": [
        {
          "output_type": "stream",
          "text": [
            "T -> / \n",
            "h -> / \n",
            "i -> / \n",
            "m -> / \n",
            "a -> / \n",
            "p -> / \n",
            "o -> / \n",
            "r -> / \n",
            "n -> / \n"
          ],
          "name": "stdout"
        }
      ]
    },
    {
      "cell_type": "code",
      "metadata": {
        "id": "HAtDQOCnV_Ze",
        "outputId": "0dfe2ac7-874d-43ad-9b56-f26e6ed179b6",
        "colab": {
          "base_uri": "https://localhost:8080/"
        }
      },
      "source": [
        "for i in 'Thimaporn' :\r\n",
        "  print(f'{i} -> / ' ,end = ' ' )\r\n"
      ],
      "execution_count": 2,
      "outputs": [
        {
          "output_type": "stream",
          "text": [
            "T -> /  h -> /  i -> /  m -> /  a -> /  p -> /  o -> /  r -> /  n -> /  "
          ],
          "name": "stdout"
        }
      ]
    },
    {
      "cell_type": "code",
      "metadata": {
        "id": "KCuw8PU7WwC_",
        "outputId": "f90a3ad5-1307-4ae9-a9a2-376b8d086e9c",
        "colab": {
          "base_uri": "https://localhost:8080/"
        }
      },
      "source": [
        "for i in 'Thimaporn' :\r\n",
        "  print(f'{i} -> / ' ,end = ' , ' )"
      ],
      "execution_count": 3,
      "outputs": [
        {
          "output_type": "stream",
          "text": [
            "T -> /  , h -> /  , i -> /  , m -> /  , a -> /  , p -> /  , o -> /  , r -> /  , n -> /  , "
          ],
          "name": "stdout"
        }
      ]
    },
    {
      "cell_type": "code",
      "metadata": {
        "id": "GFAh8P9pW67T",
        "outputId": "4470bd81-4982-45d2-c524-709177022120",
        "colab": {
          "base_uri": "https://localhost:8080/"
        }
      },
      "source": [
        "range5_output = range(5)\r\n",
        "print(range5_output)"
      ],
      "execution_count": 4,
      "outputs": [
        {
          "output_type": "stream",
          "text": [
            "range(0, 5)\n"
          ],
          "name": "stdout"
        }
      ]
    },
    {
      "cell_type": "code",
      "metadata": {
        "id": "F3jBikouYFkM",
        "outputId": "d4d7cdf2-c518-4cc7-9dca-c5ce62c52d3c",
        "colab": {
          "base_uri": "https://localhost:8080/"
        }
      },
      "source": [
        "range5_output = range(5)\r\n",
        "print(list(range5_output))"
      ],
      "execution_count": 5,
      "outputs": [
        {
          "output_type": "stream",
          "text": [
            "[0, 1, 2, 3, 4]\n"
          ],
          "name": "stdout"
        }
      ]
    },
    {
      "cell_type": "code",
      "metadata": {
        "id": "0RxmFL0pYNg2",
        "outputId": "fc1fb788-f31b-45a1-f541-87cba101839b",
        "colab": {
          "base_uri": "https://localhost:8080/"
        }
      },
      "source": [
        "for i in range(100) :\r\n",
        "  print('งง' ,end=' ')"
      ],
      "execution_count": 6,
      "outputs": [
        {
          "output_type": "stream",
          "text": [
            "งง งง งง งง งง งง งง งง งง งง งง งง งง งง งง งง งง งง งง งง งง งง งง งง งง งง งง งง งง งง งง งง งง งง งง งง งง งง งง งง งง งง งง งง งง งง งง งง งง งง งง งง งง งง งง งง งง งง งง งง งง งง งง งง งง งง งง งง งง งง งง งง งง งง งง งง งง งง งง งง งง งง งง งง งง งง งง งง งง งง งง งง งง งง งง งง งง งง งง งง "
          ],
          "name": "stdout"
        }
      ]
    },
    {
      "cell_type": "code",
      "metadata": {
        "id": "8Ub4iiIVYpWs",
        "outputId": "20a29503-e36e-4879-f847-bc7fc0f39275",
        "colab": {
          "base_uri": "https://localhost:8080/"
        }
      },
      "source": [
        "list(range(1,11))"
      ],
      "execution_count": 7,
      "outputs": [
        {
          "output_type": "execute_result",
          "data": {
            "text/plain": [
              "[1, 2, 3, 4, 5, 6, 7, 8, 9, 10]"
            ]
          },
          "metadata": {
            "tags": []
          },
          "execution_count": 7
        }
      ]
    },
    {
      "cell_type": "code",
      "metadata": {
        "id": "7--jReNrZFla",
        "outputId": "07a84b44-db8f-4f1b-88ad-d50e90606444",
        "colab": {
          "base_uri": "https://localhost:8080/"
        }
      },
      "source": [
        "list(range(-3,20,4))"
      ],
      "execution_count": 8,
      "outputs": [
        {
          "output_type": "execute_result",
          "data": {
            "text/plain": [
              "[-3, 1, 5, 9, 13, 17]"
            ]
          },
          "metadata": {
            "tags": []
          },
          "execution_count": 8
        }
      ]
    },
    {
      "cell_type": "code",
      "metadata": {
        "id": "3UbOWbTKcmLC",
        "outputId": "e3b7ee26-1fa3-41ab-f59b-8c3cb1fc5d88",
        "colab": {
          "base_uri": "https://localhost:8080/"
        }
      },
      "source": [
        "for name1 in range(2,5) :\r\n",
        "  print(f'now name1 = {name1}')\r\n",
        "  for name2 in range(1,13) :\r\n",
        "    print(name1,' x ',name2,' = ',name1*name2) "
      ],
      "execution_count": 13,
      "outputs": [
        {
          "output_type": "stream",
          "text": [
            "now name1 = 2\n",
            "2  x  1  =  2\n",
            "2  x  2  =  4\n",
            "2  x  3  =  6\n",
            "2  x  4  =  8\n",
            "2  x  5  =  10\n",
            "2  x  6  =  12\n",
            "2  x  7  =  14\n",
            "2  x  8  =  16\n",
            "2  x  9  =  18\n",
            "2  x  10  =  20\n",
            "2  x  11  =  22\n",
            "2  x  12  =  24\n",
            "now name1 = 3\n",
            "3  x  1  =  3\n",
            "3  x  2  =  6\n",
            "3  x  3  =  9\n",
            "3  x  4  =  12\n",
            "3  x  5  =  15\n",
            "3  x  6  =  18\n",
            "3  x  7  =  21\n",
            "3  x  8  =  24\n",
            "3  x  9  =  27\n",
            "3  x  10  =  30\n",
            "3  x  11  =  33\n",
            "3  x  12  =  36\n",
            "now name1 = 4\n",
            "4  x  1  =  4\n",
            "4  x  2  =  8\n",
            "4  x  3  =  12\n",
            "4  x  4  =  16\n",
            "4  x  5  =  20\n",
            "4  x  6  =  24\n",
            "4  x  7  =  28\n",
            "4  x  8  =  32\n",
            "4  x  9  =  36\n",
            "4  x  10  =  40\n",
            "4  x  11  =  44\n",
            "4  x  12  =  48\n"
          ],
          "name": "stdout"
        }
      ]
    },
    {
      "cell_type": "markdown",
      "metadata": {
        "id": "uMIxSCIvfKid"
      },
      "source": [
        "loop in function"
      ]
    },
    {
      "cell_type": "code",
      "metadata": {
        "id": "Xb4VL0AvesZx"
      },
      "source": [
        "list_friends = ['Aor','Mew','May','Tan','Ae']\r\n"
      ],
      "execution_count": 14,
      "outputs": []
    },
    {
      "cell_type": "code",
      "metadata": {
        "id": "m7-KhW0qfyL6"
      },
      "source": [
        "def print_feeling(I,friends,feeling = 'miss') :\r\n",
        "  for friend in friends :\r\n",
        "    print(f'{I} {feeling} {friend}')"
      ],
      "execution_count": 15,
      "outputs": []
    },
    {
      "cell_type": "code",
      "metadata": {
        "id": "96CmJPj9hVZ7",
        "outputId": "d76b0002-44d9-4fd6-9d36-94e0d593b41a",
        "colab": {
          "base_uri": "https://localhost:8080/"
        }
      },
      "source": [
        "print_feeling('Nam',list_friends)"
      ],
      "execution_count": 16,
      "outputs": [
        {
          "output_type": "stream",
          "text": [
            "Nam miss Aor\n",
            "Nam miss Mew\n",
            "Nam miss May\n",
            "Nam miss Tan\n",
            "Nam miss Ae\n"
          ],
          "name": "stdout"
        }
      ]
    },
    {
      "cell_type": "markdown",
      "metadata": {
        "id": "0gTF9HOIkKLx"
      },
      "source": [
        "condition"
      ]
    },
    {
      "cell_type": "code",
      "metadata": {
        "id": "39uZgO-thruy"
      },
      "source": [
        ""
      ],
      "execution_count": null,
      "outputs": []
    },
    {
      "cell_type": "markdown",
      "metadata": {
        "id": "WVL_h3mikObM"
      },
      "source": [
        "\r\n",
        "if condition1 :\r\n",
        "do something\r\n",
        "elif condition2 : #"
      ]
    },
    {
      "cell_type": "code",
      "metadata": {
        "id": "oX52BXHqeS_4",
        "outputId": "1265a651-a216-421f-cf72-2b47dd18004d",
        "colab": {
          "base_uri": "https://localhost:8080/"
        }
      },
      "source": [
        "for name1 in list_friends :\r\n",
        "  for name2 in list_friends :\r\n",
        "    if name1 == name2 :\r\n",
        "      'do something'\r\n",
        "\r\n",
        "    print(name1, 'love' ,name2)\r\n",
        "  "
      ],
      "execution_count": 21,
      "outputs": [
        {
          "output_type": "stream",
          "text": [
            "Aor love Aor\n",
            "Aor love Mew\n",
            "Aor love May\n",
            "Aor love Tan\n",
            "Aor love Ae\n",
            "Mew love Aor\n",
            "Mew love Mew\n",
            "Mew love May\n",
            "Mew love Tan\n",
            "Mew love Ae\n",
            "May love Aor\n",
            "May love Mew\n",
            "May love May\n",
            "May love Tan\n",
            "May love Ae\n",
            "Tan love Aor\n",
            "Tan love Mew\n",
            "Tan love May\n",
            "Tan love Tan\n",
            "Tan love Ae\n",
            "Ae love Aor\n",
            "Ae love Mew\n",
            "Ae love May\n",
            "Ae love Tan\n",
            "Ae love Ae\n"
          ],
          "name": "stdout"
        }
      ]
    },
    {
      "cell_type": "code",
      "metadata": {
        "id": "MU7dfgHbmrsK",
        "outputId": "713ce7d4-e18b-4a50-ebdd-8a51982f6aa3",
        "colab": {
          "base_uri": "https://localhost:8080/"
        }
      },
      "source": [
        "'Aor' == 'May'"
      ],
      "execution_count": 23,
      "outputs": [
        {
          "output_type": "execute_result",
          "data": {
            "text/plain": [
              "False"
            ]
          },
          "metadata": {
            "tags": []
          },
          "execution_count": 23
        }
      ]
    },
    {
      "cell_type": "code",
      "metadata": {
        "id": "BduMhACRnVln",
        "outputId": "7b352c60-a6ec-48d5-a5c0-9dd081350715",
        "colab": {
          "base_uri": "https://localhost:8080/"
        }
      },
      "source": [
        "'Aor' != 'May'"
      ],
      "execution_count": 24,
      "outputs": [
        {
          "output_type": "execute_result",
          "data": {
            "text/plain": [
              "True"
            ]
          },
          "metadata": {
            "tags": []
          },
          "execution_count": 24
        }
      ]
    },
    {
      "cell_type": "code",
      "metadata": {
        "id": "rYReSQ70ndPy"
      },
      "source": [
        ""
      ],
      "execution_count": null,
      "outputs": []
    },
    {
      "cell_type": "code",
      "metadata": {
        "id": "QVkSDdgRnK5W"
      },
      "source": [
        ""
      ],
      "execution_count": null,
      "outputs": []
    },
    {
      "cell_type": "code",
      "metadata": {
        "id": "1e1gLp1dmk0i"
      },
      "source": [
        ""
      ],
      "execution_count": null,
      "outputs": []
    },
    {
      "cell_type": "code",
      "metadata": {
        "id": "hUT-TVAzmiXJ"
      },
      "source": [
        ""
      ],
      "execution_count": null,
      "outputs": []
    },
    {
      "cell_type": "code",
      "metadata": {
        "id": "KHO6-5hrmfAP"
      },
      "source": [
        ""
      ],
      "execution_count": null,
      "outputs": []
    },
    {
      "cell_type": "code",
      "metadata": {
        "id": "y03svYXRlWcM"
      },
      "source": [
        ""
      ],
      "execution_count": null,
      "outputs": []
    },
    {
      "cell_type": "code",
      "metadata": {
        "id": "7WwfUnVSeQpK"
      },
      "source": [
        ""
      ],
      "execution_count": null,
      "outputs": []
    },
    {
      "cell_type": "code",
      "metadata": {
        "id": "I0RBzlTqeLPE"
      },
      "source": [
        ""
      ],
      "execution_count": null,
      "outputs": []
    },
    {
      "cell_type": "code",
      "metadata": {
        "id": "k59lIDZNeHmY"
      },
      "source": [
        ""
      ],
      "execution_count": null,
      "outputs": []
    }
  ]
}