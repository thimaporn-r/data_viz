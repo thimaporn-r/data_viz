{
  "nbformat": 4,
  "nbformat_minor": 0,
  "metadata": {
    "colab": {
      "name": "Function_Loop_Condition.ipynb",
      "provenance": [],
      "collapsed_sections": [],
      "authorship_tag": "ABX9TyMq9aDWKMzSF4qPIUNBURv+",
      "include_colab_link": true
    },
    "kernelspec": {
      "name": "python3",
      "display_name": "Python 3"
    }
  },
  "cells": [
    {
      "cell_type": "markdown",
      "metadata": {
        "id": "view-in-github",
        "colab_type": "text"
      },
      "source": [
        "<a href=\"https://colab.research.google.com/github/thimaporn-r/data_viz/blob/main/Function_Loop_Condition.ipynb\" target=\"_parent\"><img src=\"https://colab.research.google.com/assets/colab-badge.svg\" alt=\"Open In Colab\"/></a>"
      ]
    },
    {
      "cell_type": "markdown",
      "metadata": {
        "id": "-cKp9Lagfry_"
      },
      "source": [
        ""
      ]
    },
    {
      "cell_type": "code",
      "metadata": {
        "id": "Il_owXVefgqP"
      },
      "source": [
        "name = 'ธิมาพร'\r\n",
        "surname = 'รอดจินดา'\r\n",
        "ID = '613020553-4'\r\n"
      ],
      "execution_count": 2,
      "outputs": []
    },
    {
      "cell_type": "code",
      "metadata": {
        "id": "o6S1MsEXnVc_"
      },
      "source": [
        ""
      ],
      "execution_count": null,
      "outputs": []
    },
    {
      "cell_type": "code",
      "metadata": {
        "colab": {
          "base_uri": "https://localhost:8080/"
        },
        "id": "xMp1GE5Mkup1",
        "outputId": "c3c39c47-5177-42ae-d999-b2ec35c7f312"
      },
      "source": [
        "\r\n",
        "b = f'ชื่อ {name} นามสกุล {surname}'\r\n",
        "print(b)"
      ],
      "execution_count": 3,
      "outputs": [
        {
          "output_type": "stream",
          "text": [
            "ชื่อ ธิมาพร นามสกุล รอดจินดา\n"
          ],
          "name": "stdout"
        }
      ]
    },
    {
      "cell_type": "code",
      "metadata": {
        "id": "BKgklyvvLJhk"
      },
      "source": [
        ""
      ],
      "execution_count": null,
      "outputs": []
    },
    {
      "cell_type": "code",
      "metadata": {
        "id": "5Pm8Sl0RK8_m"
      },
      "source": [
        ""
      ],
      "execution_count": null,
      "outputs": []
    },
    {
      "cell_type": "code",
      "metadata": {
        "id": "2nSFUC57kwFf"
      },
      "source": [
        ""
      ],
      "execution_count": null,
      "outputs": []
    },
    {
      "cell_type": "code",
      "metadata": {
        "id": "wfMU4kftkeEs"
      },
      "source": [
        ""
      ],
      "execution_count": null,
      "outputs": []
    },
    {
      "cell_type": "markdown",
      "metadata": {
        "id": "h41lerXwiRMD"
      },
      "source": [
        "``` python \r\n",
        "def function_name(_Input_) :\r\n",
        "  do_something with _Input_ to get _output_\r\n",
        "  return _Output_\r\n",
        "```"
      ]
    },
    {
      "cell_type": "code",
      "metadata": {
        "id": "NkjbOptZg4Vz"
      },
      "source": [
        "``` python \r\n",
        "def function_name(_Input_) :\r\n",
        "  do_something with _Input\r\n",
        "```"
      ],
      "execution_count": null,
      "outputs": []
    },
    {
      "cell_type": "markdown",
      "metadata": {
        "id": "dSl_n99NmCMM"
      },
      "source": [
        "function  มีส่วนสำคัญทั้งหมด 4 ส่วน\r\n",
        "1. บอก python ว่าเราจะเขียนฟังชั้น ชื่ออะไร ```def function_name() ``` \r\n",
        "(ขาดไม่ได้)\r\n",
        "2. \r\n"
      ]
    },
    {
      "cell_type": "code",
      "metadata": {
        "id": "Dg4wLY6-gu1f"
      },
      "source": [
        "def print_name(surname,ID,name) :\r\n",
        "  st = f'ชื่อ {name} นามสกุล {surname} รหัส {ID}'\r\n",
        "  return st"
      ],
      "execution_count": null,
      "outputs": []
    },
    {
      "cell_type": "code",
      "metadata": {
        "colab": {
          "base_uri": "https://localhost:8080/",
          "height": 34
        },
        "id": "_WfCKq-OndSG",
        "outputId": "2cf58958-ccd7-4358-eb1b-ebfef692c857"
      },
      "source": [
        "print_name('ธิมาพร' , '613020553-4' , 'รอดจินดา')"
      ],
      "execution_count": null,
      "outputs": [
        {
          "output_type": "execute_result",
          "data": {
            "application/vnd.google.colaboratory.intrinsic+json": {
              "type": "string"
            },
            "text/plain": [
              "'ชื่อ รอดจินดา นามสกุล ธิมาพร รหัส 613020553-4'"
            ]
          },
          "metadata": {
            "tags": []
          },
          "execution_count": 9
        }
      ]
    },
    {
      "cell_type": "code",
      "metadata": {
        "id": "3pRlaDFAn499",
        "colab": {
          "base_uri": "https://localhost:8080/"
        },
        "outputId": "65d0f837-2234-4247-8e9e-2d50fb039d29"
      },
      "source": [
        "print(print_name(name='จิริยาพร' ,surname='จันทะมาตท์' ,ID='6130'))"
      ],
      "execution_count": null,
      "outputs": [
        {
          "output_type": "stream",
          "text": [
            "ชื่อ จิริยาพร นามสกุล จันทะมาตท์ รหัส 6130\n"
          ],
          "name": "stdout"
        }
      ]
    },
    {
      "cell_type": "code",
      "metadata": {
        "id": "EozFIevuqbA-"
      },
      "source": [
        "def Pi ( ) :\r\n",
        "  return 3.14159265359"
      ],
      "execution_count": null,
      "outputs": []
    },
    {
      "cell_type": "code",
      "metadata": {
        "colab": {
          "base_uri": "https://localhost:8080/"
        },
        "id": "Z_c2OWY3qzkl",
        "outputId": "04da4518-f205-4457-b5c7-55481ea0298e"
      },
      "source": [
        "Pi ( ) *(2**2) "
      ],
      "execution_count": null,
      "outputs": [
        {
          "output_type": "execute_result",
          "data": {
            "text/plain": [
              "12.56637061436"
            ]
          },
          "metadata": {
            "tags": []
          },
          "execution_count": 12
        }
      ]
    },
    {
      "cell_type": "markdown",
      "metadata": {
        "id": "WaYfIZPNrZT8"
      },
      "source": [
        "เราสามารถกำหนดค่า default ให้กัยฟังก์ชันได้ \\\\\r\n",
        "default คือ ค่าเริ่มต้น (ค่ามันเอา)"
      ]
    },
    {
      "cell_type": "code",
      "metadata": {
        "id": "kRBjwiL9r2-J"
      },
      "source": [
        "def print_2lines_default(name,surname,ID,grade= 'F ') :\r\n",
        "  st = f'ชื่อ {name} นามสกุล {surname} รหัส {ID}'\r\n",
        "  print(st)\r\n",
        "  st2=f'เกรดวิชา Data Viz >>> {grade}'\r\n",
        "  print(st2)"
      ],
      "execution_count": 5,
      "outputs": []
    },
    {
      "cell_type": "code",
      "metadata": {
        "id": "JbsGsGOfLaxz"
      },
      "source": [
        ""
      ],
      "execution_count": null,
      "outputs": []
    },
    {
      "cell_type": "code",
      "metadata": {
        "id": "mbhJWreHLQUB"
      },
      "source": [
        ""
      ],
      "execution_count": null,
      "outputs": []
    },
    {
      "cell_type": "code",
      "metadata": {
        "id": "nbleAovExPHT"
      },
      "source": [
        ""
      ],
      "execution_count": null,
      "outputs": []
    },
    {
      "cell_type": "code",
      "metadata": {
        "id": "tC0Bs8brr0MY"
      },
      "source": [
        ""
      ],
      "execution_count": null,
      "outputs": []
    },
    {
      "cell_type": "code",
      "metadata": {
        "id": "Iwru4pGqrLyu"
      },
      "source": [
        ""
      ],
      "execution_count": null,
      "outputs": []
    },
    {
      "cell_type": "code",
      "metadata": {
        "id": "otwy53veqasE"
      },
      "source": [
        ""
      ],
      "execution_count": null,
      "outputs": []
    },
    {
      "cell_type": "markdown",
      "metadata": {
        "id": "Xb_57B2jpyLS"
      },
      "source": [
        "เราใช้ เว้นวรรค (in"
      ]
    },
    {
      "cell_type": "code",
      "metadata": {
        "id": "5OPXvRdVpvmw"
      },
      "source": [
        "def print_name2(name1,surname1,)"
      ],
      "execution_count": null,
      "outputs": []
    },
    {
      "cell_type": "code",
      "metadata": {
        "id": "NGGM5GBKpeoF"
      },
      "source": [
        ""
      ],
      "execution_count": null,
      "outputs": []
    },
    {
      "cell_type": "code",
      "metadata": {
        "id": "HW5DiuJxlgqe",
        "colab": {
          "base_uri": "https://localhost:8080/"
        },
        "outputId": "e4bff07a-9639-4a10-e1bf-699384c03539"
      },
      "source": [
        "for i in [1,2,3] :\r\n",
        "  print (f'this member = {i} after process = {i**2}')\r\n"
      ],
      "execution_count": null,
      "outputs": [
        {
          "output_type": "stream",
          "text": [
            "this member = 1 after process = 1\n",
            "this member = 2 after process = 4\n",
            "this member = 3 after process = 9\n"
          ],
          "name": "stdout"
        }
      ]
    },
    {
      "cell_type": "code",
      "metadata": {
        "id": "Ikl9-LbN1Vxn"
      },
      "source": [
        ""
      ],
      "execution_count": null,
      "outputs": []
    }
  ]
}