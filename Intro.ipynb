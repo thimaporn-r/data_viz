{
  "nbformat": 4,
  "nbformat_minor": 0,
  "metadata": {
    "colab": {
      "name": "Intro.ipynb",
      "provenance": [],
      "include_colab_link": true
    },
    "kernelspec": {
      "name": "python3",
      "display_name": "Python 3"
    }
  },
  "cells": [
    {
      "cell_type": "markdown",
      "metadata": {
        "id": "view-in-github",
        "colab_type": "text"
      },
      "source": [
        "<a href=\"https://colab.research.google.com/github/thimaporn-r/data_viz/blob/main/Intro.ipynb\" target=\"_parent\"><img src=\"https://colab.research.google.com/assets/colab-badge.svg\" alt=\"Open In Colab\"/></a>"
      ]
    },
    {
      "cell_type": "markdown",
      "metadata": {
        "id": "OrlOAzcCMdsL"
      },
      "source": [
        "ธิมาพร รอดจินดา 613020553-4"
      ]
    },
    {
      "cell_type": "markdown",
      "metadata": {
        "id": "k9tcRRGCNAVi"
      },
      "source": [
        "ภาษา Markdown\r\n",
        "# Markdown\r\n",
        "## Markdown\r\n",
        "~strike~"
      ]
    },
    {
      "cell_type": "code",
      "metadata": {
        "colab": {
          "base_uri": "https://localhost:8080/"
        },
        "id": "D9BbqWR-Lfii",
        "outputId": "c3032e1f-a96d-4353-cb55-6f1b5bcfe69c"
      },
      "source": [
        "print(\"ธิมาพร\")"
      ],
      "execution_count": null,
      "outputs": [
        {
          "output_type": "stream",
          "text": [
            "ธิมาพร\n"
          ],
          "name": "stdout"
        }
      ]
    },
    {
      "cell_type": "code",
      "metadata": {
        "id": "e1Dlxmc-PEI_"
      },
      "source": [
        ""
      ],
      "execution_count": null,
      "outputs": []
    }
  ]
}