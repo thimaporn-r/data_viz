{
  "nbformat": 4,
  "nbformat_minor": 0,
  "metadata": {
    "colab": {
      "name": "Function_Loop_Condition (HW3).ipynb",
      "provenance": [],
      "authorship_tag": "ABX9TyMYd+yhTEQ2Ewf9D8tkpo9c",
      "include_colab_link": true
    },
    "kernelspec": {
      "name": "python3",
      "display_name": "Python 3"
    }
  },
  "cells": [
    {
      "cell_type": "markdown",
      "metadata": {
        "id": "view-in-github",
        "colab_type": "text"
      },
      "source": [
        "<a href=\"https://colab.research.google.com/github/thimaporn-r/data_viz/blob/main/Function_Loop_Condition_(HW3).ipynb\" target=\"_parent\"><img src=\"https://colab.research.google.com/assets/colab-badge.svg\" alt=\"Open In Colab\"/></a>"
      ]
    },
    {
      "cell_type": "markdown",
      "metadata": {
        "id": "yvhdDZTzD7bj"
      },
      "source": [
        "HW คำนวณเวลาเป็นวินาทีของเวลาต่อไปนี้โดยใช้คำสั่ง split() ช่วย (print ออกมาให้สวยงาม) \\\\\r\n",
        "12:30:15\r\n",
        "\r\n",
        "13:41:07\r\n",
        "\r\n",
        "12:53:15\r\n",
        "\r\n",
        "00:59:25\r\n",
        "\r\n",
        "11:11:11\r\n",
        "\r\n",
        "16:06:09"
      ]
    },
    {
      "cell_type": "code",
      "metadata": {
        "id": "v3j4cIsqMtLz"
      },
      "source": [
        "def time(Time) :\r\n",
        "  timeall = Time.split(':')\r\n",
        "  \r\n",
        "  h = int(timeall[0])*3600\r\n",
        "  m = int(timeall[1])*60\r\n",
        "  s = int(timeall[2])\r\n",
        "  all = h+m+s\r\n",
        "  SUM = f'{Time} คิดเป็นวินาทีได้ = {all} วินาที'\r\n",
        "  print(SUM)"
      ],
      "execution_count": 42,
      "outputs": []
    },
    {
      "cell_type": "code",
      "metadata": {
        "colab": {
          "base_uri": "https://localhost:8080/"
        },
        "id": "kdRxpyAnMQjI",
        "outputId": "c67bf760-c95c-4668-c321-6fc38a6d0ce9"
      },
      "source": [
        "time('12:30:15')\r\n",
        "time('13:41:07')\r\n",
        "time('12:53:15')\r\n",
        "time('00:59:25')\r\n",
        "time('11:11:11')\r\n",
        "time('16:06:09')"
      ],
      "execution_count": 43,
      "outputs": [
        {
          "output_type": "stream",
          "text": [
            "12:30:15 คิดเป็นวินาทีได้ = 45015 วินาที\n",
            "13:41:07 คิดเป็นวินาทีได้ = 49267 วินาที\n",
            "12:53:15 คิดเป็นวินาทีได้ = 46395 วินาที\n",
            "00:59:25 คิดเป็นวินาทีได้ = 3565 วินาที\n",
            "11:11:11 คิดเป็นวินาทีได้ = 40271 วินาที\n",
            "16:06:09 คิดเป็นวินาทีได้ = 57969 วินาที\n"
          ],
          "name": "stdout"
        }
      ]
    },
    {
      "cell_type": "code",
      "metadata": {
        "id": "x7vJZFsYfNMs"
      },
      "source": [
        "list_time = ['12:30:15' , '13:41:07' , '12:53:15' , '00:59:25' , '11:11:11' , '16:06:09']\r\n"
      ],
      "execution_count": 49,
      "outputs": []
    },
    {
      "cell_type": "code",
      "metadata": {
        "colab": {
          "base_uri": "https://localhost:8080/"
        },
        "id": "2LI5vfTRiaMy",
        "outputId": "66cdae43-4bd7-477e-94ba-94d748d777ae"
      },
      "source": [
        "for i in list_time :\r\n",
        "  time(i)"
      ],
      "execution_count": 50,
      "outputs": [
        {
          "output_type": "stream",
          "text": [
            "12:30:15 คิดเป็นวินาทีได้ = 45015 วินาที\n",
            "13:41:07 คิดเป็นวินาทีได้ = 49267 วินาที\n",
            "12:53:15 คิดเป็นวินาทีได้ = 46395 วินาที\n",
            "00:59:25 คิดเป็นวินาทีได้ = 3565 วินาที\n",
            "11:11:11 คิดเป็นวินาทีได้ = 40271 วินาที\n",
            "16:06:09 คิดเป็นวินาทีได้ = 57969 วินาที\n"
          ],
          "name": "stdout"
        }
      ]
    }
  ]
}