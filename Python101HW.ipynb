{
  "nbformat": 4,
  "nbformat_minor": 0,
  "metadata": {
    "colab": {
      "name": "Python101HW.ipynb",
      "provenance": [],
      "authorship_tag": "ABX9TyNXdYBjx537qjN3QWIFYc1+",
      "include_colab_link": true
    },
    "kernelspec": {
      "name": "python3",
      "display_name": "Python 3"
    }
  },
  "cells": [
    {
      "cell_type": "markdown",
      "metadata": {
        "id": "view-in-github",
        "colab_type": "text"
      },
      "source": [
        "<a href=\"https://colab.research.google.com/github/thimaporn-r/data_viz/blob/main/Python101HW.ipynb\" target=\"_parent\"><img src=\"https://colab.research.google.com/assets/colab-badge.svg\" alt=\"Open In Colab\"/></a>"
      ]
    },
    {
      "cell_type": "markdown",
      "metadata": {
        "id": "ZbO2O78tJ3G7"
      },
      "source": [
        "### HW คำนวณเวลาเป็นวินาทีของเวลาต่อไปนี้โดยใช้คำสั่ง split() ช่วย (print ออกมาให้สวยงาม)\n",
        "12:30:15\n",
        "\n",
        "13:41:07\n",
        "\n",
        "12:53:15\n",
        "\n",
        "00:59:25\n",
        "\n",
        "11:11:11\n",
        "\n",
        "16:06:09\n",
        "\n",
        "โดยที่  \n",
        " 1 ชั่วโมง = 3600 วินาที  \\\\\n",
        " 1 นาที = 60 วินาที"
      ]
    },
    {
      "cell_type": "markdown",
      "metadata": {
        "id": "1Sz57iSBtaWI"
      },
      "source": [
        "## ข้อ 1 12:30:15"
      ]
    },
    {
      "cell_type": "code",
      "metadata": {
        "id": "acWqG11ttMxl"
      },
      "source": [
        "time1 = '12:30:15'"
      ],
      "execution_count": null,
      "outputs": []
    },
    {
      "cell_type": "code",
      "metadata": {
        "colab": {
          "base_uri": "https://localhost:8080/"
        },
        "id": "881Nx5v_xxFv",
        "outputId": "3a784a26-6762-4135-b19c-481a42c6ad15"
      },
      "source": [
        "time1.split(':')"
      ],
      "execution_count": null,
      "outputs": [
        {
          "output_type": "execute_result",
          "data": {
            "text/plain": [
              "['12', '30', '15']"
            ]
          },
          "metadata": {
            "tags": []
          },
          "execution_count": 36
        }
      ]
    },
    {
      "cell_type": "code",
      "metadata": {
        "colab": {
          "base_uri": "https://localhost:8080/"
        },
        "id": "Pwbr9XxD1lVQ",
        "outputId": "b8f212ed-981c-482e-8c65-b608fcf5d5ea"
      },
      "source": [
        "list_a = time1.split(':')\r\n",
        "print(list_a)"
      ],
      "execution_count": null,
      "outputs": [
        {
          "output_type": "stream",
          "text": [
            "['12', '30', '15']\n"
          ],
          "name": "stdout"
        }
      ]
    },
    {
      "cell_type": "code",
      "metadata": {
        "colab": {
          "base_uri": "https://localhost:8080/"
        },
        "id": "LODxhy8h1ySr",
        "outputId": "77d08935-03d4-479c-b167-d34cf575c271"
      },
      "source": [
        "list_a[0] \r\n",
        "int(list_a[0]) * 3600"
      ],
      "execution_count": null,
      "outputs": [
        {
          "output_type": "execute_result",
          "data": {
            "text/plain": [
              "43200"
            ]
          },
          "metadata": {
            "tags": []
          },
          "execution_count": 56
        }
      ]
    },
    {
      "cell_type": "code",
      "metadata": {
        "id": "xyI4U39YNC6L"
      },
      "source": [
        "A = int(list_a[0]) * 3600"
      ],
      "execution_count": null,
      "outputs": []
    },
    {
      "cell_type": "code",
      "metadata": {
        "colab": {
          "base_uri": "https://localhost:8080/"
        },
        "id": "N_TRzLs5NSuS",
        "outputId": "9a78ff08-fb4d-4dca-8808-6f782f04805e"
      },
      "source": [
        "list_a[1] \r\n",
        "int(list_a[1]) * 60"
      ],
      "execution_count": null,
      "outputs": [
        {
          "output_type": "execute_result",
          "data": {
            "text/plain": [
              "1800"
            ]
          },
          "metadata": {
            "tags": []
          },
          "execution_count": 58
        }
      ]
    },
    {
      "cell_type": "code",
      "metadata": {
        "id": "J8WjJFfmBj1P"
      },
      "source": [
        "B = int(list_a[1]) * 60"
      ],
      "execution_count": null,
      "outputs": []
    },
    {
      "cell_type": "code",
      "metadata": {
        "colab": {
          "base_uri": "https://localhost:8080/"
        },
        "id": "CbZUNbfJBp1D",
        "outputId": "7e7caa3e-016e-46fb-eb75-8b91d6fb33f1"
      },
      "source": [
        "list_a[2]\r\n",
        "c = list_a[2]\r\n",
        "print(c)"
      ],
      "execution_count": null,
      "outputs": [
        {
          "output_type": "stream",
          "text": [
            "15\n"
          ],
          "name": "stdout"
        }
      ]
    },
    {
      "cell_type": "code",
      "metadata": {
        "colab": {
          "base_uri": "https://localhost:8080/"
        },
        "id": "mwBDMyrSBy47",
        "outputId": "b7533b8f-639f-4e42-b38a-713e4efd9f2a"
      },
      "source": [
        "A+B+int(c)"
      ],
      "execution_count": null,
      "outputs": [
        {
          "output_type": "execute_result",
          "data": {
            "text/plain": [
              "45015"
            ]
          },
          "metadata": {
            "tags": []
          },
          "execution_count": 62
        }
      ]
    },
    {
      "cell_type": "markdown",
      "metadata": {
        "id": "1DSwP51pDLSD"
      },
      "source": [
        "ตอบ 12:30:15 มี 45,015 วินาที\r\n",
        "\r\n"
      ]
    },
    {
      "cell_type": "markdown",
      "metadata": {
        "id": "Z_7apd_oDoEO"
      },
      "source": [
        "## ข้อ 2 13:41:07\r\n",
        "\r\n"
      ]
    },
    {
      "cell_type": "code",
      "metadata": {
        "id": "xphwnj-mDu4F"
      },
      "source": [
        "time2 = '13:41:07'"
      ],
      "execution_count": null,
      "outputs": []
    },
    {
      "cell_type": "code",
      "metadata": {
        "colab": {
          "base_uri": "https://localhost:8080/"
        },
        "id": "eKmTEsAzFG7_",
        "outputId": "3d2bac10-94ab-4b7d-cb3d-a8ef1fc10122"
      },
      "source": [
        "time2.split(':')"
      ],
      "execution_count": null,
      "outputs": [
        {
          "output_type": "execute_result",
          "data": {
            "text/plain": [
              "['13', '41', '07']"
            ]
          },
          "metadata": {
            "tags": []
          },
          "execution_count": 43
        }
      ]
    },
    {
      "cell_type": "code",
      "metadata": {
        "colab": {
          "base_uri": "https://localhost:8080/"
        },
        "id": "bwjeG4YbFLvf",
        "outputId": "a9427095-bf3c-4c1e-d424-b6f47b339d42"
      },
      "source": [
        "list_b = time2.split(':')\r\n",
        "print(list_b)"
      ],
      "execution_count": null,
      "outputs": [
        {
          "output_type": "stream",
          "text": [
            "['13', '41', '07']\n"
          ],
          "name": "stdout"
        }
      ]
    },
    {
      "cell_type": "code",
      "metadata": {
        "colab": {
          "base_uri": "https://localhost:8080/"
        },
        "id": "iPeaHRNmFeE8",
        "outputId": "3bdb6cc7-af9e-428c-ae3a-e942087eaf61"
      },
      "source": [
        "list_b[0] \r\n",
        "int(list_b[0]) * 3600"
      ],
      "execution_count": 64,
      "outputs": [
        {
          "output_type": "execute_result",
          "data": {
            "text/plain": [
              "46800"
            ]
          },
          "metadata": {
            "tags": []
          },
          "execution_count": 64
        }
      ]
    },
    {
      "cell_type": "code",
      "metadata": {
        "id": "VXjU-Tc2TMy7"
      },
      "source": [
        "A = int(list_b[0]) * 3600"
      ],
      "execution_count": 65,
      "outputs": []
    },
    {
      "cell_type": "code",
      "metadata": {
        "colab": {
          "base_uri": "https://localhost:8080/"
        },
        "id": "CUilYZzGTf1e",
        "outputId": "9ea3fe07-60c1-4c58-dfd7-9fb9affebc15"
      },
      "source": [
        "list_b[1] \r\n",
        "int(list_b[1]) * 60"
      ],
      "execution_count": 66,
      "outputs": [
        {
          "output_type": "execute_result",
          "data": {
            "text/plain": [
              "2460"
            ]
          },
          "metadata": {
            "tags": []
          },
          "execution_count": 66
        }
      ]
    },
    {
      "cell_type": "code",
      "metadata": {
        "id": "4Bs2nUY4TlNZ"
      },
      "source": [
        "B = int(list_b[1]) * 60"
      ],
      "execution_count": 70,
      "outputs": []
    },
    {
      "cell_type": "code",
      "metadata": {
        "colab": {
          "base_uri": "https://localhost:8080/"
        },
        "id": "Y4oBJqjkTtF6",
        "outputId": "0c0687a3-5c84-455b-c794-7deeb1048944"
      },
      "source": [
        "list_b[2]\r\n",
        "c = list_b[2]\r\n",
        "print(c)"
      ],
      "execution_count": 68,
      "outputs": [
        {
          "output_type": "stream",
          "text": [
            "07\n"
          ],
          "name": "stdout"
        }
      ]
    },
    {
      "cell_type": "code",
      "metadata": {
        "colab": {
          "base_uri": "https://localhost:8080/"
        },
        "id": "Hpj0_vzUTxe1",
        "outputId": "3a9c8d6d-93ad-4d4d-de1f-bf921fe90430"
      },
      "source": [
        "A+B+int(c)"
      ],
      "execution_count": 71,
      "outputs": [
        {
          "output_type": "execute_result",
          "data": {
            "text/plain": [
              "49267"
            ]
          },
          "metadata": {
            "tags": []
          },
          "execution_count": 71
        }
      ]
    },
    {
      "cell_type": "markdown",
      "metadata": {
        "id": "K0u3E9gQIhay"
      },
      "source": [
        "ตอบ 13:41:07 มี 49,267 วินาที"
      ]
    },
    {
      "cell_type": "markdown",
      "metadata": {
        "id": "RXY-n-l5UZKY"
      },
      "source": [
        "## ข้อ 3 12:53:15"
      ]
    },
    {
      "cell_type": "code",
      "metadata": {
        "id": "izZeFjNAUfKq"
      },
      "source": [
        "time3 = '12:53:15'"
      ],
      "execution_count": 74,
      "outputs": []
    },
    {
      "cell_type": "code",
      "metadata": {
        "colab": {
          "base_uri": "https://localhost:8080/"
        },
        "id": "tphf1qT1UnBB",
        "outputId": "5a61dce5-b818-44a0-ff0f-dd52aa77d8b3"
      },
      "source": [
        "time3.split(':')"
      ],
      "execution_count": 75,
      "outputs": [
        {
          "output_type": "execute_result",
          "data": {
            "text/plain": [
              "['12', '53', '15']"
            ]
          },
          "metadata": {
            "tags": []
          },
          "execution_count": 75
        }
      ]
    },
    {
      "cell_type": "code",
      "metadata": {
        "colab": {
          "base_uri": "https://localhost:8080/"
        },
        "id": "r-J_fbk0UwTu",
        "outputId": "9f8b56b3-3fd1-45b5-9008-7f0e930ce7da"
      },
      "source": [
        "list_c = time3.split(':')\r\n",
        "print(list_c)"
      ],
      "execution_count": 76,
      "outputs": [
        {
          "output_type": "stream",
          "text": [
            "['12', '53', '15']\n"
          ],
          "name": "stdout"
        }
      ]
    },
    {
      "cell_type": "code",
      "metadata": {
        "colab": {
          "base_uri": "https://localhost:8080/"
        },
        "id": "rI2cCyi7U6L2",
        "outputId": "c0d4b553-bd99-4d9f-f2c4-2e4ae03b9e59"
      },
      "source": [
        "list_c[0] \r\n",
        "int(list_c[0]) * 3600"
      ],
      "execution_count": 77,
      "outputs": [
        {
          "output_type": "execute_result",
          "data": {
            "text/plain": [
              "43200"
            ]
          },
          "metadata": {
            "tags": []
          },
          "execution_count": 77
        }
      ]
    },
    {
      "cell_type": "code",
      "metadata": {
        "id": "T9W13ookVBk2"
      },
      "source": [
        "A = int(list_c[0]) * 3600"
      ],
      "execution_count": 78,
      "outputs": []
    },
    {
      "cell_type": "code",
      "metadata": {
        "colab": {
          "base_uri": "https://localhost:8080/"
        },
        "id": "tCyse5agVKmT",
        "outputId": "89b8f8c1-d206-4f69-f02e-b1dc20aa29b0"
      },
      "source": [
        "list_c[1] \r\n",
        "int(list_c[1]) * 60"
      ],
      "execution_count": 79,
      "outputs": [
        {
          "output_type": "execute_result",
          "data": {
            "text/plain": [
              "3180"
            ]
          },
          "metadata": {
            "tags": []
          },
          "execution_count": 79
        }
      ]
    },
    {
      "cell_type": "code",
      "metadata": {
        "id": "aiqxwhh9VQHD"
      },
      "source": [
        "B = int(list_c[1]) * 60"
      ],
      "execution_count": 80,
      "outputs": []
    },
    {
      "cell_type": "code",
      "metadata": {
        "colab": {
          "base_uri": "https://localhost:8080/"
        },
        "id": "PPYsHWrgVWit",
        "outputId": "ac6fa0da-26e1-4bdc-99bb-c6d5abb6add4"
      },
      "source": [
        "list_c[2]\r\n",
        "c = list_c[2]\r\n",
        "print(c)"
      ],
      "execution_count": 81,
      "outputs": [
        {
          "output_type": "stream",
          "text": [
            "15\n"
          ],
          "name": "stdout"
        }
      ]
    },
    {
      "cell_type": "code",
      "metadata": {
        "colab": {
          "base_uri": "https://localhost:8080/"
        },
        "id": "5_e98HjyVn4r",
        "outputId": "53acb9b3-ed2e-4b04-ad9f-e6921a82bb22"
      },
      "source": [
        "A+B+int(c)"
      ],
      "execution_count": 82,
      "outputs": [
        {
          "output_type": "execute_result",
          "data": {
            "text/plain": [
              "46395"
            ]
          },
          "metadata": {
            "tags": []
          },
          "execution_count": 82
        }
      ]
    },
    {
      "cell_type": "markdown",
      "metadata": {
        "id": "y2_Mq8nWWxVc"
      },
      "source": [
        "ตอบ 12:53:15 มี 46,395 วินาที"
      ]
    },
    {
      "cell_type": "markdown",
      "metadata": {
        "id": "h6iJieMQXEN6"
      },
      "source": [
        "## ข้อ 4 00:59:25"
      ]
    },
    {
      "cell_type": "code",
      "metadata": {
        "id": "ji9Ta8LFXACI"
      },
      "source": [
        "time4 = '00:59:25'"
      ],
      "execution_count": 83,
      "outputs": []
    },
    {
      "cell_type": "code",
      "metadata": {
        "colab": {
          "base_uri": "https://localhost:8080/"
        },
        "id": "8ruiRyB4XW5C",
        "outputId": "540625e5-ff47-4014-9448-d9a603885032"
      },
      "source": [
        "time4.split(':')"
      ],
      "execution_count": 84,
      "outputs": [
        {
          "output_type": "execute_result",
          "data": {
            "text/plain": [
              "['00', '59', '25']"
            ]
          },
          "metadata": {
            "tags": []
          },
          "execution_count": 84
        }
      ]
    },
    {
      "cell_type": "code",
      "metadata": {
        "colab": {
          "base_uri": "https://localhost:8080/"
        },
        "id": "-noMVkW4XdLQ",
        "outputId": "8383fab8-db25-464b-be70-8802583e3ecf"
      },
      "source": [
        "list_d = time4.split(':')\r\n",
        "print(list_d)"
      ],
      "execution_count": 85,
      "outputs": [
        {
          "output_type": "stream",
          "text": [
            "['00', '59', '25']\n"
          ],
          "name": "stdout"
        }
      ]
    },
    {
      "cell_type": "markdown",
      "metadata": {
        "id": "jcSo6PyBYPwe"
      },
      "source": [
        "ไม่คิดหน่วยเวลาที่เป็นชั่วโมง เพราะ เท่ากับ 0"
      ]
    },
    {
      "cell_type": "code",
      "metadata": {
        "colab": {
          "base_uri": "https://localhost:8080/"
        },
        "id": "7MrQGKcvXmxG",
        "outputId": "2038e0ee-408d-4a9c-eea8-1c4c50c88723"
      },
      "source": [
        "list_d[1] \r\n",
        "int(list_d[1]) * 60"
      ],
      "execution_count": 86,
      "outputs": [
        {
          "output_type": "execute_result",
          "data": {
            "text/plain": [
              "3540"
            ]
          },
          "metadata": {
            "tags": []
          },
          "execution_count": 86
        }
      ]
    },
    {
      "cell_type": "code",
      "metadata": {
        "id": "dweoZm9fXwGe"
      },
      "source": [
        "B = int(list_d[1]) * 60"
      ],
      "execution_count": 87,
      "outputs": []
    },
    {
      "cell_type": "code",
      "metadata": {
        "colab": {
          "base_uri": "https://localhost:8080/"
        },
        "id": "-CYDN4zfX9Cq",
        "outputId": "d8f46b96-468e-4635-801c-d15aef06a8be"
      },
      "source": [
        "list_d[2]\r\n",
        "c = list_d[2]\r\n",
        "print(c)"
      ],
      "execution_count": 89,
      "outputs": [
        {
          "output_type": "stream",
          "text": [
            "25\n"
          ],
          "name": "stdout"
        }
      ]
    },
    {
      "cell_type": "code",
      "metadata": {
        "colab": {
          "base_uri": "https://localhost:8080/"
        },
        "id": "dwD00T8OYIEs",
        "outputId": "9d9fbf17-d9fa-4299-8c59-50e068db364d"
      },
      "source": [
        "B+int(c)"
      ],
      "execution_count": 90,
      "outputs": [
        {
          "output_type": "execute_result",
          "data": {
            "text/plain": [
              "3565"
            ]
          },
          "metadata": {
            "tags": []
          },
          "execution_count": 90
        }
      ]
    },
    {
      "cell_type": "markdown",
      "metadata": {
        "id": "Ry8aQ2voYpo9"
      },
      "source": [
        "ตอบ 00:59:25 มี 3,565 วินาที"
      ]
    },
    {
      "cell_type": "markdown",
      "metadata": {
        "id": "MohzagrvY8JX"
      },
      "source": [
        "## ข้อ 5 11:11:11"
      ]
    },
    {
      "cell_type": "code",
      "metadata": {
        "id": "_6FUdhqtY6uS"
      },
      "source": [
        "time5 = '11:11:11'"
      ],
      "execution_count": 91,
      "outputs": []
    },
    {
      "cell_type": "code",
      "metadata": {
        "colab": {
          "base_uri": "https://localhost:8080/"
        },
        "id": "ss0ln2BSZPYA",
        "outputId": "80d1fdf4-629a-410f-dd62-ce4cb452443c"
      },
      "source": [
        "time5.split(':')"
      ],
      "execution_count": 92,
      "outputs": [
        {
          "output_type": "execute_result",
          "data": {
            "text/plain": [
              "['11', '11', '11']"
            ]
          },
          "metadata": {
            "tags": []
          },
          "execution_count": 92
        }
      ]
    },
    {
      "cell_type": "code",
      "metadata": {
        "colab": {
          "base_uri": "https://localhost:8080/"
        },
        "id": "iYXA3NZyZUSd",
        "outputId": "e3ec90f5-56e0-4612-8a57-64db49a521a6"
      },
      "source": [
        "list_e = time5.split(':')\r\n",
        "print(list_e)"
      ],
      "execution_count": 93,
      "outputs": [
        {
          "output_type": "stream",
          "text": [
            "['11', '11', '11']\n"
          ],
          "name": "stdout"
        }
      ]
    },
    {
      "cell_type": "code",
      "metadata": {
        "colab": {
          "base_uri": "https://localhost:8080/"
        },
        "id": "VtCP6Px5ZbLE",
        "outputId": "affc9027-8490-4f67-b6c8-d7b450674579"
      },
      "source": [
        "list_e[0] \r\n",
        "int(list_e[0]) * 3600"
      ],
      "execution_count": 94,
      "outputs": [
        {
          "output_type": "execute_result",
          "data": {
            "text/plain": [
              "39600"
            ]
          },
          "metadata": {
            "tags": []
          },
          "execution_count": 94
        }
      ]
    },
    {
      "cell_type": "code",
      "metadata": {
        "id": "1rZQxC1-ZiS1"
      },
      "source": [
        "A = int(list_e[0]) * 3600"
      ],
      "execution_count": 95,
      "outputs": []
    },
    {
      "cell_type": "code",
      "metadata": {
        "colab": {
          "base_uri": "https://localhost:8080/"
        },
        "id": "Fr1j2_N-ZpiW",
        "outputId": "4ac90dda-d1bb-4ccf-d5f5-05ec36c3abf4"
      },
      "source": [
        "list_e[1] \r\n",
        "int(list_e[1]) * 60"
      ],
      "execution_count": 96,
      "outputs": [
        {
          "output_type": "execute_result",
          "data": {
            "text/plain": [
              "660"
            ]
          },
          "metadata": {
            "tags": []
          },
          "execution_count": 96
        }
      ]
    },
    {
      "cell_type": "code",
      "metadata": {
        "id": "su6bMKfAZxLX"
      },
      "source": [
        "B = int(list_e[1]) * 60"
      ],
      "execution_count": 97,
      "outputs": []
    },
    {
      "cell_type": "code",
      "metadata": {
        "colab": {
          "base_uri": "https://localhost:8080/"
        },
        "id": "BN1-0o7TZ29-",
        "outputId": "ddbc79eb-f638-4c51-edbf-982610c28369"
      },
      "source": [
        "list_e[2]\r\n",
        "c = list_e[2]\r\n",
        "print(c)"
      ],
      "execution_count": 98,
      "outputs": [
        {
          "output_type": "stream",
          "text": [
            "11\n"
          ],
          "name": "stdout"
        }
      ]
    },
    {
      "cell_type": "code",
      "metadata": {
        "colab": {
          "base_uri": "https://localhost:8080/"
        },
        "id": "GEeeb6DpZ9AT",
        "outputId": "66e17f7a-248c-4e75-c611-fb24976c0dfa"
      },
      "source": [
        "A+B+int(c)"
      ],
      "execution_count": 99,
      "outputs": [
        {
          "output_type": "execute_result",
          "data": {
            "text/plain": [
              "40271"
            ]
          },
          "metadata": {
            "tags": []
          },
          "execution_count": 99
        }
      ]
    },
    {
      "cell_type": "markdown",
      "metadata": {
        "id": "k8Q5aqQAaJAn"
      },
      "source": [
        "ตอบ 11:11:11 มี 40,271 วินาที"
      ]
    },
    {
      "cell_type": "markdown",
      "metadata": {
        "id": "apTJnqmZaat_"
      },
      "source": [
        "## ข้อ 6 16:06:09\r\n"
      ]
    },
    {
      "cell_type": "code",
      "metadata": {
        "id": "fMq6pGnbaX3O"
      },
      "source": [
        "time6 = '16:06:09'"
      ],
      "execution_count": 100,
      "outputs": []
    },
    {
      "cell_type": "code",
      "metadata": {
        "colab": {
          "base_uri": "https://localhost:8080/"
        },
        "id": "BhZxUTEzbUkO",
        "outputId": "4e28937f-03ea-4334-cf31-d16ada553784"
      },
      "source": [
        "time6.split(':')"
      ],
      "execution_count": 101,
      "outputs": [
        {
          "output_type": "execute_result",
          "data": {
            "text/plain": [
              "['16', '06', '09']"
            ]
          },
          "metadata": {
            "tags": []
          },
          "execution_count": 101
        }
      ]
    },
    {
      "cell_type": "code",
      "metadata": {
        "colab": {
          "base_uri": "https://localhost:8080/"
        },
        "id": "cvKNWY6ZbZdt",
        "outputId": "62962541-9ae9-4d7a-a451-14713a227b6a"
      },
      "source": [
        "list_g = time6.split(':')\r\n",
        "print(list_g)"
      ],
      "execution_count": 102,
      "outputs": [
        {
          "output_type": "stream",
          "text": [
            "['16', '06', '09']\n"
          ],
          "name": "stdout"
        }
      ]
    },
    {
      "cell_type": "code",
      "metadata": {
        "colab": {
          "base_uri": "https://localhost:8080/"
        },
        "id": "q9rwsEzXbiPN",
        "outputId": "1ea78d2e-9f33-4ff4-c1e7-d75a0845e452"
      },
      "source": [
        "list_g[0] \r\n",
        "int(list_g[0]) * 3600"
      ],
      "execution_count": 103,
      "outputs": [
        {
          "output_type": "execute_result",
          "data": {
            "text/plain": [
              "57600"
            ]
          },
          "metadata": {
            "tags": []
          },
          "execution_count": 103
        }
      ]
    },
    {
      "cell_type": "code",
      "metadata": {
        "id": "0XPFlX_pbrDV"
      },
      "source": [
        "A = int(list_g[0]) * 3600"
      ],
      "execution_count": 104,
      "outputs": []
    },
    {
      "cell_type": "code",
      "metadata": {
        "colab": {
          "base_uri": "https://localhost:8080/"
        },
        "id": "3dc429vebw4E",
        "outputId": "57a01d68-e7ee-48ca-b3ab-aa45307ff263"
      },
      "source": [
        "list_g[1] \r\n",
        "int(list_g[1]) * 60"
      ],
      "execution_count": 105,
      "outputs": [
        {
          "output_type": "execute_result",
          "data": {
            "text/plain": [
              "360"
            ]
          },
          "metadata": {
            "tags": []
          },
          "execution_count": 105
        }
      ]
    },
    {
      "cell_type": "code",
      "metadata": {
        "id": "Ug7oxpEzb3Qu"
      },
      "source": [
        "B = int(list_g[1]) * 60"
      ],
      "execution_count": 106,
      "outputs": []
    },
    {
      "cell_type": "code",
      "metadata": {
        "colab": {
          "base_uri": "https://localhost:8080/"
        },
        "id": "LDjQLuZib9_J",
        "outputId": "f0bf7d73-c4a6-44d4-940a-48930dc787d9"
      },
      "source": [
        "list_g[2]\r\n",
        "c = list_g[2]\r\n",
        "print(c)"
      ],
      "execution_count": 107,
      "outputs": [
        {
          "output_type": "stream",
          "text": [
            "09\n"
          ],
          "name": "stdout"
        }
      ]
    },
    {
      "cell_type": "code",
      "metadata": {
        "colab": {
          "base_uri": "https://localhost:8080/"
        },
        "id": "RBL-ItUtcGIV",
        "outputId": "099cceb3-eaa3-4dac-a89d-89a5d7412adc"
      },
      "source": [
        "A+B+int(c)"
      ],
      "execution_count": 108,
      "outputs": [
        {
          "output_type": "execute_result",
          "data": {
            "text/plain": [
              "57969"
            ]
          },
          "metadata": {
            "tags": []
          },
          "execution_count": 108
        }
      ]
    },
    {
      "cell_type": "markdown",
      "metadata": {
        "id": "rTghbzhAcQXj"
      },
      "source": [
        "ตอบ 16:06:09 มี 57,969 วินาที"
      ]
    }
  ]
}